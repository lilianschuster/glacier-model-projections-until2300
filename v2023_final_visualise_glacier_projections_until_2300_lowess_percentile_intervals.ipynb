{
 "cells": [
  {
   "cell_type": "markdown",
   "id": "8894ed6d",
   "metadata": {},
   "source": [
    "# Notebook to visualise the glacier projections until 2300 of different large-scale glacier models \n",
    "## The created figures are for the ICCI report 2023"
   ]
  },
  {
   "cell_type": "code",
   "execution_count": 1,
   "id": "3112c6b5",
   "metadata": {},
   "outputs": [],
   "source": [
    "# We use the moepy package to compute lowess prediction intervals with bootstrapping methods\n",
    "# but we don't need it for this notebook, as we precomputed them with \n",
    "# the notebook \"glacier-model-standard-projections/lowess_percentile_interval_fit_per_region.py\"\n",
    "# to use moepy, do: \n",
    "# pip install moepy\n",
    "# https://ayrtonb.github.io/Merit-Order-Effect/\n",
    "# from moepy import lowess, eda"
   ]
  },
  {
   "cell_type": "code",
   "execution_count": 8,
   "id": "ef77308f",
   "metadata": {},
   "outputs": [],
   "source": [
    "import pandas as pd\n",
    "import numpy as np\n",
    "import xarray as xr\n",
    "import matplotlib.pyplot as plt\n",
    "import matplotlib\n",
    "import seaborn as sns\n",
    "import os\n",
    "matplotlib.rcParams['figure.figsize'] = (14, 8)"
   ]
  },
  {
   "cell_type": "code",
   "execution_count": 9,
   "id": "a108d70d",
   "metadata": {},
   "outputs": [],
   "source": [
    "# region descriptions ...\n",
    "d_reg_num_name = {}\n",
    "d_reg_num_name['global'] = 'Global'\n",
    "d_reg_num_name['01'] = 'Alaska'\n",
    "d_reg_num_name['02'] = 'Western Canada & USA'\n",
    "d_reg_num_name['03'] = 'Arctic Canada North'\n",
    "d_reg_num_name['04'] = 'Arctic Canada South'\n",
    "d_reg_num_name['05'] = 'Greenland'\n",
    "d_reg_num_name['06'] = 'Iceland'\n",
    "d_reg_num_name['07'] = 'Svalbard and Jan Mayen'\n",
    "d_reg_num_name['08'] = 'Scandinavia'\n",
    "d_reg_num_name['09'] = 'Russian Arctic'\n",
    "d_reg_num_name['10'] = 'North Asia'\n",
    "d_reg_num_name['11'] = 'Central Europe'\n",
    "d_reg_num_name['12'] = 'Caucasus and Middle East'\n",
    "d_reg_num_name['13'] = 'Central Asia'\n",
    "d_reg_num_name['14'] = 'South Asia West'\n",
    "d_reg_num_name['15'] = 'South Asia East'\n",
    "d_reg_num_name['16'] = 'Low Latitudes'\n",
    "d_reg_num_name['17'] = 'Southern Andes'\n",
    "d_reg_num_name['18'] = 'New Zealand'\n",
    "d_reg_num_name['19'] = 'Antarctic and Subantarctic'\n",
    "\n",
    "d_reg_num_name_icci = {}\n",
    "d_reg_num_name_icci_reg = {'low-latitudes':['16'], 'mid-latitudes':['08', '11','02','18'], 'polar-hma':['06','13-14-15','01','04','17']}\n",
    "d_reg_num_name_icci_reg['Glaciers globally'] = ['global']\n",
    "\n",
    "d_reg_num_name_icci['global'] = 'Glaciers globally'\n",
    "d_reg_num_name_icci['01'] = 'Glaciers of Alaska'\n",
    "d_reg_num_name_icci['02'] = 'Glaciers of Western Canada & US'\n",
    "d_reg_num_name_icci['03'] = 'Glaciers of Arctic Canada (North)'\n",
    "d_reg_num_name_icci['04'] = 'Glaciers of Arctic Canada (South)'\n",
    "d_reg_num_name_icci['05'] = 'Glaciers of Greenland'\n",
    "d_reg_num_name_icci['06'] = 'Glaciers of Iceland'\n",
    "d_reg_num_name_icci['07'] = 'Glaciers of Svalbard and Jan Mayen'\n",
    "d_reg_num_name_icci['08'] = 'Glaciers of Scandinavia'\n",
    "d_reg_num_name_icci['09'] = 'Glaciers of Russian Arctic'\n",
    "d_reg_num_name_icci['10'] = 'Glaciers of North Asia'\n",
    "d_reg_num_name_icci['11'] = 'Glaciers of the Alps'\n",
    "d_reg_num_name_icci['12'] = 'Glaciers of Caucasus and Middle East'\n",
    "d_reg_num_name_icci['13'] = 'Glaciers of Central Asia'\n",
    "d_reg_num_name_icci['13-14-15'] = 'Glaciers of High Mountain Asia'\n",
    "d_reg_num_name_icci['14'] = 'Glaciers of South Asia West'\n",
    "d_reg_num_name_icci['15'] = 'Glaciers of South Asia East'\n",
    "d_reg_num_name_icci['16'] = 'Tropical Glaciers'\n",
    "d_reg_num_name_icci['17'] = 'Glaciers of Patagonia & Southern Andes'\n",
    "d_reg_num_name_icci['18'] = 'Glaciers of New Zealand'\n",
    "d_reg_num_name_icci['19'] = 'Glaciers of Antarctic and Subantarctic'"
   ]
  },
  {
   "cell_type": "markdown",
   "id": "e23e35a0",
   "metadata": {},
   "source": [
    "We have extracted the global climate change data in another notebook:\n",
    "- click on this link to see it: https://nbviewer.org/urls/cluster.klima.uni-bremen.de/~oggm/oggm-standard-projections/analysis_notebooks/global_gcm_climate_cmip6_cmip5.ipynb\n"
   ]
  },
  {
   "cell_type": "code",
   "execution_count": null,
   "id": "84c62dbc-781a-4782-acd5-61d7ee5e4f5a",
   "metadata": {},
   "outputs": [],
   "source": [
    "\n",
    "# load global mean temperature change files \n",
    "# this is how we extracted the global climate change data from:\n",
    "# https://cluster.klima.uni-bremen.de/~oggm/oggm-standard-projections/analysis_notebooks/global_gcm_climate_cmip6_cmip5.ipynb\n",
    "# note that the global mean temperature (GMT) changes have been computed by using the assumption that GMT changed from 1850-1900 to 1986-2005 by 0.63°C \n",
    "# (this is the assumption used by the IPCC SROCC -> --> https://www.ipcc.ch/srocc/chapter/summary-for-policymakers/\n",
    "# IPCC, 2019: Summary for Policymakers. In: IPCC Special Report on the Ocean and Cryosphere in a Changing Climate [H.-O. Pörtner, D.C. Roberts, V. Masson-Delmotte,\n",
    "# P. Zhai, M. Tignor, E. Poloczanska, K. Mintenbeck, A. Alegría, M. Nicolai, A. Okem, J. Petzold, B. Rama, N.M. Weyer (eds.)]. In press.\n",
    "# -> future follow-up studies should use the updated estimates (e.g. IPCC AR6 WG1 updated the methods and found a GMT change of 0.69°C from 1850-1900 and 1986-2005)\n",
    "try:\n",
    "    import oggm\n",
    "    dpath = 'https://cluster.klima.uni-bremen.de/~oggm/oggm-standard-projections/analysis_notebooks'\n",
    "    _file_cmip5 = oggm.utils.file_downloader(f'{dpath}/Global_mean_temp_deviation_2071_2100_2081_2100_2271_2300_2281_2300_rel_1850_1900_cmip5_gcms.csv',\n",
    "                                             reset=True)\n",
    "    _file_cmip6 = oggm.utils.file_downloader(f'{dpath}/Global_mean_temp_deviation_2071_2100_2081_2100_2271_2300_2281_2300_rel_1850_1900_cmip6_gcms.csv',\n",
    "                                             reset=True)\n",
    "except:\n",
    "    # you can also just download the file, \n",
    "    # e.g. via https://cluster.klima.uni-bremen.de/~oggm/oggm-standard-projections/analysis_notebooks/Global_mean_temp_deviation_2071_2100_2081_2100_2271_2300_2281_2300_rel_1850_1900_cmip5_gcms.csv\n",
    "    # and via https://cluster.klima.uni-bremen.de/~oggm/oggm-standard-projections/analysis_notebooks/Global_mean_temp_deviation_2071_2100_2081_2100_2271_2300_2281_2300_rel_1850_1900_cmip6_gcms.csv' \n",
    "    # change this path to your local path \n",
    "    _file_cmip5 = 'change_to_local_path'\n",
    "    _file_cmip6 = 'change_to_local_path'  \n",
    "    \n",
    "pd_cmip5_temp_ch_2100 = pd.read_csv(_file_cmip5, index_col=0)\n",
    "pd_cmip5_temp_ch_2100['cmip'] = 'CMIP5'\n",
    "pd_cmip6_temp_ch_2100 = pd.read_csv(_file_cmip6, index_col=0)\n",
    "pd_cmip6_temp_ch_2100['cmip'] = 'CMIP6'\n",
    "\n",
    "pd_cmip_temp_ch_2100 = pd.concat([pd_cmip6_temp_ch_2100, pd_cmip5_temp_ch_2100])\n",
    "pd_cmip_temp_ch_2100 = pd_cmip_temp_ch_2100.loc[pd_cmip_temp_ch_2100.ssp != 'ssp534-over']\n",
    "pd_cmip_temp_ch_2100_gcm_until_2300 = pd_cmip_temp_ch_2100.loc[pd_cmip_temp_ch_2100['global_temp_ch_2271-2300_preindustrial'].dropna().index]\n",
    "\n",
    "from sklearn.preprocessing import MinMaxScaler\n",
    "data_temp = pd_cmip_temp_ch_2100_gcm_until_2300['global_temp_ch_2071-2100_preindustrial'].values.reshape(1,-1).T\n",
    "scaler = MinMaxScaler()\n",
    "scaler.fit(data_temp)\n",
    "t_min, t_max = pd_cmip_temp_ch_2100_gcm_until_2300['global_temp_ch_2071-2100_preindustrial'].min(), pd_cmip_temp_ch_2100_gcm_until_2300['global_temp_ch_2071-2100_preindustrial'].max()\n",
    "print(t_min, t_max)\n"
   ]
  },
  {
   "cell_type": "code",
   "execution_count": 11,
   "id": "c2b08aa6",
   "metadata": {},
   "outputs": [
    {
     "data": {
      "image/png": "[encoded data removed]",
      "text/html": [
       "<div style=\"vertical-align: middle;\"><strong>bins_100</strong> </div><div class=\"cmap\"><img alt=\"bins_100 colormap\" title=\"bins_100\" style=\"border: 1px solid #555;\" src=\"data:image/png;base64,iVBORw0KGgoAAAANSUhEUgAAAgAAAABACAYAAABsv8+/AAAAF3RFWHRUaXRsZQBiaW5zXzEwMCBjb2xvcm1hcLv0aLkAAAAddEVYdERlc2NyaXB0aW9uAGJpbnNfMTAwIGNvbG9ybWFwkoqPkAAAADB0RVh0QXV0aG9yAE1hdHBsb3RsaWIgdjMuNy4xLCBodHRwczovL21hdHBsb3RsaWIub3JnKq/4TQAAADJ0RVh0U29mdHdhcmUATWF0cGxvdGxpYiB2My43LjEsIGh0dHBzOi8vbWF0cGxvdGxpYi5vcmcECWdqAAAB7UlEQVR4nO3WXVKDMBiG0S/tVt2Sy3QHSryAlhSh1hn/Zt5zekFIQkCvnvb0/NJbTXVqb3Vqr8t1Hp/bW53qYH6z/zzuqXXc2rTsX+bqC+cMz+zNX89+8Btvzq/7723Vb85p1at6zXp9HN9bO9r3nWf9xrmPjGsz3pv76fHR+j/4xj5V1dSq9zZfp1bVa75e79t632u9H/eNz1/27a0dPXOZ/+zsnfnxfZ+ePe4b/67Dd17+XX3+9eV6mdm5X/deR8Pe7XPLXN/u255Zd9fHtcO9N+9cv68O1x/7Xvgup7/+AADg9wkAAAgkAAAgkAAAgEACAAACCQAACCQAACCQAACAQAIAAAIJAAAIJAAAIJAAAIBAAgAAAgkAAAgkAAAgkAAAgEACAAACCQAACCQAACCQAACAQAIAAAIJAAAIJAAAIJAAAIBAAgAAAgkAAAgkAAAgkAAAgEACAAACCQAACCQAACCQAACAQAIAAAIJAAAIJAAAIJAAAIBAAgAAAgkAAAgkAAAgkAAAgEACAAACCQAACCQAACCQAACAQAIAAAIJAAAIJAAAIJAAAIBAAgAAAgkAAAgkAAAgkAAAgEACAAACCQAACCQAACCQAACAQAIAAAIJAAAIJAAAIJAAAIBAAgAAAgkAAAgkAAAg0Dto95IohqGAwQAAAABJRU5ErkJggg==\"></div><div style=\"vertical-align: middle; max-width: 514px; display: flex; justify-content: space-between;\"><div style=\"float: left;\"><div title=\"#6495edff\" style=\"display: inline-block; width: 1em; height: 1em; margin: 0; vertical-align: middle; border: 1px solid #555; background-color: #6495edff;\"></div> under</div><div style=\"margin: 0 auto; display: inline-block;\">bad <div title=\"#00000000\" style=\"display: inline-block; width: 1em; height: 1em; margin: 0; vertical-align: middle; border: 1px solid #555; background-color: #00000000;\"></div></div><div style=\"float: right;\">over <div title=\"#980002ff\" style=\"display: inline-block; width: 1em; height: 1em; margin: 0; vertical-align: middle; border: 1px solid #555; background-color: #980002ff;\"></div></div>"
      ],
      "text/plain": [
       "<matplotlib.colors.LinearSegmentedColormap at 0x7fbf6d71ad90>"
      ]
     },
     "execution_count": 11,
     "metadata": {},
     "output_type": "execute_result"
    }
   ],
   "source": [
    "######################\n",
    "\n",
    "from scipy.optimize import curve_fit\n",
    "\n",
    "# the exponential decay fit is just to compare to the LOWESS fit (but we only use it in the appendix_fit figures)\n",
    "def exponential_decay(x, a, b):\n",
    "    # avoind overflow -> does not work ... \n",
    "    exp_values = -b * x\n",
    "    #exp_values = np.clip(exp_values, -709, 709)  # Clip values to avoid overflow\n",
    "    return a * np.exp(exp_values) #+ c * np.exp(-d * x**2)#**c \n",
    "\n",
    "\n",
    "param_bounds = ([0, 0], [2000, 5])\n",
    "\n",
    "rgi_regs_global = ['global','01', '02', '03', '04', '05', '06', '07',\n",
    "                   '08', '09', '10', '11', '12', '13', '14', '15',\n",
    "                   '16', '17', '18', '19']\n",
    "rgi_regs_global.append('13-14-15')\n",
    "path_oggm = 'glacier_model_csv_files/OGGM/'\n",
    "path_glogem = 'glacier_model_csv_files/GloGEM/'\n",
    "path_pygem =  'glacier_model_csv_files/PyGEM-OGGM/'\n",
    "\n",
    "path_d = {}\n",
    "path_d['OGGM']  = path_oggm\n",
    "path_d['GloGEM'] = path_glogem\n",
    "path_d['PyGEM-OGGM'] = path_pygem\n",
    "\n",
    "# we sort it here into temperature levels, but we only use it internally to do the plots \n",
    "colors_temp_values = {'<=+1.5°C':1.5,'<=+2.0°C':2.0,'<=+3.0°C':3.0, '<=+4.0°C':4.0} #, '>4.0°C':5.0}\n",
    "colors_temp = {'<=+1.5°C':'cyan','<=+2.0°C':'blue','<=+3.0°C':'orange', '<=+4.0°C':'red', '>4.0°C':'purple'}\n",
    "\n",
    "from matplotlib.colors import LinearSegmentedColormap\n",
    "colors_temp4_l = ['cornflowerblue', 'gold', 'orange', 'darkorange', 'crimson', '#980002', '#980002', '#980002']\n",
    "cmap_blue_orange = LinearSegmentedColormap.from_list('bins_100',colors_temp4_l, N=1000)\n",
    "cmap_blue_orange"
   ]
  },
  {
   "cell_type": "code",
   "execution_count": 12,
   "id": "e712bd75",
   "metadata": {},
   "outputs": [],
   "source": [
    "# this just had to be done once, and can be skipped afterwards\n",
    "### Create all globally\n",
    "create_glogem_globally = False\n",
    "if create_glogem_globally:\n",
    "    # globally: sum over all RGI regions\n",
    "    from oggm.utils import mkdir\n",
    "\n",
    "    ssps_2300 = ['ssp126','ssp534-over', 'ssp585']\n",
    "    for var in ['volume', 'area']:\n",
    "        cmip == 'CMIP6' \n",
    "        end_years = [2300]\n",
    "        for end_year in end_years:\n",
    "            odir = f'{path_glogem}{var}/{cmip}/{end_year}/global/'\n",
    "            mkdir(odir)\n",
    "            for scenario in ssps_2300:\n",
    "                odf = 0\n",
    "                for n in np.arange(1,20,1):\n",
    "                    rgi_reg = f'RGI{n:02d}'\n",
    "                    idir = f'{path_glogem}{var}/{cmip}/{end_year}/{rgi_reg}/'\n",
    "                    df = pd.read_csv(idir + f'/{scenario}.csv', index_col=0)\n",
    "                    odf += df\n",
    "                odf.to_csv(odir + f'/{scenario}.csv')\n",
    "\n",
    "### Create all  models global_no_rgi05_rgi19\n",
    "create_global_no_rgi05_rgi19 = False\n",
    "if create_global_no_rgi05_rgi19:\n",
    "    # globally: sum over all RGI regions\n",
    "    from oggm.utils import mkdir\n",
    "\n",
    "    ssps_2300 = ['ssp126','ssp534-over', 'ssp585']\n",
    "    \n",
    "    for m in path_d.keys():\n",
    "        path_model = path_d[m]\n",
    "        for var in ['volume']:\n",
    "            cmip == 'CMIP6' \n",
    "            end_years = [2300]\n",
    "            for end_year in end_years:\n",
    "                odir = f'{path_model}{var}/{cmip}/{end_year}/global_no_rgi05_rgi19/'\n",
    "                mkdir(odir)\n",
    "                for scenario in ssps_2300:\n",
    "                    odf = 0\n",
    "                    for n in [ 1,  2,  3,  4,  #5,\n",
    "                              6,  7,  8,  9, 10, 11, 12, 13, 14, 15, 16, 17, 18, #19\n",
    "                              ]:\n",
    "                        rgi_reg = f'RGI{n:02d}'\n",
    "                        idir = f'{path_glogem}{var}/{cmip}/{end_year}/{rgi_reg}/'\n",
    "                        df = pd.read_csv(idir + f'/{scenario}.csv', index_col=0)\n",
    "                        odf += df\n",
    "                    odf.to_csv(odir + f'/{scenario}.csv')\n"
   ]
  },
  {
   "cell_type": "markdown",
   "id": "ead75d16",
   "metadata": {},
   "source": [
    "**lowess fits with MoePy**"
   ]
  },
  {
   "cell_type": "code",
   "execution_count": 13,
   "id": "f412fc79",
   "metadata": {},
   "outputs": [],
   "source": [
    "# this is just an algorithm to select the lowess \"frac\"- parameter,\n",
    "# which basiclly describes the fraction in-between which linearity is assumed\n",
    "# we use this algorithm together with some expert knowledge choices\n",
    "def select_frac_alg(sel_it, sim_year=2100):            \n",
    "    repeat = True\n",
    "    problem = False\n",
    "    diff_min = 0\n",
    "    min_add_q50 = 0\n",
    "    while repeat:\n",
    "        _sel = sel_it.loc[sel_it.year == sim_year].copy()\n",
    "        if sim_year == 2300:\n",
    "            # brute-force, rather try not to be completely linear for year 2300 \n",
    "            _sel = _sel.loc[_sel.frac<=0.75]\n",
    "\n",
    "        # also make sure to select a non-negative median\n",
    "        # this does NOT work in some regions, we have to clip negative values afterwards ... \n",
    "        _sel = _sel.loc[(_sel['min_q50']>= -1+min_add_q50) | (_sel['min_q50'] >= _sel['min_q50'].max())]\n",
    "\n",
    "        # first choose only those fracs that somehow are the most \"monotonic\" decreasing \n",
    "        min_q_diff = _sel[['min_q05_diff','min_q25_diff','min_q50_diff','min_q75_diff','min_q95_diff']].min(axis=1)\n",
    "\n",
    "        _sel.loc[min_q_diff.index,'min_q_diff'] = min_q_diff.values\n",
    "        max_min_q_diff = _sel['min_q_diff'].max()\n",
    "        # we add -0.2 to allow not only the best \"frac\", but also others ... \n",
    "        _sel = _sel.loc[_sel['min_q_diff'] >= max_min_q_diff-0.2]\n",
    "\n",
    "        _sel = _sel.loc[_sel.min_q50_diff>=-0.01-diff_min/5]\n",
    "        _sel = _sel.loc[_sel.min_q95_diff>=-0.01-diff_min]\n",
    "        _sel = _sel.loc[_sel.min_q75_diff>=-0.01-diff_min]\n",
    "        _sel = _sel.loc[_sel.min_q25_diff>=-0.01-diff_min]\n",
    "        _sel = _sel.loc[_sel.min_q05_diff>=-0.01-diff_min]\n",
    "\n",
    "        _val = _sel.min_q50_diff.max() if _sel.min_q50_diff.max() <=0 else 0\n",
    "        _sel = _sel.loc[_sel.min_q50_diff >=_val*1.01]\n",
    "\n",
    "        _val = _sel.min_q50.max() if _sel.min_q50.max() <=0 else 0\n",
    "        _sel = _sel.loc[_sel.min_q50 >=_val]\n",
    "        _val = _sel.min_q05.max() if _sel.min_q05.max()<=0 else 0\n",
    "        _sel = _sel.loc[_sel.min_q05 >=_val]\n",
    "        if len(_sel) == 97:\n",
    "            frac = np.round(_sel.frac.unique(),2)[0]\n",
    "            repeat = False\n",
    "\n",
    "        elif len(_sel)>97:\n",
    "            frac = np.round(_sel.frac.unique().max(),2)\n",
    "            _sel = _sel.loc[_sel.frac == _sel.frac.unique().max()]\n",
    "            repeat = False\n",
    "        else:\n",
    "            repeat = True\n",
    "            diff_min = diff_min + 0.01\n",
    "        if max_min_q_diff <-0.35:\n",
    "            repeat =True\n",
    "            min_add_q50 -= 0.5\n",
    "            if min_add_q50 < -5:\n",
    "                repeat = False\n",
    "                #frac = np.round(_sel.frac.unique().max(),2)\n",
    "                #_sel = _sel.loc[_sel.frac == _sel.frac.unique().max()]\n",
    "                problem = True\n",
    "\n",
    "    repeat = True\n",
    "    while problem:\n",
    "        print(rgi_reg, 'problem')\n",
    "        problem = False\n",
    "        diff_min = 0\n",
    "        min_add_q50 = 0\n",
    "        while repeat:\n",
    "            _sel = sel_it.loc[sel_it.year == sim_year].copy()\n",
    "            if sim_year == 2300:\n",
    "                # brute-force, ok, let's be a bit \"more\" linear\n",
    "                _sel = _sel.loc[_sel.frac<=0.85]\n",
    "\n",
    "            # also make sure to select a non-negative median\n",
    "            # this does NOT work in some regions, we have to clip negative values afterwards ... \n",
    "            _sel = _sel.loc[(_sel['min_q50']>= -2+min_add_q50) | (_sel['min_q50'] >= _sel['min_q50'].max())]\n",
    "\n",
    "            # first choose only those fracs that somehow are the most \"monotonic\" decreasing \n",
    "            min_q_diff = _sel[['min_q05_diff','min_q25_diff','min_q50_diff','min_q75_diff','min_q95_diff']].min(axis=1)\n",
    "\n",
    "            _sel.loc[min_q_diff.index,'min_q_diff'] = min_q_diff.values\n",
    "            max_min_q_diff = _sel['min_q_diff'].max()\n",
    "            # we add -0.2 to allow not only the best \"frac\", but also others ... \n",
    "            _sel = _sel.loc[_sel['min_q_diff'] >= max_min_q_diff-0.2]\n",
    "\n",
    "            _sel = _sel.loc[_sel.min_q50_diff>=-0.01-diff_min/5]\n",
    "            _sel = _sel.loc[_sel.min_q95_diff>=-0.01-diff_min]\n",
    "            _sel = _sel.loc[_sel.min_q75_diff>=-0.01-diff_min]\n",
    "            _sel = _sel.loc[_sel.min_q25_diff>=-0.01-diff_min]\n",
    "            _sel = _sel.loc[_sel.min_q05_diff>=-0.01-diff_min]\n",
    "\n",
    "            _val = _sel.min_q50_diff.max() if _sel.min_q50_diff.max() <=0 else 0\n",
    "            _sel = _sel.loc[_sel.min_q50_diff >=_val*1.01]\n",
    "\n",
    "            _val = _sel.min_q50.max() if _sel.min_q50.max() <=0 else 0\n",
    "            _sel = _sel.loc[_sel.min_q50 >=_val]\n",
    "            _val = _sel.min_q05.max() if _sel.min_q05.max()<=0 else 0\n",
    "            _sel = _sel.loc[_sel.min_q05 >=_val]\n",
    "            if len(_sel) == 97:\n",
    "                frac = np.round(_sel.frac.unique(),2)[0]\n",
    "                repeat = False\n",
    "\n",
    "            elif len(_sel)>97:\n",
    "                frac = np.round(_sel.frac.unique().max(),2)\n",
    "                _sel = _sel.loc[_sel.frac == _sel.frac.unique().max()]\n",
    "                repeat = False\n",
    "            else:\n",
    "                repeat = True\n",
    "                diff_min = diff_min + 0.02\n",
    "            if max_min_q_diff <-0.5:\n",
    "                repeat =True\n",
    "                min_add_q50 -= 0.5\n",
    "                if min_add_q50 < -5:\n",
    "                    repeat = False\n",
    "                    problem = True\n",
    "                    frac = np.NaN\n",
    "\n",
    "    print(rgi_reg, frac, min_add_q50, _sel['min_q50'].min(), max_min_q_diff)\n",
    "    return frac, _sel\n",
    "                "
   ]
  },
  {
   "cell_type": "markdown",
   "id": "770ae6fa",
   "metadata": {},
   "source": [
    "**first check the frac dependency, we have applied some expert knowledge in some regions (after having checked the frac dependency)**\n",
    "- decided by Fabien Maussion and Lilian Schuster"
   ]
  },
  {
   "cell_type": "code",
   "execution_count": 14,
   "id": "212564fd",
   "metadata": {},
   "outputs": [],
   "source": [
    "frac_2300_exp_decision = {'RGI03':0.95, 'RGI07':0.95, 'RGI09':0.8,   # RGI13 0.8 ok!\n",
    "                          'RGI12':0.63, 'RGI14':0.56, 'RGI15':0.5, 'RGI19':0.59,\n",
    "                          'RGI17':0.8, 'RGI18':0.8,'RGI02':0.8,  \n",
    "                          'RGI16':0.7, 'RGI11':0.6, 'RGI08':0.7}\n",
    "\n",
    "def select_frac_w_experts(sel_it, sim_year=2300):\n",
    "    region = sel_it.region.unique()[0]\n",
    "    if (region in frac_2300_exp_decision.keys()) and (sim_year == 2300):\n",
    "        frac = frac_2300_exp_decision[region]\n",
    "        _sel = sel_it.loc[sel_it.year == sim_year].copy()\n",
    "        _sel = _sel.loc[_sel.frac.round(2) == frac]\n",
    "    else:\n",
    "        frac, _sel = select_frac_alg(sel_it, sim_year=sim_year)\n",
    "    return frac, _sel"
   ]
  },
  {
   "cell_type": "code",
   "execution_count": null,
   "id": "e86d3b2e-56af-4473-823e-57e797d0325e",
   "metadata": {},
   "outputs": [],
   "source": [
    "load = False\n",
    "# this is just changing the format of the lowess_fit file for another purpose (pfleiderer et al., 2024, accepted)\n",
    "if load:\n",
    "    pd_fit_stats_it = pd.read_csv(f'lowess_fit_stats_oct29_predi_all_it{it}.csv')\n",
    "    pd_fit_stats_reg = pd_fit_stats_it.loc[pd_fit_stats_it.region == rgi_reg]\n",
    "    pd_fit_stats_reg_lowess = pd_fit_stats_reg.loc[pd_fit_stats_reg.fit_opt == 'lowess_predi']\n",
    "    pd_fit_stats_reg_exp = pd_fit_stats_reg.loc[pd_fit_stats_reg.fit_opt == 'exp']\n",
    "    sel_it = pd_fit_stats_reg_lowess\n",
    "    frac, _sel = select_frac_w_experts(sel_it, sim_year=sim_year)\n",
    "    _sel[['region','year', 'deltaTemp', 'q50', 'q05','q25','q75','q95']].reset_index(drop=True).to_csv(f'lowess_fit_from_GCMs_until_2300_test_{rgi_reg}_{sim_year}.csv')\n"
   ]
  },
  {
   "cell_type": "code",
   "execution_count": 15,
   "id": "67d910ba",
   "metadata": {},
   "outputs": [
    {
     "name": "stdout",
     "output_type": "stream",
     "text": [
      "RGI16 problem\n",
      "RGI16 0.8 -2.0 -3.6536700397631856 -0.3792888174594004\n",
      "RGI08 0.67 -0.5 -1.1500212197060011 -0.3084628888246981\n",
      "RGI11 problem\n",
      "RGI11 0.8 0 -1.8135322844575616 -0.2882249343312313\n",
      "RGI02 0.74 -3.5 -4.465209266971082 -0.3436600552033668\n",
      "RGI18 problem\n",
      "RGI18 0.8 -0.5 -2.4939965189887108 -0.4151130332801664\n",
      "RGI06 problem\n",
      "RGI06 0.8 0 -1.6090488460476096 -0.2584169616942668\n",
      "RGI13-14-15 0.57 0 -0.0536211913880723 -0.3423459518639633\n",
      "RGI01 0.57 0 0.4378871108982666 -0.0461755604138239\n",
      "RGI04 0.72 -0.5 -1.453974934319801 -0.1119918149230363\n",
      "RGI17 problem\n",
      "RGI17 0.43 0 0.0086394260179012 -0.3464151442898471\n",
      "global 0.45 0 0.4881256712591804 -0.18261132766947\n",
      "RGI03 problem\n",
      "RGI03 problem\n",
      "RGI03 nan 0 nan -0.5620769679095172\n",
      "RGI05 0.64 0 -0.6349166509171063 -0.3024389572831554\n",
      "RGI07 problem\n",
      "RGI07 0.37 0 -0.5285588061270116 -0.3772247901744023\n",
      "RGI09 0.4 0 0.0014548089734972 -0.1512704650111835\n",
      "RGI10 0.52 0 -0.6288899289452097 -0.2626732102131575\n",
      "RGI12 problem\n",
      "RGI12 0.35 0 -0.7280537981700164 -0.4506375881144771\n",
      "RGI13 problem\n",
      "RGI13 0.8 -1.5 -3.487859736807667 -0.290466212611608\n",
      "RGI14 0.6 0 0.003148286417572 -0.1897086239623608\n",
      "RGI15 0.6 0 -0.013475623951589 -0.2381557071270472\n",
      "RGI19 0.49 0 0.4480962529104073 -0.2585584699348254\n"
     ]
    }
   ],
   "source": [
    "it = 1\n",
    "pd_fit_stats_it = pd.read_csv(f'lowess_fit_stats_oct29_predi_all_it{it}.csv')\n",
    "d_reg_num_name_icci_reg['appendix'] = ['03','05','07','09','10','12','13','14','15','19']\n",
    "# from notebook: lowess_percentile_interval_fit_create_fit_data_and_merge_lowess_final_fit_files.ipynb\n",
    "pd_fit_data_all = pd.read_csv(f'fit_data_temp_evol_global_regional_oggm_pygem_glogem_oct182023.csv', index_col=0)\n",
    "sim_year = 2300\n",
    "for reg in list(d_reg_num_name_icci_reg.keys()):\n",
    "    rgi_regs = d_reg_num_name_icci_reg[reg]\n",
    "    #fig, axs = plt.subplots(3,2, figsize=(25,22)) #harey=True, sharex=True)\n",
    "    #fig_fit, axs_fit = plt.subplots(3,2, figsize=(25,22)) #harey=True, sharex=True)\n",
    "    #axs_fit = axs_fit.flatten()\n",
    "    #axs = axs.flatten()\n",
    "    len_sub_p = len(rgi_regs)\n",
    "\n",
    "    for jj,_rgi_reg in enumerate(rgi_regs): \n",
    "        list_index_l = []\n",
    "        err_l = []\n",
    "        for m in path_d.keys():\n",
    "            list_index_l.append(list(pd_cmip_temp_ch_2100.index + '_' + m))\n",
    "        pd_proj_2100_2300 = pd.DataFrame(index=np.concatenate(list_index_l))\n",
    "        #pd_proj_2100_2300 = pd.DataFrame(index=pd_cmip_temp_ch_2100.index)\n",
    "\n",
    "        if _rgi_reg !='global':\n",
    "            rgi_reg = f'RGI{_rgi_reg}'\n",
    "        else:\n",
    "            rgi_reg = _rgi_reg \n",
    "\n",
    "        data = pd_fit_data_all.loc[(pd_fit_data_all.year==sim_year) & (pd_fit_data_all.region==rgi_reg)]\n",
    "        # Generate data looking like cosine\n",
    "        x = data['global_temp_ch_2071-2100_preindustrial'].values\n",
    "        y = data['rel_ice_%_2020'].values        \n",
    "\n",
    "        pd_fit_stats_reg = pd_fit_stats_it.loc[pd_fit_stats_it.region == rgi_reg]\n",
    "        pd_fit_stats_reg_lowess = pd_fit_stats_reg.loc[pd_fit_stats_reg.fit_opt == 'lowess_predi']\n",
    "        pd_fit_stats_reg_exp = pd_fit_stats_reg.loc[pd_fit_stats_reg.fit_opt == 'exp']\n",
    "        sel_it = pd_fit_stats_reg_lowess # we don't have it anymore ... .loc[pd_fit_stats_reg_lowess.it ==it]\n",
    "        frac_alg, _sel_alg = select_frac_alg(sel_it, sim_year=sim_year)\n",
    "        frac_alg = np.round(frac_alg,2)\n",
    "        _sel = sel_it.loc[sel_it.year == sim_year].copy()\n",
    "        fracs = _sel.frac.unique()\n",
    "\n",
    "        fig, axs = plt.subplots(7,10, figsize=(70,50), sharey=True)\n",
    "        axs = axs.flatten()\n",
    "        jj=0\n",
    "        plt.suptitle(rgi_reg+ f', it={it}')\n",
    "        for j,frac in enumerate(fracs):\n",
    "            frac_r = np.round(frac,2)\n",
    "            _sel_f = _sel.loc[_sel.frac == frac].copy()\n",
    "            assert len(_sel_f.frac.unique()) == 1\n",
    "            min_qs = np.round(_sel_f[['min_q50','min_q05','min_q25','min_q75','min_q95']].min(axis=1).min(),2)\n",
    "            min_qs_diff = np.round(_sel_f[['min_q05_diff','min_q25_diff','min_q50_diff','min_q75_diff','min_q95_diff']].min(axis=1).min(),2)\n",
    "            ax = axs[jj]\n",
    "            ax.set_title(f'{np.round(frac,2)}')\n",
    "\n",
    "            ax.plot(_sel_f.deltaTemp,\n",
    "                     _sel_f.q50, lw=3, color='black', alpha = 1, label=f'lowess, frac={frac}')\n",
    "            ax.fill_between(_sel_f.deltaTemp, _sel_f.q05, _sel_f.q95, lw=3, alpha=0.2, color=f'black', label='90% PI')\n",
    "            ax.fill_between(_sel_f.deltaTemp, _sel_f.q25, _sel_f.q75, lw=3, alpha=0.4, color=f'black', label = '50% PI (IQR)')\n",
    "            ax.scatter(x,y, color = 'blue', label='model projections', s=40)\n",
    "            jj+=1\n",
    "            if rgi_reg == 'RGI08':\n",
    "                ax.set_ylim([-1,120])\n",
    "            ax.text(2.5, ax.get_ylim()[-1]*0.9,\n",
    "                                   f' min qs: {min_qs},\\nmin_qs_diff: {min_qs_diff}', fontsize=18)\n",
    "            \n",
    "            if (min_qs>=-3.5) and (min_qs_diff>=-0.9) and (_sel_f['min_q50_diff'].min()>=-0.2):\n",
    "                ax.text(4, ax.get_ylim()[-1]*0.7,\n",
    "                                   f' good fit\\nby algorithm 1', fontsize=22)\n",
    "            frac_r == np.round(frac,2)\n",
    "            if frac_r == frac_alg:\n",
    "                ax.text(4, ax.get_ylim()[-1]*0.5,\n",
    "                                   f' chosen fit\\nby algorithm 2', fontsize=22, color='black')\n",
    "                if rgi_reg not in frac_2300_exp_decision.keys():\n",
    "                    ax.text(4, ax.get_ylim()[-1]*0.3,\n",
    "                                       f'final decision\\nby experts', fontsize=28, color='red')\n",
    "            if rgi_reg in frac_2300_exp_decision.keys():\n",
    "                frac_exp = frac_2300_exp_decision[rgi_reg]\n",
    "                if frac_r == frac_exp:\n",
    "                    ax.text(4, ax.get_ylim()[-1]*0.3,\n",
    "                                       f'final decision\\nby experts', fontsize=28, color='red')\n",
    "           \n",
    "        plt.tight_layout()\n",
    "        fig.savefig(f'v2023_figures/appendix_fracs/{sim_year}_lowess_fracs_oggm_glogem_pygem_temp_levels_{rgi_reg}_v3_{it}.png')\n",
    "        plt.close()"
   ]
  },
  {
   "cell_type": "markdown",
   "id": "07546fac",
   "metadata": {},
   "source": [
    "# NOW the actual plots:\n",
    "**without recomputing the lowess values by just showing the deciles**"
   ]
  },
  {
   "cell_type": "code",
   "execution_count": 18,
   "id": "aea0e2c1",
   "metadata": {},
   "outputs": [
    {
     "name": "stderr",
     "output_type": "stream",
     "text": [
      "No artists with labels found to put in legend.  Note that artists whose label start with an underscore are ignored when legend() is called with no argument.\n"
     ]
    },
    {
     "name": "stdout",
     "output_type": "stream",
     "text": [
      "RGI16 0.41 0 0.5940125822019444 -0.009331074123102\n"
     ]
    },
    {
     "name": "stderr",
     "output_type": "stream",
     "text": [
      "No artists with labels found to put in legend.  Note that artists whose label start with an underscore are ignored when legend() is called with no argument.\n"
     ]
    },
    {
     "name": "stdout",
     "output_type": "stream",
     "text": [
      "RGI08 0.96 0 1.0382209879829225 0.0437381748806752\n"
     ]
    },
    {
     "name": "stderr",
     "output_type": "stream",
     "text": [
      "No artists with labels found to put in legend.  Note that artists whose label start with an underscore are ignored when legend() is called with no argument.\n"
     ]
    },
    {
     "name": "stdout",
     "output_type": "stream",
     "text": [
      "RGI11 0.51 0 0.4329462619194236 -0.0115070402162595\n"
     ]
    },
    {
     "name": "stderr",
     "output_type": "stream",
     "text": [
      "No artists with labels found to put in legend.  Note that artists whose label start with an underscore are ignored when legend() is called with no argument.\n"
     ]
    },
    {
     "name": "stdout",
     "output_type": "stream",
     "text": [
      "RGI02 0.46 0 0.0863687406451393 -0.0073848595658214\n"
     ]
    },
    {
     "name": "stderr",
     "output_type": "stream",
     "text": [
      "No artists with labels found to put in legend.  Note that artists whose label start with an underscore are ignored when legend() is called with no argument.\n"
     ]
    },
    {
     "name": "stdout",
     "output_type": "stream",
     "text": [
      "RGI18 0.86 0 2.421712130179934 0.0639439491791801\n"
     ]
    },
    {
     "name": "stderr",
     "output_type": "stream",
     "text": [
      "No artists with labels found to put in legend.  Note that artists whose label start with an underscore are ignored when legend() is called with no argument.\n"
     ]
    },
    {
     "name": "stdout",
     "output_type": "stream",
     "text": [
      "RGI06 0.99 0 21.31067898391548 0.075307676741005\n",
      "RGI06 problem\n",
      "RGI06 0.8 0 -1.6090488460476096 -0.2584169616942668\n"
     ]
    },
    {
     "name": "stderr",
     "output_type": "stream",
     "text": [
      "No artists with labels found to put in legend.  Note that artists whose label start with an underscore are ignored when legend() is called with no argument.\n"
     ]
    },
    {
     "name": "stdout",
     "output_type": "stream",
     "text": [
      "RGI13-14-15 0.99 0 8.45265502846896 0.0300477867204858\n",
      "RGI13-14-15 0.57 0 -0.0536211913880723 -0.3423459518639633\n"
     ]
    },
    {
     "name": "stderr",
     "output_type": "stream",
     "text": [
      "No artists with labels found to put in legend.  Note that artists whose label start with an underscore are ignored when legend() is called with no argument.\n"
     ]
    },
    {
     "name": "stdout",
     "output_type": "stream",
     "text": [
      "RGI01 0.99 0 24.468128333237928 0.0562669460517852\n",
      "RGI01 0.57 0 0.4378871108982666 -0.0461755604138239\n"
     ]
    },
    {
     "name": "stderr",
     "output_type": "stream",
     "text": [
      "No artists with labels found to put in legend.  Note that artists whose label start with an underscore are ignored when legend() is called with no argument.\n"
     ]
    },
    {
     "name": "stdout",
     "output_type": "stream",
     "text": [
      "RGI04 0.97 0 17.45129269512268 -0.2584482711844496\n",
      "RGI04 0.72 -0.5 -1.453974934319801 -0.1119918149230363\n"
     ]
    },
    {
     "name": "stderr",
     "output_type": "stream",
     "text": [
      "No artists with labels found to put in legend.  Note that artists whose label start with an underscore are ignored when legend() is called with no argument.\n"
     ]
    },
    {
     "name": "stdout",
     "output_type": "stream",
     "text": [
      "RGI17 0.99 0 16.27953236489871 0.3190121418276295\n"
     ]
    },
    {
     "name": "stderr",
     "output_type": "stream",
     "text": [
      "No artists with labels found to put in legend.  Note that artists whose label start with an underscore are ignored when legend() is called with no argument.\n"
     ]
    },
    {
     "name": "stdout",
     "output_type": "stream",
     "text": [
      "global 0.99 0 40.35323776152246 0.1281386443393088\n",
      "global 0.45 0 0.4881256712591804 -0.18261132766947\n"
     ]
    },
    {
     "name": "stderr",
     "output_type": "stream",
     "text": [
      "No artists with labels found to put in legend.  Note that artists whose label start with an underscore are ignored when legend() is called with no argument.\n"
     ]
    },
    {
     "name": "stdout",
     "output_type": "stream",
     "text": [
      "RGI03 problem\n",
      "RGI03 0.86 0 65.2129171468793 -0.379642069470087\n"
     ]
    },
    {
     "name": "stderr",
     "output_type": "stream",
     "text": [
      "No artists with labels found to put in legend.  Note that artists whose label start with an underscore are ignored when legend() is called with no argument.\n"
     ]
    },
    {
     "name": "stdout",
     "output_type": "stream",
     "text": [
      "RGI05 0.99 0 31.33411392714501 0.0360290568379184\n",
      "RGI05 0.64 0 -0.6349166509171063 -0.3024389572831554\n"
     ]
    },
    {
     "name": "stderr",
     "output_type": "stream",
     "text": [
      "No artists with labels found to put in legend.  Note that artists whose label start with an underscore are ignored when legend() is called with no argument.\n"
     ]
    },
    {
     "name": "stdout",
     "output_type": "stream",
     "text": [
      "RGI07 0.76 0 11.748008008139507 -0.0234831019352412\n"
     ]
    },
    {
     "name": "stderr",
     "output_type": "stream",
     "text": [
      "No artists with labels found to put in legend.  Note that artists whose label start with an underscore are ignored when legend() is called with no argument.\n"
     ]
    },
    {
     "name": "stdout",
     "output_type": "stream",
     "text": [
      "RGI09 0.99 0 32.842798576655184 -0.1408007488342377\n"
     ]
    },
    {
     "name": "stderr",
     "output_type": "stream",
     "text": [
      "No artists with labels found to put in legend.  Note that artists whose label start with an underscore are ignored when legend() is called with no argument.\n"
     ]
    },
    {
     "name": "stdout",
     "output_type": "stream",
     "text": [
      "RGI10 0.99 0 1.6764143761648478 0.0695534992579747\n",
      "RGI10 0.52 0 -0.6288899289452097 -0.2626732102131575\n"
     ]
    },
    {
     "name": "stderr",
     "output_type": "stream",
     "text": [
      "No artists with labels found to put in legend.  Note that artists whose label start with an underscore are ignored when legend() is called with no argument.\n"
     ]
    },
    {
     "name": "stdout",
     "output_type": "stream",
     "text": [
      "RGI12 0.7 0 0.8786420268992139 0.0240430667407689\n"
     ]
    },
    {
     "name": "stderr",
     "output_type": "stream",
     "text": [
      "No artists with labels found to put in legend.  Note that artists whose label start with an underscore are ignored when legend() is called with no argument.\n"
     ]
    },
    {
     "name": "stdout",
     "output_type": "stream",
     "text": [
      "RGI13 0.99 0 3.4005703198600625 0.0456394446257517\n",
      "RGI13 problem\n",
      "RGI13 0.8 -1.5 -3.487859736807667 -0.290466212611608\n"
     ]
    },
    {
     "name": "stderr",
     "output_type": "stream",
     "text": [
      "No artists with labels found to put in legend.  Note that artists whose label start with an underscore are ignored when legend() is called with no argument.\n"
     ]
    },
    {
     "name": "stdout",
     "output_type": "stream",
     "text": [
      "RGI14 0.99 0 16.40754998175739 0.0381533680331376\n"
     ]
    },
    {
     "name": "stderr",
     "output_type": "stream",
     "text": [
      "No artists with labels found to put in legend.  Note that artists whose label start with an underscore are ignored when legend() is called with no argument.\n"
     ]
    },
    {
     "name": "stdout",
     "output_type": "stream",
     "text": [
      "RGI15 0.78 0 1.3234315964212937 0.0325894930033283\n"
     ]
    },
    {
     "name": "stderr",
     "output_type": "stream",
     "text": [
      "No artists with labels found to put in legend.  Note that artists whose label start with an underscore are ignored when legend() is called with no argument.\n"
     ]
    },
    {
     "name": "stdout",
     "output_type": "stream",
     "text": [
      "RGI19 0.99 0 61.57731305368136 0.0930242333842912\n"
     ]
    }
   ],
   "source": [
    "# this file has been merged in lowess_percentile_interval_fit_create_fit_data_and_merge_lowess_final_fit_files.ipynb\n",
    "# the actual fits were computed by lowess_percentile_interval_fit_per_region.py\n",
    "pd_fit_stats = pd.read_csv('lowess_fit_stats_oct29_predi_all_it1.csv', index_col=0)\n",
    "def boxplot_manual(qs= [0.1,0.5,1,2,3],\n",
    "                   p = 2300, ax = None, j=0, temp_val = 1.5):\n",
    "    q05, q25, q50, q75, q95 = qs\n",
    "    c = cmap(scaler.transform(np.array([temp_val]).reshape(-1,1))).flatten()\n",
    "    item = {}\n",
    "    #item[\"label\"] = 'box' # not required\n",
    "    item[\"med\"] = q50\n",
    "    item[\"q1\"] = q25\n",
    "    item[\"q3\"] = q75\n",
    "    #item[\"cilo\"] = 5.3 # not required\n",
    "    #item[\"cihi\"] = 5.7 # not required\n",
    "    item[\"whislo\"] = q05\n",
    "    item[\"whishi\"] = q95\n",
    "    stats = [item]\n",
    "    boxprops = dict(linestyle='-', linewidth=2, color=c)\n",
    "    whisprops = dict(color=c, linewidth=1)\n",
    "    flierprops = dict(marker='o', markerfacecolor='green', markersize=0,\n",
    "                      markeredgecolor='none')\n",
    "    medianprops = dict(linestyle='-', linewidth=4, color=c)\n",
    "    ax.bxp(stats, positions = [p + j], showfliers = False,\n",
    "            flierprops= flierprops, medianprops=medianprops, boxprops=boxprops,\n",
    "             widths=3, #patch_artist=True,\n",
    "            whiskerprops=whisprops, capprops = dict(color=c, linewidth=1))\n",
    "    \n",
    "add_median = True\n",
    "color_continuous = True\n",
    "decile_ticks = True\n",
    "plt.rc('font', size=26)\n",
    "it = 1\n",
    "col_opt = 'blue_orange'\n",
    "frac_dict = {}\n",
    "for uncertainty in ['boxplot']: #, 'no_uncertainties']: # 'no_uncertainties',\n",
    "    if uncertainty == 'boxplot':\n",
    "        num_fits = 1000\n",
    "        delta_text = 20\n",
    "        xlim1 = 2325\n",
    "    else:\n",
    "        num_fits = 1000 \n",
    "        delta_text = 4\n",
    "        xlim1 = 2309\n",
    "    if col_opt =='cyan':\n",
    "        cmap = cmap_cyan\n",
    "    elif col_opt == 'blue':\n",
    "        cmap = cmap_blue\n",
    "    elif col_opt == 'blue_orange':\n",
    "        cmap = cmap_blue_orange\n",
    "    for reg in list(d_reg_num_name_icci_reg.keys()):\n",
    "        rgi_regs = d_reg_num_name_icci_reg[reg]\n",
    "        \n",
    "        len_sub_p = len(rgi_regs)\n",
    "\n",
    "        for jj,_rgi_reg in enumerate(rgi_regs): \n",
    "            list_index_l = []\n",
    "            err_l = []\n",
    "            for m in path_d.keys():\n",
    "                list_index_l.append(list(pd_cmip_temp_ch_2100.index + '_' + m))\n",
    "            pd_proj_2100_2300 = pd.DataFrame(index=np.concatenate(list_index_l))\n",
    "\n",
    "            if _rgi_reg !='global':\n",
    "                rgi_reg = f'RGI{_rgi_reg}'\n",
    "            else:\n",
    "                rgi_reg = _rgi_reg \n",
    "                \n",
    "            ####\n",
    "            pd_fit_stats_reg = pd_fit_stats.loc[pd_fit_stats.region == rgi_reg]\n",
    "            pd_fit_stats_reg_lowess = pd_fit_stats_reg.loc[pd_fit_stats_reg.fit_opt == 'lowess_predi']\n",
    "            pd_fit_stats_reg_exp = pd_fit_stats_reg.loc[pd_fit_stats_reg.fit_opt == 'exp']\n",
    "            sel_it = pd_fit_stats_reg_lowess # we don't have it anymore ... .loc[pd_fit_stats_reg_lowess.it ==it]\n",
    "\n",
    "            ######\n",
    "            fig, ax = plt.subplots(1,1, figsize=(15,10)) \n",
    "            fig_fit, axs_fit = plt.subplots(2,1, figsize=(15,20)) \n",
    "            \n",
    "            for end_year,ls in zip(['2300'],['-']):\n",
    "                #for temp_lev in colors_temp.keys():\n",
    "\n",
    "                for cmip in ['CMIP5','CMIP6']:\n",
    "                    pd_cmip = pd_cmip_temp_ch_2100_gcm_until_2300.loc[pd_cmip_temp_ch_2100_gcm_until_2300.ssp != 'ssp534-over']\n",
    "                    pd_cmip = pd_cmip.loc[pd_cmip.cmip == cmip]\n",
    "                    # check that there are temperature values in 2300 available ... \n",
    "                    pd_cmip = pd_cmip.loc[pd_cmip['global_temp_ch_2271-2300_preindustrial'].dropna().index]\n",
    "                    for gcm_scenario in pd_cmip.index:\n",
    "                        df_rel_l = []\n",
    "                        for m in path_d.keys():\n",
    "                            try:\n",
    "                                gcm, scenario = gcm_scenario.split('_')\n",
    "                                path = path_d[m]\n",
    "                                gcm_scenario_m = gcm_scenario + '_' + m\n",
    "                                n = len(gcm_scenario)\n",
    "                                if _rgi_reg == '13-14-15':\n",
    "                                    df = 0\n",
    "                                    for sub_rgi_reg in ['RGI13','RGI14','RGI15']:\n",
    "                                        idir = path + f'volume/{cmip}/{end_year}/{sub_rgi_reg}/'\n",
    "                                        _df = pd.read_csv(idir + f'{scenario}.csv', index_col=0)\n",
    "                                        _df.columns = [g.upper() for g in _df.columns]\n",
    "                                        _df = _df[gcm.upper()]\n",
    "                                        df += _df\n",
    "                                else:\n",
    "                                    idir = path  + f'volume/{cmip}/{end_year}/{rgi_reg}/'\n",
    "                                    df = pd.read_csv(idir + f'{scenario}.csv', index_col=0)\n",
    "                                    df.columns = [g.upper() for g in df.columns]\n",
    "                                    df = df[gcm.upper()]\n",
    "                                df = df.loc[2000:]\n",
    "                                # first do the rolling than the relative estimates .. \n",
    "                                df_roll = df.rolling(20, center=True, min_periods=1).mean().dropna()\n",
    "                                df_rel_roll = 100*df_roll/df_roll.loc[2020]                                    \n",
    "\n",
    "                                temp_ch = pd_cmip.loc[gcm_scenario, 'global_temp_ch_2071-2100_preindustrial']\n",
    "                                pd_proj_2100_2300.loc[gcm_scenario_m, 'global_temp_ch_2071-2100_preindustrial'] = temp_ch\n",
    "                                pd_proj_2100_2300.loc[gcm_scenario_m, f'rel_ice_2100_{rgi_reg}'] = df_rel_roll.loc[2100]\n",
    "\n",
    "                                color= cmap(scaler.transform(temp_ch.reshape(-1,1))).flatten()\n",
    "                                if not add_median:\n",
    "                                    alpha = 0.2\n",
    "                                    ax.plot(df_rel_roll.loc[2020:2300].index, df_rel_roll.loc[2020:2300], lw=2, color=color,ls=ls, alpha = alpha) \n",
    "                                    ax.plot(df_rel_roll.loc[2000:2020].index, df_rel_roll.loc[2000:2020], lw=3, color='black', ls=ls, alpha = alpha)\n",
    "                                pd_proj_2100_2300.loc[gcm_scenario_m, f'rel_ice_2300_{rgi_reg}'] = df_rel_roll.loc[2300]\n",
    "                                pd_proj_2100_2300.loc[gcm_scenario_m, 'model'] = m\n",
    "\n",
    "                                df_rel_l.append(df_rel_roll.loc[2000:2300])\n",
    "                            except:\n",
    "                                pass\n",
    "                        if add_median:\n",
    "                            if len(df_rel_l) > 0:\n",
    "                                df_rel_med = pd.DataFrame(df_rel_l).T.median(axis=1)\n",
    "                                ax.plot(df_rel_med.loc[2020:2300].index, df_rel_med.loc[2020:2300], lw=2, color=color,ls=ls, alpha = 0.4) \n",
    "                                ax.plot(df_rel_med.loc[2000:2020].index, df_rel_med.loc[2000:2020], lw=2, color='black', ls=ls, alpha = 0.2)\n",
    "\n",
    "            ax.set_ylim([0,125])\n",
    "            ax.set_ylabel('% of Remaining Ice',# (relative to 2020)',\n",
    "                          fontweight = 'bold')\n",
    "            ax.set_xlabel('Year',  fontweight = 'bold')\n",
    "            handles, labels = ax.get_legend_handles_labels()\n",
    "            for h in handles:\n",
    "                h.set_linewidth(3)\n",
    "            ax.legend(handles, labels,\n",
    "                          handlelength=1,\n",
    "                          title='Temperature change between 1850-1900 & 2071-2100:', ncol=5)\n",
    "            ax.legend().remove()\n",
    "\n",
    "            ax.set_title(d_reg_num_name_icci[_rgi_reg], fontweight='bold')\n",
    "\n",
    "            pd_proj_2100_2300 = pd_proj_2100_2300.dropna()\n",
    "            assert len(pd_proj_2100_2300) == 60\n",
    "            for j,sim_year in enumerate([2100,2300]):\n",
    "                # choose a \"frac\" parameter and select the right fitting values \n",
    "                frac, _sel = select_frac_w_experts(sel_it, sim_year=sim_year)\n",
    "                frac_dict[f'{rgi_reg}_{sim_year}'] = frac\n",
    "                \n",
    "                ax_fit = axs_fit[j]\n",
    "                ax_fit.set_title(f'{d_reg_num_name_icci[_rgi_reg]}:  year {sim_year}', fontweight='bold')\n",
    "\n",
    "                # get the raw data ...\n",
    "                x = pd_proj_2100_2300['global_temp_ch_2071-2100_preindustrial']\n",
    "                y = pd_proj_2100_2300[f'rel_ice_{sim_year}_{rgi_reg}']\n",
    "                \n",
    "                t_min, t_max = x.min(), x.max()\n",
    "                if sim_year == 2100:\n",
    "                    delta_x = 0.002\n",
    "                else:\n",
    "                    delta_x = 0.001\n",
    "\n",
    "                df_quantiles = _sel[['q50','q05','q25','q75','q95']]\n",
    "                # we just have to clip negative values .... there are still some although we tried to omit them by choosing the best frac ... \n",
    "                df_quantiles = df_quantiles.where(df_quantiles>=0, 0)\n",
    "                _sel_ice_eval = df_quantiles['q50'].values\n",
    "                _sel_ice_eval_bottom = df_quantiles['q05'].values\n",
    "                _sel_ice_eval_bottom_iqr = df_quantiles['q25'].values\n",
    "                _sel_ice_eval_top_iqr = df_quantiles['q75'].values\n",
    "                _sel_ice_eval_top = df_quantiles['q95'].values\n",
    "\n",
    "                ax_fit.plot(pd_fit_stats_reg_exp.loc[pd_fit_stats_reg_exp.year ==sim_year].deltaTemp,\n",
    "                         pd_fit_stats_reg_exp.loc[pd_fit_stats_reg_exp.year ==sim_year].q50, lw=3, color='green', alpha = 0.5, label='exponential fit')\n",
    "                ax_fit.plot(_sel.deltaTemp,\n",
    "                         _sel_ice_eval, lw=3, color='black', alpha = 1, label=f'lowess, frac={frac}')\n",
    "                ax_fit.fill_between(_sel.deltaTemp, _sel_ice_eval_bottom, _sel_ice_eval_top, lw=3, alpha=0.2, color=f'black', label='90% PI')\n",
    "                ax_fit.fill_between(_sel.deltaTemp, _sel_ice_eval_bottom_iqr, _sel_ice_eval_top_iqr, lw=3, alpha=0.4, color=f'black', label = '50% PI (IQR)')\n",
    "                \n",
    "                temp_eval_x = _sel.deltaTemp.values\n",
    "                sns.scatterplot(ax=ax_fit,\n",
    "                                data = pd_proj_2100_2300, #.loc[j], \n",
    "                                x='global_temp_ch_2071-2100_preindustrial', y=f'rel_ice_{sim_year}_{rgi_reg}',\n",
    "                                                style='model',\n",
    "                                hue='global_temp_ch_2071-2100_preindustrial',\n",
    "                                palette=cmap,      \n",
    "                                sizes=[150,150,150], size='model') #, legend=)\n",
    "                ax_fit.legend(fontsize=16, ncols=2)\n",
    "\n",
    "                ax_fit.set_xlabel('Temperature change between 1850-1900 & 2071-2100')\n",
    "                ax_fit.set_ylabel(f'% of Remaining Glacier Ice\\nin {sim_year} (relative to 2020)')\n",
    "\n",
    "                for j,temp_lev in enumerate(colors_temp.keys()):\n",
    "\n",
    "                    # for the annotation in the main plot ... \n",
    "                    if temp_lev != '>4.0°C':\n",
    "\n",
    "                        temp_lev_value = colors_temp_values[temp_lev]\n",
    "                        color= cmap(scaler.transform(np.array([temp_lev_value]).reshape(-1,1))).flatten()\n",
    "                        idx_nearest = np.abs(temp_eval_x - temp_lev_value).argmin()\n",
    "                        if j >0:\n",
    "                            # check the previous fit, if they overlap, need to shift the text\n",
    "                            previous_fit = fit.copy()\n",
    "                        else:\n",
    "                            previous_fit = 10\n",
    "                            \n",
    "                            \n",
    "                        if previous_fit <4:\n",
    "                            shift = previous_fit-3.5\n",
    "                        else:\n",
    "                            shift = 0\n",
    "                        \n",
    "                        fit = _sel_ice_eval[idx_nearest]\n",
    "\n",
    "\n",
    "                        if sim_year == 2300:\n",
    "                            loc_2300_stats = 2300 +4 \n",
    "                        else:\n",
    "                            loc_2300_stats = 2100\n",
    "                        #if temp_lev_value>1.5:\n",
    "                        #    ax.vlines(loc_2300_stats,y_fitted[0], y_fitted[1], color=colors_temp[temp_lev], lw=15, alpha = 0.4)\n",
    "                        ax.hlines(fit,loc_2300_stats-3, loc_2300_stats+3, lw=8, color=color, zorder=10)\n",
    "\n",
    "                        if sim_year == 2300:\n",
    "                            bbox=dict(facecolor='white', edgecolor='white', boxstyle='round', alpha = 0.8)\n",
    "                            ax.annotate(temp_lev[2:], xy=(2300, fit),\n",
    "                                        xytext=(loc_2300_stats+delta_text, fit+shift),\n",
    "                                                    verticalalignment=\"center\",\n",
    "                                                    color=color, alpha=1, fontweight = 'bold', fontsize=18)\n",
    "                            _sel_temp_lev_qs = np.array([ _sel_ice_eval_bottom[idx_nearest],\n",
    "                                                         _sel_ice_eval_bottom_iqr[idx_nearest], _sel_ice_eval[idx_nearest],\n",
    "                                                         _sel_ice_eval_top_iqr[idx_nearest], _sel_ice_eval_top[idx_nearest]])\n",
    "                            if uncertainty == 'boxplot':\n",
    "                                boxplot_manual(qs= _sel_temp_lev_qs,\n",
    "                                               p = loc_2300_stats+5.5,\n",
    "                                               ax = ax, j=j*4.1, temp_val = temp_lev_value,\n",
    "                                               )\n",
    "                np.testing.assert_allclose(temp_eval_x[::2], np.arange(1.4,6.3,0.1))\n",
    "                colors_fit = cmap(scaler.transform(temp_eval_x[::2].reshape(-1,1))) # only every decile ... \n",
    "                lw = 2\n",
    "                for c,f in zip(colors_fit, _sel_ice_eval[::2]):\n",
    "                    ax.hlines(f,loc_2300_stats-1.5, loc_2300_stats+1.5, lw=lw, alpha = 0.5,\n",
    "                               color=c, zorder=7)\n",
    "\n",
    "            ax.set_xlim([1997, xlim1])\n",
    "            if rgi_reg == 'RGI08':\n",
    "                ax_fit.set_ylim([-0.5, 120])\n",
    "\n",
    "            ax.set_xticks([2020,2100,2200,2300],[2020,2100,2200,2300])\n",
    "            ax.spines['right'].set_visible(False)\n",
    "            ax.spines['top'].set_visible(False)\n",
    "            fig.tight_layout()\n",
    "            fig_fit.tight_layout()\n",
    "            if uncertainty== 'boxplot':\n",
    "                \n",
    "                if add_median:\n",
    "                    fig.savefig(f'v2023_figures/main_figures_with_uncertainties/median_glac_models/png/icci_report_2023_median_lowess_predi_oggm_glogem_pygem_temp_levels_{rgi_reg}_v3_{uncertainty}.png')\n",
    "                    fig.savefig(f'v2023_figures/main_figures_with_uncertainties/median_glac_models/svg/icci_report_2023_median_lowess_predi_oggm_glogem_pygem_temp_levels_{rgi_reg}_v3_{uncertainty}.svg')\n",
    "                    if uncertainty == 'boxplot':\n",
    "                        fig_fit.savefig(f'v2023_figures/appendix_fit/lowess_predi_exp_fit_oggm_glogem_pygem_temp_levels_{rgi_reg}_v3.png')\n",
    "                        fig_fit.savefig(f'v2023_figures/appendix_fit/lowess_predi_exp_fit_oggm_glogem_pygem_temp_levels_{rgi_reg}_v3.svg')\n",
    "                else:\n",
    "                    fig.savefig(f'v2023_figures/main_figures_with_uncertainties/all_glac_models/png/icci_report_2023_lowess_predi_oggm_glogem_pygem_temp_levels_{rgi_reg}_v3_{uncertainty}.png')\n",
    "                    fig.savefig(f'v2023_figures/main_figures_with_uncertainties/all_glac_models/svg/icci_report_2023_lowess_predi_oggm_glogem_pygem_temp_levels_{rgi_reg}_v3_{uncertainty}.svg')\n",
    "                    if uncertainty == 'boxplot':\n",
    "                        fig_fit.savefig(f'v2023_figures/appendix_fit/lowess_predi_exp_fit_oggm_glogem_pygem_temp_levels_{rgi_reg}_v3.png')\n",
    "                        fig_fit.savefig(f'v2023_figures/appendix_fit/lowess_predi_exp_fit_oggm_glogem_pygem_temp_levels_{rgi_reg}_v3.svg')\n",
    "\n",
    "            else:\n",
    "                if add_median:\n",
    "                    fig.savefig(f'v2023_figures/main_figures_without_uncertainties/median_glac_models/png/icci_report_2023_median_lowess_predi_oggm_glogem_pygem_temp_levels_{rgi_reg}_v3_{uncertainty}.png')\n",
    "                    fig.savefig(f'v2023_figures/main_figures_without_uncertainties/median_glac_models/svg/icci_report_2023_median_lowess_predi_oggm_glogem_pygem_temp_levels_{rgi_reg}_v3_{uncertainty}.svg')\n",
    "                else:\n",
    "                    fig.savefig(f'v2023_figures/main_figures_without_uncertainties/all_glac_models/png/icci_report_2023_lowess_predi_oggm_glogem_pygem_temp_levels_{rgi_reg}_v3_{uncertainty}.png')\n",
    "                    fig.savefig(f'v2023_figures/main_figures_without_uncertainties/all_glac_models/svg/icci_report_2023_lowess_predi_oggm_glogem_pygem_temp_levels_{rgi_reg}_v3_{uncertainty}.svg')\n",
    "                    \n",
    "            plt.close()\n",
    "            plt.close()\n",
    "            plt.close()"
   ]
  },
  {
   "cell_type": "code",
   "execution_count": null,
   "id": "c3f9722f",
   "metadata": {},
   "outputs": [],
   "source": []
  },
  {
   "cell_type": "markdown",
   "id": "d15e66b8",
   "metadata": {},
   "source": [
    "**Create the same figures but now as subplots**\n",
    "-> actually, we decided to only show three temperature levels for the ICCI State of the Cryosphere report, and also did some other changes, so we leave this here just in case we want to go back ... "
   ]
  },
  {
   "cell_type": "code",
   "execution_count": 135,
   "id": "f81574d6",
   "metadata": {},
   "outputs": [],
   "source": [
    "show_all_four_labels = False\n",
    "if show_all_four_labels:\n",
    "\n",
    "    # this file has been merged in lowess_percentile_interval_fit_create_fit_data_and_merge_lowess_final_fit_files.ipynb\n",
    "    # the actual fits were computed by lowess_percentile_interval_fit_per_region.py\n",
    "    pd_fit_stats = pd.read_csv('lowess_fit_stats_oct29_predi_all_it1.csv', index_col=0)\n",
    "    def boxplot_manual(qs= [0.1,0.5,1,2,3],\n",
    "                       p = 2300, ax = None, j=0, temp_val = 1.5):\n",
    "        q05, q25, q50, q75, q95 = qs\n",
    "        c = cmap(scaler.transform(np.array([temp_val]).reshape(-1,1))).flatten()\n",
    "        item = {}\n",
    "        #item[\"label\"] = 'box' # not required\n",
    "        item[\"med\"] = q50\n",
    "        item[\"q1\"] = q25\n",
    "        item[\"q3\"] = q75\n",
    "        #item[\"cilo\"] = 5.3 # not required\n",
    "        #item[\"cihi\"] = 5.7 # not required\n",
    "        item[\"whislo\"] = q05\n",
    "        item[\"whishi\"] = q95\n",
    "        stats = [item]\n",
    "        boxprops = dict(linestyle='-', linewidth=2, color=c)\n",
    "        whisprops = dict(color=c, linewidth=1)\n",
    "        flierprops = dict(marker='o', markerfacecolor='green', markersize=0,\n",
    "                          markeredgecolor='none')\n",
    "        medianprops = dict(linestyle='-', linewidth=4, color=c)\n",
    "        ax.bxp(stats, positions = [p + j], showfliers = False,\n",
    "                flierprops= flierprops, medianprops=medianprops, boxprops=boxprops,\n",
    "                 widths=3, #patch_artist=True,\n",
    "                whiskerprops=whisprops, capprops = dict(color=c, linewidth=1))\n",
    "\n",
    "    add_median = True\n",
    "    color_continuous = True\n",
    "    decile_ticks = True\n",
    "    plt.rc('font', size=26)\n",
    "    it = 1\n",
    "    col_opt = 'blue_orange'\n",
    "    frac_dict = {}\n",
    "    for uncertainty in [ 'boxplot', 'no_uncertainties']: # 'no_uncertainties',\n",
    "        if uncertainty == 'boxplot':\n",
    "            num_fits = 1000\n",
    "            delta_text = 20\n",
    "            xlim1 = 2325\n",
    "        else:\n",
    "            num_fits = 1000 \n",
    "            delta_text = 4\n",
    "            xlim1 = 2309\n",
    "        if col_opt =='cyan':\n",
    "            cmap = cmap_cyan\n",
    "        elif col_opt == 'blue':\n",
    "            cmap = cmap_blue\n",
    "        elif col_opt == 'blue_orange':\n",
    "            cmap = cmap_blue_orange\n",
    "        for reg in list(d_reg_num_name_icci_reg.keys()):\n",
    "            rgi_regs = d_reg_num_name_icci_reg[reg]\n",
    "\n",
    "            len_sub_p = len(rgi_regs)\n",
    "            props = dict(boxstyle='round', facecolor='white', alpha=0.5)\n",
    "            if (reg == 'Glaciers globally') or (reg == 'low-latitudes'):\n",
    "                fig, axs = plt.subplots(1,1, figsize=(12.5,25/3)) \n",
    "                axs = [axs]#.flatten()\n",
    "                #for a in [1,2,3,4,5]:\n",
    "                #    axs[a].remove()\n",
    "                # figure to show caption \n",
    "                ax_f = axs[0] \n",
    "\n",
    "            elif reg == 'mid-latitudes':\n",
    "                fig, axs = plt.subplots(2,2, figsize=(25,25*2/3))\n",
    "                axs = axs.flatten()\n",
    "                #axs[4].remove()\n",
    "                #axs[5].remove()\n",
    "                ax_f = axs[2]\n",
    "            elif reg == 'polar-hma':\n",
    "                fig, axs = plt.subplots(3,2, figsize=(25,25))\n",
    "                axs = axs.flatten()\n",
    "                ax_f = axs[4]\n",
    "                #ax_f.spines['left'].set_visible(False)\n",
    "                #ax_f.spines['bottom'].set_visible(False)\n",
    "                axs[5].remove()\n",
    "\n",
    "            else:\n",
    "                print('sth. wrong')\n",
    "\n",
    "            for jj,_rgi_reg in enumerate(rgi_regs): \n",
    "                ax = axs[jj]\n",
    "                list_index_l = []\n",
    "                err_l = []\n",
    "                for m in path_d.keys():\n",
    "                    list_index_l.append(list(pd_cmip_temp_ch_2100.index + '_' + m))\n",
    "                pd_proj_2100_2300 = pd.DataFrame(index=np.concatenate(list_index_l))\n",
    "\n",
    "                if _rgi_reg !='global':\n",
    "                    rgi_reg = f'RGI{_rgi_reg}'\n",
    "                else:\n",
    "                    rgi_reg = _rgi_reg \n",
    "\n",
    "                ####\n",
    "                pd_fit_stats_reg = pd_fit_stats.loc[pd_fit_stats.region == rgi_reg]\n",
    "                pd_fit_stats_reg_lowess = pd_fit_stats_reg.loc[pd_fit_stats_reg.fit_opt == 'lowess_predi']\n",
    "                pd_fit_stats_reg_exp = pd_fit_stats_reg.loc[pd_fit_stats_reg.fit_opt == 'exp']\n",
    "                sel_it = pd_fit_stats_reg_lowess # we don't have it anymore ... .loc[pd_fit_stats_reg_lowess.it ==it]\n",
    "\n",
    "                ######\n",
    "                fig_fit, axs_fit = plt.subplots(2,1, figsize=(15,20)) \n",
    "\n",
    "                for end_year,ls in zip(['2300'],['-']):\n",
    "                    #for temp_lev in colors_temp.keys():\n",
    "\n",
    "                    for cmip in ['CMIP5','CMIP6']:\n",
    "                        pd_cmip = pd_cmip_temp_ch_2100_gcm_until_2300.loc[pd_cmip_temp_ch_2100_gcm_until_2300.ssp != 'ssp534-over']\n",
    "                        pd_cmip = pd_cmip.loc[pd_cmip.cmip == cmip]\n",
    "                        # check that there are temperature values in 2300 available ... \n",
    "                        pd_cmip = pd_cmip.loc[pd_cmip['global_temp_ch_2271-2300_preindustrial'].dropna().index]\n",
    "                        for gcm_scenario in pd_cmip.index:\n",
    "                            df_rel_l = []\n",
    "                            for m in path_d.keys():\n",
    "                                try:\n",
    "                                    gcm, scenario = gcm_scenario.split('_')\n",
    "                                    path = path_d[m]\n",
    "                                    gcm_scenario_m = gcm_scenario + '_' + m\n",
    "                                    n = len(gcm_scenario)\n",
    "                                    if _rgi_reg == '13-14-15':\n",
    "                                        df = 0\n",
    "                                        for sub_rgi_reg in ['RGI13','RGI14','RGI15']:\n",
    "                                            idir = path + f'volume/{cmip}/{end_year}/{sub_rgi_reg}/'\n",
    "                                            _df = pd.read_csv(idir + f'{scenario}.csv', index_col=0)\n",
    "                                            _df.columns = [g.upper() for g in _df.columns]\n",
    "                                            _df = _df[gcm.upper()]\n",
    "                                            df += _df\n",
    "                                    else:\n",
    "                                        idir = path  + f'volume/{cmip}/{end_year}/{rgi_reg}/'\n",
    "                                        df = pd.read_csv(idir + f'{scenario}.csv', index_col=0)\n",
    "                                        df.columns = [g.upper() for g in df.columns]\n",
    "                                        df = df[gcm.upper()]\n",
    "                                    df = df.loc[2000:]\n",
    "                                    # first do the rolling than the relative estimates .. \n",
    "                                    df_roll = df.rolling(20, center=True, min_periods=1).mean().dropna()\n",
    "                                    df_rel_roll = 100*df_roll/df_roll.loc[2020]                                    \n",
    "\n",
    "                                    temp_ch = pd_cmip.loc[gcm_scenario, 'global_temp_ch_2071-2100_preindustrial']\n",
    "                                    pd_proj_2100_2300.loc[gcm_scenario_m, 'global_temp_ch_2071-2100_preindustrial'] = temp_ch\n",
    "                                    pd_proj_2100_2300.loc[gcm_scenario_m, f'rel_ice_2100_{rgi_reg}'] = df_rel_roll.loc[2100]\n",
    "\n",
    "                                    color= cmap(scaler.transform(temp_ch.reshape(-1,1))).flatten()\n",
    "                                    if not add_median:\n",
    "                                        alpha = 0.2\n",
    "                                        ax.plot(df_rel_roll.loc[2020:2300].index, df_rel_roll.loc[2020:2300], lw=2, color=color,ls=ls, alpha = alpha) \n",
    "                                        ax.plot(df_rel_roll.loc[2000:2020].index, df_rel_roll.loc[2000:2020], lw=3, color='black', ls=ls, alpha = alpha)\n",
    "                                    pd_proj_2100_2300.loc[gcm_scenario_m, f'rel_ice_2300_{rgi_reg}'] = df_rel_roll.loc[2300]\n",
    "                                    pd_proj_2100_2300.loc[gcm_scenario_m, 'model'] = m\n",
    "\n",
    "                                    df_rel_l.append(df_rel_roll.loc[2000:2300])\n",
    "                                except:\n",
    "                                    pass\n",
    "                            if add_median:\n",
    "                                if len(df_rel_l) > 0:\n",
    "                                    df_rel_med = pd.DataFrame(df_rel_l).T.median(axis=1)\n",
    "                                    ax.plot(df_rel_med.loc[2020:2300].index, df_rel_med.loc[2020:2300], lw=2, color=color,ls=ls, alpha = 0.4) \n",
    "                                    ax.plot(df_rel_med.loc[2000:2020].index, df_rel_med.loc[2000:2020], lw=2, color='black', ls=ls, alpha = 0.2)\n",
    "\n",
    "                ax.set_ylim([0,125])\n",
    "                if jj in [0,2,4]:\n",
    "                    ax.set_ylabel('% of Remaining Ice',# (relative to 2020)',\n",
    "                                  fontweight = 'bold', fontsize=22)\n",
    "                else:\n",
    "                    ax.set_ylabel('')\n",
    "                ax.set_xlabel('Year',  fontweight = 'bold', fontsize=22)\n",
    "                handles, labels = ax.get_legend_handles_labels()\n",
    "                for h in handles:\n",
    "                    h.set_linewidth(3)\n",
    "                ax.legend(handles, labels,\n",
    "                              handlelength=1,\n",
    "                              title='Temperature change between 1850-1900 & 2071-2100:', ncol=5)\n",
    "                ax.legend().remove()\n",
    "\n",
    "                ax.set_title(d_reg_num_name_icci[_rgi_reg], fontweight='bold', fontsize=24)\n",
    "\n",
    "                pd_proj_2100_2300 = pd_proj_2100_2300.dropna()\n",
    "                assert len(pd_proj_2100_2300) == 60\n",
    "                for j,sim_year in enumerate([2100,2300]):\n",
    "                    # choose a \"frac\" parameter and select the right fitting values \n",
    "                    frac, _sel = select_frac_w_experts(sel_it, sim_year=sim_year)\n",
    "                    frac_dict[f'{rgi_reg}_{sim_year}'] = frac\n",
    "\n",
    "                    ax_fit = axs_fit[j]\n",
    "                    ax_fit.set_title(f'{d_reg_num_name_icci[_rgi_reg]}:  year {sim_year}', fontweight='bold')\n",
    "\n",
    "                    # get the raw data ...\n",
    "                    x = pd_proj_2100_2300['global_temp_ch_2071-2100_preindustrial']\n",
    "                    y = pd_proj_2100_2300[f'rel_ice_{sim_year}_{rgi_reg}']\n",
    "\n",
    "                    t_min, t_max = x.min(), x.max()\n",
    "                    if sim_year == 2100:\n",
    "                        delta_x = 0.002\n",
    "                    else:\n",
    "                        delta_x = 0.001\n",
    "\n",
    "                    df_quantiles = _sel[['q50','q05','q25','q75','q95']]\n",
    "                    # we just have to clip negative values .... there are still some although we tried to omit them by choosing the best frac ... \n",
    "                    df_quantiles = df_quantiles.where(df_quantiles>=0, 0)\n",
    "                    _sel_ice_eval = df_quantiles['q50'].values\n",
    "                    _sel_ice_eval_bottom = df_quantiles['q05'].values\n",
    "                    _sel_ice_eval_bottom_iqr = df_quantiles['q25'].values\n",
    "                    _sel_ice_eval_top_iqr = df_quantiles['q75'].values\n",
    "                    _sel_ice_eval_top = df_quantiles['q95'].values\n",
    "\n",
    "                    ax_fit.plot(pd_fit_stats_reg_exp.loc[pd_fit_stats_reg_exp.year ==sim_year].deltaTemp,\n",
    "                             pd_fit_stats_reg_exp.loc[pd_fit_stats_reg_exp.year ==sim_year].q50, lw=3, color='green', alpha = 0.5, label='exponential fit')\n",
    "                    ax_fit.plot(_sel.deltaTemp,\n",
    "                             _sel_ice_eval, lw=3, color='black', alpha = 1, label=f'lowess, frac={frac}')\n",
    "                    ax_fit.fill_between(_sel.deltaTemp, _sel_ice_eval_bottom, _sel_ice_eval_top, lw=3, alpha=0.2, color=f'black', label='90% PI')\n",
    "                    ax_fit.fill_between(_sel.deltaTemp, _sel_ice_eval_bottom_iqr, _sel_ice_eval_top_iqr, lw=3, alpha=0.4, color=f'black', label = '50% PI (IQR)')\n",
    "\n",
    "                    temp_eval_x = _sel.deltaTemp.values\n",
    "                    sns.scatterplot(ax=ax_fit,\n",
    "                                    data = pd_proj_2100_2300, #.loc[j], \n",
    "                                    x='global_temp_ch_2071-2100_preindustrial', y=f'rel_ice_{sim_year}_{rgi_reg}',\n",
    "                                                    style='model',\n",
    "                                    hue='global_temp_ch_2071-2100_preindustrial',\n",
    "                                    palette=cmap,      \n",
    "                                    sizes=[150,150,150], size='model') #, legend=)\n",
    "                    ax_fit.legend(fontsize=16, ncols=2)\n",
    "\n",
    "                    ax_fit.set_xlabel('Temperature change between 1850-1900 & 2071-2100')\n",
    "                    ax_fit.set_ylabel(f'% of Remaining Glacier Ice\\nin {sim_year} (relative to 2020)')\n",
    "\n",
    "                    for j,temp_lev in enumerate(list(colors_temp_values.keys())):\n",
    "\n",
    "                        # for the annotation in the main plot ... \n",
    "                        if temp_lev != '>4.0°C':\n",
    "\n",
    "                            temp_lev_value = colors_temp_values[temp_lev]\n",
    "                            color= cmap(scaler.transform(np.array([temp_lev_value]).reshape(-1,1))).flatten()\n",
    "                            idx_nearest = np.abs(temp_eval_x - temp_lev_value).argmin()\n",
    "                            if j >0:\n",
    "                                # check the previous fit, if they overlap, need to shift the text\n",
    "                                previous_fit = fit.copy()\n",
    "                            else:\n",
    "                                previous_fit = 10\n",
    "\n",
    "\n",
    "                            if previous_fit <4:\n",
    "                                shift = previous_fit-3.5\n",
    "                            else:\n",
    "                                shift = 0\n",
    "\n",
    "                            fit = _sel_ice_eval[idx_nearest]\n",
    "\n",
    "\n",
    "\n",
    "                            if sim_year == 2300:\n",
    "                                loc_2300_stats = 2300 +4 \n",
    "                            else:\n",
    "                                loc_2300_stats = 2100\n",
    "                            #if temp_lev_value>1.5:\n",
    "                            #    ax.vlines(loc_2300_stats,y_fitted[0], y_fitted[1], color=colors_temp[temp_lev], lw=15, alpha = 0.4)\n",
    "                            ax.hlines(fit,loc_2300_stats-3, loc_2300_stats+3, lw=8, color=color, zorder=10)\n",
    "\n",
    "                            if sim_year == 2300:\n",
    "                                bbox=dict(facecolor='white', edgecolor='white', boxstyle='round', alpha = 0.8)\n",
    "                                ax.annotate(temp_lev[2:], xy=(2300, fit),\n",
    "                                            xytext=(loc_2300_stats+delta_text, fit+shift),\n",
    "                                                        verticalalignment=\"center\",\n",
    "                                                        color=color, alpha=1, fontweight = 'bold', fontsize=18)\n",
    "                                _sel_temp_lev_qs = np.array([ _sel_ice_eval_bottom[idx_nearest],\n",
    "                                                             _sel_ice_eval_bottom_iqr[idx_nearest], _sel_ice_eval[idx_nearest],\n",
    "                                                             _sel_ice_eval_top_iqr[idx_nearest], _sel_ice_eval_top[idx_nearest]])\n",
    "                                if uncertainty == 'boxplot':\n",
    "                                    boxplot_manual(qs= _sel_temp_lev_qs,\n",
    "                                                   p = loc_2300_stats+5.5,\n",
    "                                                   ax = ax, j=j*4.1, temp_val = temp_lev_value,\n",
    "                                                   )\n",
    "                    np.testing.assert_allclose(temp_eval_x[::2], np.arange(1.4,6.3,0.1))\n",
    "                    colors_fit = cmap(scaler.transform(temp_eval_x[::2].reshape(-1,1))) # only every decile ... \n",
    "                    lw = 2\n",
    "                    for c,f in zip(colors_fit, _sel_ice_eval[::2]):\n",
    "                        ax.hlines(f,loc_2300_stats-1.5, loc_2300_stats+1.5, lw=lw, alpha = 0.5,\n",
    "                                   color=c, zorder=7)\n",
    "\n",
    "                ax.set_xlim([1997, xlim1])\n",
    "                if rgi_reg == 'RGI08':\n",
    "                    ax_fit.set_ylim([-0.5, 120])\n",
    "\n",
    "                ax.set_xticks([2020,2100,2200,2300],[2020,2100,2200,2300])\n",
    "                ax.spines['right'].set_visible(False)\n",
    "                ax.spines['top'].set_visible(False)\n",
    "\n",
    "                fig_fit.tight_layout()\n",
    "                if uncertainty == 'boxplot':\n",
    "                        fig_fit.savefig(f'v2023_figures/appendix_fit/lowess_predi_exp_fit_oggm_glogem_pygem_temp_levels_{rgi_reg}_v3.png')\n",
    "\n",
    "            ax_f.text(2290,119, 'colors describe global\\ntemperature change in 2100',\n",
    "                                    #transform=ax_f.transAxes,\n",
    "                                    verticalalignment=\"top\", bbox=props, horizontalalignment='right',\n",
    "                                    color='grey', alpha=1, fontweight = 'bold', fontsize=18)\n",
    "            fig.tight_layout()\n",
    "            # for every of the four large regions ... \n",
    "            if reg == 'Glaciers globally':\n",
    "                reg = 'Glaciers-globally'\n",
    "            if uncertainty== 'boxplot':\n",
    "\n",
    "                if add_median:\n",
    "                    fig.savefig(f'figuv2023_figuresres/main_figures_with_uncertainties/median_glac_models/png/icci_report_2023_median_lowess_predi_oggm_glogem_pygem_temp_levels_{reg}_v3_{uncertainty}.png')\n",
    "                    fig.savefig(f'v2023_figures/main_figures_with_uncertainties/median_glac_models/svg/icci_report_2023_median_lowess_predi_oggm_glogem_pygem_temp_levels_{reg}_v3_{uncertainty}.svg')\n",
    "                else:\n",
    "                    fig.savefig(f'v2023_figures/main_figures_with_uncertainties/all_glac_models/png/icci_report_2023_lowess_predi_oggm_glogem_pygem_temp_levels_{reg}_v3_{uncertainty}.png')\n",
    "                    fig.savefig(f'v2023_figures/main_figures_with_uncertainties/all_glac_models/svg/icci_report_2023_lowess_predi_oggm_glogem_pygem_temp_levels_{reg}_v3_{uncertainty}.svg')\n",
    "\n",
    "            else:\n",
    "                if add_median:\n",
    "                    fig.savefig(f'v2023_figures/main_figures_without_uncertainties/median_glac_models/png/icci_report_2023_median_lowess_predi_oggm_glogem_pygem_temp_levels_{reg}_v3_{uncertainty}.png')\n",
    "                    fig.savefig(f'v2023_figures/main_figures_without_uncertainties/median_glac_models/svg/icci_report_2023_median_lowess_predi_oggm_glogem_pygem_temp_levels_{reg}_v3_{uncertainty}.svg')\n",
    "                else:\n",
    "                    fig.savefig(f'v2023_figures/main_figures_without_uncertainties/all_glac_models/png/icci_report_2023_lowess_predi_oggm_glogem_pygem_temp_levels_{reg}_v3_{uncertainty}.png')\n",
    "                    fig.savefig(f'v2023_figures/main_figures_without_uncertainties/all_glac_models/svg/icci_report_2023_lowess_predi_oggm_glogem_pygem_temp_levels_{reg}_v3_{uncertainty}.svg')\n",
    "\n",
    "            plt.close()\n",
    "            plt.close()\n",
    "            plt.close()\n",
    "\n"
   ]
  },
  {
   "cell_type": "code",
   "execution_count": null,
   "id": "424a935c",
   "metadata": {},
   "outputs": [],
   "source": []
  },
  {
   "cell_type": "code",
   "execution_count": null,
   "id": "5ad29c5f",
   "metadata": {},
   "outputs": [],
   "source": []
  },
  {
   "cell_type": "markdown",
   "id": "a7e40351",
   "metadata": {},
   "source": [
    "#### **Final versions of the figures for the ICCI State of the Cryosphere report 2023**"
   ]
  },
  {
   "cell_type": "code",
   "execution_count": 26,
   "id": "1d4fbe31",
   "metadata": {},
   "outputs": [
    {
     "data": {
      "image/png": "[encoded data removed]",
      "text/html": [
       "<div style=\"vertical-align: middle;\"><strong>bins_100</strong> </div><div class=\"cmap\"><img alt=\"bins_100 colormap\" title=\"bins_100\" style=\"border: 1px solid #555;\" src=\"data:image/png;base64,iVBORw0KGgoAAAANSUhEUgAAAgAAAABACAYAAABsv8+/AAAAF3RFWHRUaXRsZQBiaW5zXzEwMCBjb2xvcm1hcLv0aLkAAAAddEVYdERlc2NyaXB0aW9uAGJpbnNfMTAwIGNvbG9ybWFwkoqPkAAAADB0RVh0QXV0aG9yAE1hdHBsb3RsaWIgdjMuNy4xLCBodHRwczovL21hdHBsb3RsaWIub3JnKq/4TQAAADJ0RVh0U29mdHdhcmUATWF0cGxvdGxpYiB2My43LjEsIGh0dHBzOi8vbWF0cGxvdGxpYi5vcmcECWdqAAABv0lEQVR4nO3WwW6CQBRA0cEv7uf151q6qDXRCApi0uSes8HMMA9wdaePz3mexteYxvc4na/T+Bqn8/WV9c3npoPn3Vk/4j22v9/SjNv7b8+ezQ+uz9wzj995G888es704jvdnlmct/M57/jmq+udtXll72p/Yda8c+/hs//Or3zP3flr735v/o69I/+3y/Vm7uXIyv1re1tnPbr/yFlL97/lO9bOLa2N69/zE+ure9O+c0fPW33W9P/nnQYAkCMAACBIAABAkAAAgCABAABBAgAAggQAAAQJAAAIEgAAECQAACBIAABAkAAAgCABAABBAgAAggQAAAQJAAAIEgAAECQAACBIAABAkAAAgCABAABBAgAAggQAAAQJAAAIEgAAECQAACBIAABAkAAAgCABAABBAgAAggQAAAQJAAAIEgAAECQAACBIAABAkAAAgCABAABBAgAAggQAAAQJAAAIEgAAECQAACBIAABAkAAAgCABAABBAgAAggQAAAQJAAAIEgAAECQAACBIAABAkAAAgCABAABBAgAAggQAAAQJAAAIEgAAECQAACBIAABAkAAAgCABAABBAgAAggQAAAT9AKQ4lB8OGoHyAAAAAElFTkSuQmCC\"></div><div style=\"vertical-align: middle; max-width: 514px; display: flex; justify-content: space-between;\"><div style=\"float: left;\"><div title=\"#70b8ffff\" style=\"display: inline-block; width: 1em; height: 1em; margin: 0; vertical-align: middle; border: 1px solid #555; background-color: #70b8ffff;\"></div> under</div><div style=\"margin: 0 auto; display: inline-block;\">bad <div title=\"#00000000\" style=\"display: inline-block; width: 1em; height: 1em; margin: 0; vertical-align: middle; border: 1px solid #555; background-color: #00000000;\"></div></div><div style=\"float: right;\">over <div title=\"#662b00ff\" style=\"display: inline-block; width: 1em; height: 1em; margin: 0; vertical-align: middle; border: 1px solid #555; background-color: #662b00ff;\"></div></div>"
      ],
      "text/plain": [
       "<matplotlib.colors.LinearSegmentedColormap at 0x7ff96219f950>"
      ]
     },
     "execution_count": 26,
     "metadata": {},
     "output_type": "execute_result"
    }
   ],
   "source": [
    "colors_icci_l1 = ['#8AE6E6', '#FFAA00', '#F27900', '#D93D15', '#B3001E', '#800040', '#550066', '#2B084D']\n",
    "colors_icci_l2 = ['#99DDFF', '#FABB00', '#FA8800', '#E64D17', '#BF262D', '#8C0053', '#581466', '#310959']\n",
    "colors_icci_l2_sh = colors_icci_l2[:-2]\n",
    "\n",
    "colors_icci_l3 = ['#70B8FF', '#FABB00', '#F25100', '#D42300', '#B3001E', '#800040', '#550066', '#2B084D']\n",
    "cmap_icci_3 = LinearSegmentedColormap.from_list('bins_100', colors_icci_l3, N=10000)\n",
    "\n",
    "colors_icci_below3deg = ['#70B8FF', '#FABB00', '#FF8C00', '#F25100', '#BD2600', '#662B00'] #, '#662B00', '#662B00']\n",
    "cmap_icci_below3deg = LinearSegmentedColormap.from_list('bins_100', colors_icci_below3deg, N=10000)\n",
    "\n",
    "cmap_icci_below3deg\n"
   ]
  },
  {
   "cell_type": "code",
   "execution_count": 27,
   "id": "0154baa0",
   "metadata": {},
   "outputs": [
    {
     "data": {
      "image/png": "[encoded data removed]",
      "text/html": [
       "<div style=\"vertical-align: middle;\"><strong>bins_100</strong> </div><div class=\"cmap\"><img alt=\"bins_100 colormap\" title=\"bins_100\" style=\"border: 1px solid #555;\" src=\"data:image/png;base64,iVBORw0KGgoAAAANSUhEUgAAAgAAAABACAYAAABsv8+/AAAAF3RFWHRUaXRsZQBiaW5zXzEwMCBjb2xvcm1hcLv0aLkAAAAddEVYdERlc2NyaXB0aW9uAGJpbnNfMTAwIGNvbG9ybWFwkoqPkAAAADB0RVh0QXV0aG9yAE1hdHBsb3RsaWIgdjMuNy4xLCBodHRwczovL21hdHBsb3RsaWIub3JnKq/4TQAAADJ0RVh0U29mdHdhcmUATWF0cGxvdGxpYiB2My43LjEsIGh0dHBzOi8vbWF0cGxvdGxpYi5vcmcECWdqAAACNUlEQVR4nO3WYW4aMRSF0WeW34VmFSDnBwwz9riUVKiqdM+RIgbz8JiIRF/79fXVW7/Wpd+q9dv+WNv1+NqljnPX09rwnjqu3erSr4u17X6LMzz3fuMMh/tt9zqvPc6wPPOL89Wtqtf+U/fHXrVeP1xv632a+Zv1Ps28Wl+d4afrPzrbvFdvh7O1w/r9+X7mNuzXH7P3+Tbds43717Tn8wz7nufZwx7T7LjH4iwf+nzj2faz9Gl+XJ9eP63fH3u1896H70ifzrqvT6+f1rf5f3D+59dqu378Ph+P8/q773m1x3q///O++/W+vnrf6v2v5sb5T+zxu/lP7PHO3PZn1w/Px+tq48xqfpvpz1cXe7YaVpfz7Q/3qXr8K3lxn/vHXs4M823xWRczlwIA4ggAAAgkAAAgkAAAgEACAAACCQAACCQAACCQAACAQAIAAAIJAAAIJAAAIJAAAIBAAgAAAgkAAAgkAAAgkAAAgEACAAACCQAACCQAACCQAACAQAIAAAIJAAAIJAAAIJAAAIBAAgAAAgkAAAgkAAAgkAAAgEACAAACCQAACCQAACCQAACAQAIAAAIJAAAIJAAAIJAAAIBAAgAAAgkAAAgkAAAgkAAAgEACAAACCQAACCQAACCQAACAQAIAAAIJAAAIJAAAIJAAAIBAAgAAAgkAAAgkAAAgkAAAgEACAAACCQAACCQAACCQAACAQAIAAAIJAAAIJAAAIJAAAIBAAgAAAgkAAAgkAAAg0DdRbRwd22PVpgAAAABJRU5ErkJggg==\"></div><div style=\"vertical-align: middle; max-width: 514px; display: flex; justify-content: space-between;\"><div style=\"float: left;\"><div title=\"#8ae6e6ff\" style=\"display: inline-block; width: 1em; height: 1em; margin: 0; vertical-align: middle; border: 1px solid #555; background-color: #8ae6e6ff;\"></div> under</div><div style=\"margin: 0 auto; display: inline-block;\">bad <div title=\"#00000000\" style=\"display: inline-block; width: 1em; height: 1em; margin: 0; vertical-align: middle; border: 1px solid #555; background-color: #00000000;\"></div></div><div style=\"float: right;\">over <div title=\"#2b084dff\" style=\"display: inline-block; width: 1em; height: 1em; margin: 0; vertical-align: middle; border: 1px solid #555; background-color: #2b084dff;\"></div></div>"
      ],
      "text/plain": [
       "<matplotlib.colors.LinearSegmentedColormap at 0x7ff9bafea750>"
      ]
     },
     "execution_count": 27,
     "metadata": {},
     "output_type": "execute_result"
    }
   ],
   "source": [
    "cmap_icci_1 = LinearSegmentedColormap.from_list('bins_100', colors_icci_l1, N=10000)\n",
    "cmap_icci_1"
   ]
  },
  {
   "cell_type": "code",
   "execution_count": 28,
   "id": "853c66c5",
   "metadata": {},
   "outputs": [
    {
     "data": {
      "image/png": "[encoded data removed]",
      "text/html": [
       "<div style=\"vertical-align: middle;\"><strong>bins_100</strong> </div><div class=\"cmap\"><img alt=\"bins_100 colormap\" title=\"bins_100\" style=\"border: 1px solid #555;\" src=\"data:image/png;base64,iVBORw0KGgoAAAANSUhEUgAAAgAAAABACAYAAABsv8+/AAAAF3RFWHRUaXRsZQBiaW5zXzEwMCBjb2xvcm1hcLv0aLkAAAAddEVYdERlc2NyaXB0aW9uAGJpbnNfMTAwIGNvbG9ybWFwkoqPkAAAADB0RVh0QXV0aG9yAE1hdHBsb3RsaWIgdjMuNy4xLCBodHRwczovL21hdHBsb3RsaWIub3JnKq/4TQAAADJ0RVh0U29mdHdhcmUATWF0cGxvdGxpYiB2My43LjEsIGh0dHBzOi8vbWF0cGxvdGxpYi5vcmcECWdqAAAB6klEQVR4nO3WUVKDMBSG0Rv3vwEX51La60NpBQSqrc505j/nhRqSEBgfvvH+0V19rlHnGnWq0dN18ftco0+Hc2p3Tt9dO9+/Nsf3znDePdv2PuszHO3flz0eWns85/KtfnK2rqqqmi6ur3HtXo+N6m9z12OjqqefvTc2bvN72uO233V8Nmd/7IFnT39vjt3eefmcnp9va2z2Xj2bc32v5569nLP4Drf7W2OzbzPf53DNct3+2Fjd/9pra+y1z3m8zyPnvP5PL6579xdn+uf798717Pq/vH/vXL/Yv2rUWwEAcQQAAAQSAAAQSAAAQCABAACBBAAABBIAABBIAABAIAEAAIEEAAAEEgAAEEgAAEAgAQAAgQQAAAQSAAAQSAAAQCABAACBBAAABBIAABBIAABAIAEAAIEEAAAEEgAAEEgAAEAgAQAAgQQAAAQSAAAQSAAAQCABAACBBAAABBIAABBIAABAIAEAAIEEAAAEEgAAEEgAAEAgAQAAgQQAAAQSAAAQSAAAQCABAACBBAAABBIAABBIAABAIAEAAIEEAAAEEgAAEEgAAEAgAQAAgQQAAAQSAAAQSAAAQCABAACBBAAABBIAABBIAABAIAEAAIEEAAAEEgAAEEgAAEAgAQAAgQQAAAQSAAAQ6BMbJLRtYaZKfQAAAABJRU5ErkJggg==\"></div><div style=\"vertical-align: middle; max-width: 514px; display: flex; justify-content: space-between;\"><div style=\"float: left;\"><div title=\"#99ddffff\" style=\"display: inline-block; width: 1em; height: 1em; margin: 0; vertical-align: middle; border: 1px solid #555; background-color: #99ddffff;\"></div> under</div><div style=\"margin: 0 auto; display: inline-block;\">bad <div title=\"#00000000\" style=\"display: inline-block; width: 1em; height: 1em; margin: 0; vertical-align: middle; border: 1px solid #555; background-color: #00000000;\"></div></div><div style=\"float: right;\">over <div title=\"#8c0053ff\" style=\"display: inline-block; width: 1em; height: 1em; margin: 0; vertical-align: middle; border: 1px solid #555; background-color: #8c0053ff;\"></div></div>"
      ],
      "text/plain": [
       "<matplotlib.colors.LinearSegmentedColormap at 0x7ff9ba72d3d0>"
      ]
     },
     "execution_count": 28,
     "metadata": {},
     "output_type": "execute_result"
    }
   ],
   "source": [
    "cmap_icci_2 = LinearSegmentedColormap.from_list('bins_100', colors_icci_l2, N=1000)\n",
    "cmap_icci_2\n",
    "\n",
    "cmap_icci_2_sh = LinearSegmentedColormap.from_list('bins_100', colors_icci_l2_sh, N=1000)\n",
    "cmap_icci_2_sh\n"
   ]
  },
  {
   "cell_type": "code",
   "execution_count": 29,
   "id": "f44f4436",
   "metadata": {},
   "outputs": [
    {
     "data": {
      "image/png": "[encoded data removed]",
      "text/html": [
       "<div style=\"vertical-align: middle;\"><strong>bins_100</strong> </div><div class=\"cmap\"><img alt=\"bins_100 colormap\" title=\"bins_100\" style=\"border: 1px solid #555;\" src=\"data:image/png;base64,iVBORw0KGgoAAAANSUhEUgAAAgAAAABACAYAAABsv8+/AAAAF3RFWHRUaXRsZQBiaW5zXzEwMCBjb2xvcm1hcLv0aLkAAAAddEVYdERlc2NyaXB0aW9uAGJpbnNfMTAwIGNvbG9ybWFwkoqPkAAAADB0RVh0QXV0aG9yAE1hdHBsb3RsaWIgdjMuNy4xLCBodHRwczovL21hdHBsb3RsaWIub3JnKq/4TQAAADJ0RVh0U29mdHdhcmUATWF0cGxvdGxpYiB2My43LjEsIGh0dHBzOi8vbWF0cGxvdGxpYi5vcmcECWdqAAABrklEQVR4nO3WUU6DQBSG0TvQpboll+kGOgI+lBqCmpakapr/nIQA05uZhqevvby+La2mOg29xnauceh1ar3G1j/XLve+/raZWde/XRvONbZeQ5s2e/Wv51z33Mz8eM6653VtqLlqqap5vW49H509Mn/k/KWe11JVU1W9r/d7r3vm5wfutZ9/4m8+767pwPut2bnaw/bavy/VfuV7AI8x/PcfAAD+ngAAgEACAAACCQAACCQAACCQAACAQAIAAAIJAAAIJAAAIJAAAIBAAgAAAgkAAAgkAAAgkAAAgEACAAACCQAACCQAACCQAACAQAIAAAIJAAAIJAAAIJAAAIBAAgAAAgkAAAgkAAAgkAAAgEACAAACCQAACCQAACCQAACAQAIAAAIJAAAIJAAAIJAAAIBAAgAAAgkAAAgkAAAgkAAAgEACAAACCQAACCQAACCQAACAQAIAAAIJAAAIJAAAIJAAAIBAAgAAAgkAAAgkAAAgkAAAgEACAAACCQAACCQAACCQAACAQAIAAAIJAAAIJAAAIJAAAIBAAgAAAgkAAAgkAAAgkAAAgEACAAACfQAab70ZZWAp5gAAAABJRU5ErkJggg==\"></div><div style=\"vertical-align: middle; max-width: 514px; display: flex; justify-content: space-between;\"><div style=\"float: left;\"><div title=\"#6495edff\" style=\"display: inline-block; width: 1em; height: 1em; margin: 0; vertical-align: middle; border: 1px solid #555; background-color: #6495edff;\"></div> under</div><div style=\"margin: 0 auto; display: inline-block;\">bad <div title=\"#00000000\" style=\"display: inline-block; width: 1em; height: 1em; margin: 0; vertical-align: middle; border: 1px solid #555; background-color: #00000000;\"></div></div><div style=\"float: right;\">over <div title=\"#980002ff\" style=\"display: inline-block; width: 1em; height: 1em; margin: 0; vertical-align: middle; border: 1px solid #555; background-color: #980002ff;\"></div></div>"
      ],
      "text/plain": [
       "<matplotlib.colors.LinearSegmentedColormap at 0x7ff9a787b7d0>"
      ]
     },
     "execution_count": 29,
     "metadata": {},
     "output_type": "execute_result"
    }
   ],
   "source": [
    "colors_temp5_l = ['cornflowerblue', 'gold', 'darkorange','darkorange', 'red','red', '#980002', '#980002','#980002', '#980002', '#980002', '#980002',]\n",
    "cmap_blue_red = LinearSegmentedColormap.from_list('bins_100',colors_temp5_l, N=1000)\n",
    "cmap_blue_red"
   ]
  },
  {
   "cell_type": "code",
   "execution_count": 30,
   "id": "668295a9",
   "metadata": {},
   "outputs": [
    {
     "data": {
      "image/png": "[encoded data removed]",
      "text/html": [
       "<div style=\"vertical-align: middle;\"><strong>bins_100</strong> </div><div class=\"cmap\"><img alt=\"bins_100 colormap\" title=\"bins_100\" style=\"border: 1px solid #555;\" src=\"data:image/png;base64,iVBORw0KGgoAAAANSUhEUgAAAgAAAABACAYAAABsv8+/AAAAF3RFWHRUaXRsZQBiaW5zXzEwMCBjb2xvcm1hcLv0aLkAAAAddEVYdERlc2NyaXB0aW9uAGJpbnNfMTAwIGNvbG9ybWFwkoqPkAAAADB0RVh0QXV0aG9yAE1hdHBsb3RsaWIgdjMuNy4xLCBodHRwczovL21hdHBsb3RsaWIub3JnKq/4TQAAADJ0RVh0U29mdHdhcmUATWF0cGxvdGxpYiB2My43LjEsIGh0dHBzOi8vbWF0cGxvdGxpYi5vcmcECWdqAAAB0UlEQVR4nO3WUW6bQBRA0YfX2i11md0C9MeObAe7WE4jRfccKcIMwwCTn7v8+v1nm9lmmXVOyzrLrLOcjzfnyzqn2T6u7c75OL+et7/23nqnq2fd3vNoje3u3vvznbXP8x4/63yc7fa5D9d68h33+3J5v6v5n/f49jue/1/e2JfLWrPNzMzlMNvd7/uxI3O+auynrvvT3nvvb31y7ZU5r95z9Pr8hzW/8zu+a8//MX9veA6MHZnz6vi7ax6Z+3nO8vZzvvodj7/7u3uxzGkAgBwBAABBAgAAggQAAAQJAAAIEgAAECQAACBIAABAkAAAgCABAABBAgAAggQAAAQJAAAIEgAAECQAACBIAABAkAAAgCABAABBAgAAggQAAAQJAAAIEgAAECQAACBIAABAkAAAgCABAABBAgAAggQAAAQJAAAIEgAAECQAACBIAABAkAAAgCABAABBAgAAggQAAAQJAAAIEgAAECQAACBIAABAkAAAgCABAABBAgAAggQAAAQJAAAIEgAAECQAACBIAABAkAAAgCABAABBAgAAggQAAAQJAAAIEgAAECQAACBIAABAkAAAgCABAABBAgAAggQAAAQJAAAIEgAAECQAACDoL1IFsiiYZ7b4AAAAAElFTkSuQmCC\"></div><div style=\"vertical-align: middle; max-width: 514px; display: flex; justify-content: space-between;\"><div style=\"float: left;\"><div title=\"#6495edff\" style=\"display: inline-block; width: 1em; height: 1em; margin: 0; vertical-align: middle; border: 1px solid #555; background-color: #6495edff;\"></div> under</div><div style=\"margin: 0 auto; display: inline-block;\">bad <div title=\"#00000000\" style=\"display: inline-block; width: 1em; height: 1em; margin: 0; vertical-align: middle; border: 1px solid #555; background-color: #00000000;\"></div></div><div style=\"float: right;\">over <div title=\"#980002ff\" style=\"display: inline-block; width: 1em; height: 1em; margin: 0; vertical-align: middle; border: 1px solid #555; background-color: #980002ff;\"></div></div>"
      ],
      "text/plain": [
       "<matplotlib.colors.LinearSegmentedColormap at 0x7ffa0258e450>"
      ]
     },
     "execution_count": 30,
     "metadata": {},
     "output_type": "execute_result"
    }
   ],
   "source": [
    "from matplotlib.colors import LinearSegmentedColormap\n",
    "colors_temp6_l = ['cornflowerblue', 'gold', 'darkorange', 'red','#980002']\n",
    "cmap_blue_red_bel3deg = LinearSegmentedColormap.from_list('bins_100',colors_temp6_l, N=1000)\n",
    "cmap_blue_red_bel3deg"
   ]
  },
  {
   "cell_type": "markdown",
   "id": "5dd4a6cb",
   "metadata": {},
   "source": [
    "**another scaler only going until 3 degree:**"
   ]
  },
  {
   "cell_type": "code",
   "execution_count": 31,
   "id": "ced97596",
   "metadata": {},
   "outputs": [
    {
     "name": "stdout",
     "output_type": "stream",
     "text": [
      "1.427504187860568 2.907176938010541\n"
     ]
    }
   ],
   "source": [
    "pd_cmip_sel_below3deg = pd_cmip_temp_ch_2100_gcm_until_2300.loc[pd_cmip_temp_ch_2100_gcm_until_2300['global_temp_ch_2071-2100_preindustrial']<=3]\n",
    "data_temp_bel3deg = pd_cmip_sel_below3deg['global_temp_ch_2071-2100_preindustrial'].values.reshape(1,-1).T\n",
    "scaler_below3deg = MinMaxScaler()\n",
    "scaler_below3deg.fit(data_temp_bel3deg)\n",
    "t_min_bel3deg, t_max_bel3deg = pd_cmip_sel_below3deg['global_temp_ch_2071-2100_preindustrial'].min(), pd_cmip_sel_below3deg['global_temp_ch_2071-2100_preindustrial'].max()\n",
    "print(t_min_bel3deg, t_max_bel3deg)"
   ]
  },
  {
   "cell_type": "markdown",
   "id": "5acd4832",
   "metadata": {},
   "source": [
    "**GCMs going below / equal 3 degree**"
   ]
  },
  {
   "cell_type": "code",
   "execution_count": 28,
   "id": "284a2114",
   "metadata": {},
   "outputs": [],
   "source": [
    "temp_eval_x = np.arange(1.4,6.3,0.001)"
   ]
  },
  {
   "cell_type": "code",
   "execution_count": 33,
   "id": "758a81fa",
   "metadata": {},
   "outputs": [
    {
     "name": "stderr",
     "output_type": "stream",
     "text": [
      "/tmp/ipykernel_90224/677254350.py:22: UserWarning: Tight layout not applied. The bottom and top margins cannot be made large enough to accommodate all axes decorations.\n",
      "  plt.tight_layout()\n"
     ]
    },
    {
     "data": {
      "image/png": "[encoded data removed]",
      "text/plain": [
       "<Figure size 400x100 with 1 Axes>"
      ]
     },
     "metadata": {},
     "output_type": "display_data"
    }
   ],
   "source": [
    "plt.figure(figsize=(4,1))\n",
    "cmap = cmap_icci_below3deg\n",
    "_scaler = scaler_below3deg\n",
    "temp_eval_x_sel = temp_eval_x[temp_eval_x<=3]\n",
    "colors_fit = cmap(_scaler.transform(temp_eval_x_sel.reshape(-1,1))) # only every decile ... \n",
    "for f,c in zip(temp_eval_x_sel, colors_fit):\n",
    "    plt.vlines(f,1,1.2, lw=3, alpha = 0.5,\n",
    "               color=c, zorder=7)\n",
    "    \n",
    "for t in pd_cmip_sel_below3deg['global_temp_ch_2071-2100_preindustrial'].values:\n",
    "    c = cmap(_scaler.transform(t.reshape(-1,1))) # only every decile ... \n",
    "\n",
    "    plt.vlines(t,0.95,1, lw=1, color=c)\n",
    "plt.yticks([])\n",
    "ax = plt.gca()\n",
    "ax.spines['right'].set_visible(False)\n",
    "ax.spines['left'].set_visible(False)\n",
    "ax.spines['top'].set_visible(False)\n",
    "ax.spines['bottom'].set_visible(False)\n",
    "plt.xticks([1.5,2,2.5,3], [1.5,2,2.5,3], fontsize=15, color='grey')\n",
    "plt.ylim([0.95,1.2])\n",
    "plt.tight_layout()\n",
    "plt.savefig('v2023_figures/colorbar.svg')"
   ]
  },
  {
   "cell_type": "code",
   "execution_count": 34,
   "id": "5bbe575b",
   "metadata": {},
   "outputs": [
    {
     "name": "stderr",
     "output_type": "stream",
     "text": [
      "/tmp/ipykernel_90224/2219712573.py:22: UserWarning: Tight layout not applied. The bottom and top margins cannot be made large enough to accommodate all axes decorations.\n",
      "  plt.tight_layout()\n"
     ]
    },
    {
     "data": {
      "image/png": "[encoded data removed]",
      "text/plain": [
       "<Figure size 500x100 with 1 Axes>"
      ]
     },
     "metadata": {},
     "output_type": "display_data"
    }
   ],
   "source": [
    "plt.figure(figsize=(5,1))\n",
    "cmap = cmap_icci_below3deg\n",
    "_scaler = scaler_below3deg\n",
    "temp_eval_x_sel = temp_eval_x[temp_eval_x<=3]\n",
    "colors_fit = cmap(_scaler.transform(temp_eval_x_sel.reshape(-1,1))) # only every decile ... \n",
    "for f,c in zip(temp_eval_x_sel, colors_fit):\n",
    "    plt.vlines(f,1,1.2, lw=3, alpha = 0.5,\n",
    "               color=c, zorder=7)\n",
    "    \n",
    "for t in pd_cmip_sel_below3deg['global_temp_ch_2071-2100_preindustrial'].values:\n",
    "    c = cmap(_scaler.transform(t.reshape(-1,1))) # only every decile ... \n",
    "\n",
    "    plt.vlines(t,0.95,1, lw=1, color=c)\n",
    "plt.yticks([])\n",
    "ax = plt.gca()\n",
    "ax.spines['right'].set_visible(False)\n",
    "ax.spines['left'].set_visible(False)\n",
    "ax.spines['top'].set_visible(False)\n",
    "ax.spines['bottom'].set_visible(False)\n",
    "plt.xticks(fontsize=15, color='grey')\n",
    "plt.ylim([0.95,1.2])\n",
    "plt.tight_layout()\n",
    "\n",
    "plt.savefig('v2023_figures/colorbar2.svg')"
   ]
  },
  {
   "cell_type": "code",
   "execution_count": 35,
   "id": "d2058d30",
   "metadata": {},
   "outputs": [],
   "source": [
    "# this file has been merged in lowess_percentile_interval_fit_create_fit_data_and_merge_lowess_final_fit_files.ipynb\n",
    "# the actual fits were computed by lowess_percentile_interval_fit_per_region.py\n",
    "pd_fit_stats = pd.read_csv('lowess_fit_stats_oct29_predi_all_it1.csv', index_col=0)\n",
    "def boxplot_manual(qs= [0.1,0.5,1,2,3],\n",
    "                   p = 2300, ax = None, j=0, temp_val = 1.5, _scaler=scaler):\n",
    "    q05, q25, q50, q75, q95 = qs\n",
    "    if temp_val == None:\n",
    "        c = 'grey'\n",
    "    else:\n",
    "        c = cmap(_scaler.transform(np.array([temp_val]).reshape(-1,1))).flatten()\n",
    "    item = {}\n",
    "    #item[\"label\"] = 'box' # not required\n",
    "    item[\"med\"] = q50\n",
    "    item[\"q1\"] = q25\n",
    "    item[\"q3\"] = q75\n",
    "    #item[\"cilo\"] = 5.3 # not required\n",
    "    #item[\"cihi\"] = 5.7 # not required\n",
    "    item[\"whislo\"] = q05\n",
    "    item[\"whishi\"] = q95\n",
    "    stats = [item]\n",
    "    boxprops = dict(linestyle='-', linewidth=2, color=c)\n",
    "    whisprops = dict(color=c, linewidth=1)\n",
    "    flierprops = dict(marker='o', markerfacecolor='green', markersize=0,\n",
    "                      markeredgecolor='none')\n",
    "    medianprops = dict(linestyle='-', linewidth=4, color=c)\n",
    "    ax.bxp(stats, positions = [p + j], showfliers = False,\n",
    "            flierprops= flierprops, medianprops=medianprops, boxprops=boxprops,\n",
    "             widths=4.5, #patch_artist=True,\n",
    "            whiskerprops=whisprops, capprops = dict(color=c, linewidth=1))"
   ]
  },
  {
   "cell_type": "code",
   "execution_count": 148,
   "id": "8c3f1abe",
   "metadata": {},
   "outputs": [
    {
     "name": "stderr",
     "output_type": "stream",
     "text": [
      "No artists with labels found to put in legend.  Note that artists whose label start with an underscore are ignored when legend() is called with no argument.\n"
     ]
    },
    {
     "name": "stdout",
     "output_type": "stream",
     "text": [
      "RGI16 0.41 0 0.5940125822019444 -0.009331074123102\n"
     ]
    },
    {
     "name": "stderr",
     "output_type": "stream",
     "text": [
      "No artists with labels found to put in legend.  Note that artists whose label start with an underscore are ignored when legend() is called with no argument.\n"
     ]
    },
    {
     "name": "stdout",
     "output_type": "stream",
     "text": [
      "RGI08 0.96 0 1.0382209879829225 0.0437381748806752\n"
     ]
    },
    {
     "name": "stderr",
     "output_type": "stream",
     "text": [
      "No artists with labels found to put in legend.  Note that artists whose label start with an underscore are ignored when legend() is called with no argument.\n"
     ]
    },
    {
     "name": "stdout",
     "output_type": "stream",
     "text": [
      "RGI11 0.51 0 0.4329462619194236 -0.0115070402162595\n"
     ]
    },
    {
     "name": "stderr",
     "output_type": "stream",
     "text": [
      "No artists with labels found to put in legend.  Note that artists whose label start with an underscore are ignored when legend() is called with no argument.\n"
     ]
    },
    {
     "name": "stdout",
     "output_type": "stream",
     "text": [
      "RGI02 0.46 0 0.0863687406451393 -0.0073848595658214\n"
     ]
    },
    {
     "name": "stderr",
     "output_type": "stream",
     "text": [
      "No artists with labels found to put in legend.  Note that artists whose label start with an underscore are ignored when legend() is called with no argument.\n"
     ]
    },
    {
     "name": "stdout",
     "output_type": "stream",
     "text": [
      "RGI18 0.86 0 2.421712130179934 0.0639439491791801\n"
     ]
    },
    {
     "name": "stderr",
     "output_type": "stream",
     "text": [
      "No artists with labels found to put in legend.  Note that artists whose label start with an underscore are ignored when legend() is called with no argument.\n"
     ]
    },
    {
     "name": "stdout",
     "output_type": "stream",
     "text": [
      "RGI06 0.99 0 21.31067898391548 0.075307676741005\n",
      "RGI06 problem\n",
      "RGI06 0.8 0 -1.6090488460476096 -0.2584169616942668\n"
     ]
    },
    {
     "name": "stderr",
     "output_type": "stream",
     "text": [
      "No artists with labels found to put in legend.  Note that artists whose label start with an underscore are ignored when legend() is called with no argument.\n"
     ]
    },
    {
     "name": "stdout",
     "output_type": "stream",
     "text": [
      "RGI13-14-15 0.99 0 8.45265502846896 0.0300477867204858\n",
      "RGI13-14-15 0.57 0 -0.0536211913880723 -0.3423459518639633\n"
     ]
    },
    {
     "name": "stderr",
     "output_type": "stream",
     "text": [
      "No artists with labels found to put in legend.  Note that artists whose label start with an underscore are ignored when legend() is called with no argument.\n"
     ]
    },
    {
     "name": "stdout",
     "output_type": "stream",
     "text": [
      "RGI01 0.99 0 24.468128333237928 0.0562669460517852\n",
      "RGI01 0.57 0 0.4378871108982666 -0.0461755604138239\n"
     ]
    },
    {
     "name": "stderr",
     "output_type": "stream",
     "text": [
      "No artists with labels found to put in legend.  Note that artists whose label start with an underscore are ignored when legend() is called with no argument.\n"
     ]
    },
    {
     "name": "stdout",
     "output_type": "stream",
     "text": [
      "RGI04 0.97 0 17.45129269512268 -0.2584482711844496\n",
      "RGI04 0.72 -0.5 -1.453974934319801 -0.1119918149230363\n"
     ]
    },
    {
     "name": "stderr",
     "output_type": "stream",
     "text": [
      "No artists with labels found to put in legend.  Note that artists whose label start with an underscore are ignored when legend() is called with no argument.\n"
     ]
    },
    {
     "name": "stdout",
     "output_type": "stream",
     "text": [
      "RGI17 0.99 0 16.27953236489871 0.3190121418276295\n"
     ]
    },
    {
     "name": "stderr",
     "output_type": "stream",
     "text": [
      "No artists with labels found to put in legend.  Note that artists whose label start with an underscore are ignored when legend() is called with no argument.\n"
     ]
    },
    {
     "name": "stdout",
     "output_type": "stream",
     "text": [
      "global 0.99 0 40.35323776152246 0.1281386443393088\n",
      "global 0.45 0 0.4881256712591804 -0.18261132766947\n"
     ]
    },
    {
     "name": "stderr",
     "output_type": "stream",
     "text": [
      "No artists with labels found to put in legend.  Note that artists whose label start with an underscore are ignored when legend() is called with no argument.\n"
     ]
    },
    {
     "name": "stdout",
     "output_type": "stream",
     "text": [
      "RGI16 0.41 0 0.5940125822019444 -0.009331074123102\n"
     ]
    },
    {
     "name": "stderr",
     "output_type": "stream",
     "text": [
      "No artists with labels found to put in legend.  Note that artists whose label start with an underscore are ignored when legend() is called with no argument.\n"
     ]
    },
    {
     "name": "stdout",
     "output_type": "stream",
     "text": [
      "RGI08 0.96 0 1.0382209879829225 0.0437381748806752\n"
     ]
    },
    {
     "name": "stderr",
     "output_type": "stream",
     "text": [
      "No artists with labels found to put in legend.  Note that artists whose label start with an underscore are ignored when legend() is called with no argument.\n"
     ]
    },
    {
     "name": "stdout",
     "output_type": "stream",
     "text": [
      "RGI11 0.51 0 0.4329462619194236 -0.0115070402162595\n"
     ]
    },
    {
     "name": "stderr",
     "output_type": "stream",
     "text": [
      "No artists with labels found to put in legend.  Note that artists whose label start with an underscore are ignored when legend() is called with no argument.\n"
     ]
    },
    {
     "name": "stdout",
     "output_type": "stream",
     "text": [
      "RGI02 0.46 0 0.0863687406451393 -0.0073848595658214\n"
     ]
    },
    {
     "name": "stderr",
     "output_type": "stream",
     "text": [
      "No artists with labels found to put in legend.  Note that artists whose label start with an underscore are ignored when legend() is called with no argument.\n"
     ]
    },
    {
     "name": "stdout",
     "output_type": "stream",
     "text": [
      "RGI18 0.86 0 2.421712130179934 0.0639439491791801\n"
     ]
    },
    {
     "name": "stderr",
     "output_type": "stream",
     "text": [
      "No artists with labels found to put in legend.  Note that artists whose label start with an underscore are ignored when legend() is called with no argument.\n"
     ]
    },
    {
     "name": "stdout",
     "output_type": "stream",
     "text": [
      "RGI06 0.99 0 21.31067898391548 0.075307676741005\n",
      "RGI06 problem\n",
      "RGI06 0.8 0 -1.6090488460476096 -0.2584169616942668\n"
     ]
    },
    {
     "name": "stderr",
     "output_type": "stream",
     "text": [
      "No artists with labels found to put in legend.  Note that artists whose label start with an underscore are ignored when legend() is called with no argument.\n"
     ]
    },
    {
     "name": "stdout",
     "output_type": "stream",
     "text": [
      "RGI13-14-15 0.99 0 8.45265502846896 0.0300477867204858\n",
      "RGI13-14-15 0.57 0 -0.0536211913880723 -0.3423459518639633\n"
     ]
    },
    {
     "name": "stderr",
     "output_type": "stream",
     "text": [
      "No artists with labels found to put in legend.  Note that artists whose label start with an underscore are ignored when legend() is called with no argument.\n"
     ]
    },
    {
     "name": "stdout",
     "output_type": "stream",
     "text": [
      "RGI01 0.99 0 24.468128333237928 0.0562669460517852\n",
      "RGI01 0.57 0 0.4378871108982666 -0.0461755604138239\n"
     ]
    },
    {
     "name": "stderr",
     "output_type": "stream",
     "text": [
      "No artists with labels found to put in legend.  Note that artists whose label start with an underscore are ignored when legend() is called with no argument.\n"
     ]
    },
    {
     "name": "stdout",
     "output_type": "stream",
     "text": [
      "RGI04 0.97 0 17.45129269512268 -0.2584482711844496\n",
      "RGI04 0.72 -0.5 -1.453974934319801 -0.1119918149230363\n"
     ]
    },
    {
     "name": "stderr",
     "output_type": "stream",
     "text": [
      "No artists with labels found to put in legend.  Note that artists whose label start with an underscore are ignored when legend() is called with no argument.\n"
     ]
    },
    {
     "name": "stdout",
     "output_type": "stream",
     "text": [
      "RGI17 0.99 0 16.27953236489871 0.3190121418276295\n"
     ]
    },
    {
     "name": "stderr",
     "output_type": "stream",
     "text": [
      "No artists with labels found to put in legend.  Note that artists whose label start with an underscore are ignored when legend() is called with no argument.\n"
     ]
    },
    {
     "name": "stdout",
     "output_type": "stream",
     "text": [
      "global 0.99 0 40.35323776152246 0.1281386443393088\n",
      "global 0.45 0 0.4881256712591804 -0.18261132766947\n"
     ]
    }
   ],
   "source": [
    "v = 3 ## COLOR SCALE version ... \n",
    "add_median = True\n",
    "\n",
    "for only_below3deg in [True,False]:\n",
    "\n",
    "    if only_below3deg:\n",
    "        vv = f'v{v}_below3deg'\n",
    "        _scaler = scaler_below3deg\n",
    "        if v == 'm':\n",
    "            cmap = cmap_blue_red_bel3deg\n",
    "        elif v == 1:\n",
    "            cmap = cmap_icci_1\n",
    "        elif v==2:\n",
    "            cmap = cmap_icci_2_sh\n",
    "        elif v==3:\n",
    "            cmap = cmap_icci_below3deg\n",
    "        caption_text = 'colors describe global temperature\\nchange in 2100 from +1.4°C to +3.0°C'\n",
    "\n",
    "    else:\n",
    "        vv = f'v{v}_all'\n",
    "        _scaler = scaler\n",
    "        #cmap = cmap_icci_1 #cmap_icci_2#cmap_blue_red\n",
    "        if v == 'm':\n",
    "            cmap = cmap_blue_red\n",
    "        elif v == 1:\n",
    "            cmap = cmap_icci_1\n",
    "        elif v==2:\n",
    "            cmap = cmap_icci_2\n",
    "        elif v==3:\n",
    "            cmap = cmap_icci_3\n",
    "\n",
    "        caption_text = 'colors describe global temperature\\nchange in 2100 from +1.4°C to +6.3°C'\n",
    "    color_continuous = True\n",
    "    decile_ticks = True\n",
    "    plt.rc('font', size=26)\n",
    "    it = 1\n",
    "    frac_dict = {}\n",
    "    for uncertainty in [ 'boxplot']: #, 'no_uncertainties']: # 'no_uncertainties',\n",
    "        if uncertainty == 'boxplot':\n",
    "            num_fits = 1000\n",
    "            delta_text = 23\n",
    "            xlim1 = 2327\n",
    "        else:\n",
    "            num_fits = 1000 \n",
    "            delta_text = 4\n",
    "            xlim1 = 2309\n",
    "\n",
    "        for reg in list(d_reg_num_name_icci_reg.keys()):\n",
    "            rgi_regs = d_reg_num_name_icci_reg[reg]\n",
    "\n",
    "            len_sub_p = len(rgi_regs)\n",
    "            props = dict(boxstyle='round', facecolor='white', alpha=0.5)\n",
    "            if (reg == 'Glaciers globally') or (reg == 'low-latitudes'):\n",
    "                fig, axs = plt.subplots(1,1, figsize=(12.5,25/3)) \n",
    "                axs = [axs]#.flatten()\n",
    "                #for a in [1,2,3,4,5]:\n",
    "                #    axs[a].remove()\n",
    "                # figure to show caption \n",
    "                ax_f = axs[0] \n",
    "\n",
    "            elif reg == 'mid-latitudes':\n",
    "                fig, axs = plt.subplots(2,2, figsize=(25,25*2/3))\n",
    "                axs = axs.flatten()\n",
    "                #axs[4].remove()\n",
    "                #axs[5].remove()\n",
    "                ax_f = axs[2]\n",
    "            elif reg == 'polar-hma':\n",
    "                fig, axs = plt.subplots(3,2, figsize=(25,25))\n",
    "                axs = axs.flatten()\n",
    "                ax_f = axs[4]\n",
    "                #ax_f.spines['left'].set_visible(False)\n",
    "                #ax_f.spines['bottom'].set_visible(False)\n",
    "                axs[5].remove()\n",
    "\n",
    "            else:\n",
    "                print('sth. wrong')\n",
    "\n",
    "            for jj,_rgi_reg in enumerate(rgi_regs): \n",
    "                ax = axs[jj]\n",
    "                list_index_l = []\n",
    "                err_l = []\n",
    "                for m in path_d.keys():\n",
    "                    list_index_l.append(list(pd_cmip_temp_ch_2100.index + '_' + m))\n",
    "                pd_proj_2100_2300 = pd.DataFrame(index=np.concatenate(list_index_l))\n",
    "\n",
    "                if _rgi_reg !='global':\n",
    "                    rgi_reg = f'RGI{_rgi_reg}'\n",
    "                else:\n",
    "                    rgi_reg = _rgi_reg \n",
    "\n",
    "                ####\n",
    "                pd_fit_stats_reg = pd_fit_stats.loc[pd_fit_stats.region == rgi_reg]\n",
    "                pd_fit_stats_reg_lowess = pd_fit_stats_reg.loc[pd_fit_stats_reg.fit_opt == 'lowess_predi']\n",
    "                pd_fit_stats_reg_exp = pd_fit_stats_reg.loc[pd_fit_stats_reg.fit_opt == 'exp']\n",
    "                sel_it = pd_fit_stats_reg_lowess # we don't have it anymore ... .loc[pd_fit_stats_reg_lowess.it ==it]\n",
    "\n",
    "                ######\n",
    "                fig_fit, axs_fit = plt.subplots(2,1, figsize=(15,20)) \n",
    "\n",
    "                for end_year,ls in zip(['2300'],['-']):\n",
    "                    #for temp_lev in colors_temp.keys():\n",
    "\n",
    "                    for cmip in ['CMIP5','CMIP6']:\n",
    "                        pd_cmip = pd_cmip_temp_ch_2100_gcm_until_2300.loc[pd_cmip_temp_ch_2100_gcm_until_2300.ssp != 'ssp534-over']\n",
    "                        pd_cmip = pd_cmip.loc[pd_cmip.cmip == cmip]\n",
    "                        # check that there are temperature values in 2300 available ... \n",
    "                        pd_cmip = pd_cmip.loc[pd_cmip['global_temp_ch_2271-2300_preindustrial'].dropna().index]\n",
    "                        for gcm_scenario in pd_cmip.index:\n",
    "                            df_rel_l = []\n",
    "                            for m in path_d.keys():\n",
    "                                try:\n",
    "                                    gcm, scenario = gcm_scenario.split('_')\n",
    "                                    path = path_d[m]\n",
    "                                    gcm_scenario_m = gcm_scenario + '_' + m\n",
    "                                    n = len(gcm_scenario)\n",
    "                                    if _rgi_reg == '13-14-15':\n",
    "                                        df = 0\n",
    "                                        for sub_rgi_reg in ['RGI13','RGI14','RGI15']:\n",
    "                                            idir = path + f'volume/{cmip}/{end_year}/{sub_rgi_reg}/'\n",
    "                                            _df = pd.read_csv(idir + f'{scenario}.csv', index_col=0)\n",
    "                                            _df.columns = [g.upper() for g in _df.columns]\n",
    "                                            _df = _df[gcm.upper()]\n",
    "                                            df += _df\n",
    "                                    else:\n",
    "                                        idir = path  + f'volume/{cmip}/{end_year}/{rgi_reg}/'\n",
    "                                        df = pd.read_csv(idir + f'{scenario}.csv', index_col=0)\n",
    "                                        df.columns = [g.upper() for g in df.columns]\n",
    "                                        df = df[gcm.upper()]\n",
    "                                    df = df.loc[2000:]\n",
    "                                    # first do the rolling than the relative estimates .. \n",
    "                                    df_roll = df.rolling(20, center=True, min_periods=1).mean().dropna()\n",
    "                                    df_rel_roll = 100*df_roll/df_roll.loc[2020]                                    \n",
    "\n",
    "                                    temp_ch = pd_cmip.loc[gcm_scenario, 'global_temp_ch_2071-2100_preindustrial']\n",
    "                                    # if temp_ch < 3:\n",
    "                                    #if only_below3deg:\n",
    "                                    pd_proj_2100_2300.loc[gcm_scenario_m, 'global_temp_ch_2071-2100_preindustrial'] = temp_ch\n",
    "                                    pd_proj_2100_2300.loc[gcm_scenario_m, f'rel_ice_2100_{rgi_reg}'] = df_rel_roll.loc[2100]\n",
    "\n",
    "                                    color= cmap(_scaler.transform(temp_ch.reshape(-1,1))).flatten()\n",
    "                                    if not add_median:\n",
    "                                        alpha = 0.2\n",
    "                                        ax.plot(df_rel_roll.loc[2020:2300].index, df_rel_roll.loc[2020:2300], lw=2, color=color,ls=ls, alpha = alpha) \n",
    "                                        ax.plot(df_rel_roll.loc[2000:2020].index, df_rel_roll.loc[2000:2020], lw=3, color='black', ls=ls, alpha = alpha)\n",
    "                                    pd_proj_2100_2300.loc[gcm_scenario_m, f'rel_ice_2300_{rgi_reg}'] = df_rel_roll.loc[2300]\n",
    "                                    pd_proj_2100_2300.loc[gcm_scenario_m, 'model'] = m\n",
    "\n",
    "                                    df_rel_l.append(df_rel_roll.loc[2000:2300])\n",
    "                                except:\n",
    "                                    pass\n",
    "                            if add_median:\n",
    "                                if len(df_rel_l) > 0:\n",
    "                                    if (not only_below3deg) or (temp_ch<=3):\n",
    "                                        df_rel_med = pd.DataFrame(df_rel_l).T.median(axis=1)\n",
    "                                        ax.plot(df_rel_med.loc[2020:2300].index, df_rel_med.loc[2020:2300], lw=2, color=color,ls=ls, alpha = 0.3) \n",
    "                                        ax.plot(df_rel_med.loc[2000:2020].index, df_rel_med.loc[2000:2020], lw=2, color='black', ls=ls, alpha = 0.3)\n",
    "\n",
    "                ax.set_ylim([0,125])\n",
    "                if jj in [0,2,4]:\n",
    "                    ax.set_ylabel('% of Remaining Ice',# (relative to 2020)',\n",
    "                                  fontweight = 'bold', fontsize=22)\n",
    "                else:\n",
    "                    ax.set_ylabel('')\n",
    "                ax.set_xlabel('Year',  fontweight = 'bold', fontsize=22)\n",
    "                handles, labels = ax.get_legend_handles_labels()\n",
    "                for h in handles:\n",
    "                    h.set_linewidth(3)\n",
    "                ax.legend(handles, labels,\n",
    "                              handlelength=1,\n",
    "                              title='Temperature change between 1850-1900 & 2071-2100:', ncol=5)\n",
    "                ax.legend().remove()\n",
    "\n",
    "                ax.set_title(d_reg_num_name_icci[_rgi_reg], fontweight='bold', fontsize=24)\n",
    "\n",
    "                pd_proj_2100_2300 = pd_proj_2100_2300.dropna()\n",
    "                assert len(pd_proj_2100_2300) == 60\n",
    "                for j,sim_year in enumerate([2100,2300]):\n",
    "                    # choose a \"frac\" parameter and select the right fitting values \n",
    "                    frac, _sel = select_frac_w_experts(sel_it, sim_year=sim_year)\n",
    "                    frac_dict[f'{rgi_reg}_{sim_year}'] = frac\n",
    "\n",
    "                    ax_fit = axs_fit[j]\n",
    "                    ax_fit.set_title(f'{d_reg_num_name_icci[_rgi_reg]}:  year {sim_year}', fontweight='bold')\n",
    "\n",
    "                    # get the raw data ...\n",
    "                    x = pd_proj_2100_2300['global_temp_ch_2071-2100_preindustrial']\n",
    "                    y = pd_proj_2100_2300[f'rel_ice_{sim_year}_{rgi_reg}']\n",
    "\n",
    "                    t_min, t_max = x.min(), x.max()\n",
    "                    if sim_year == 2100:\n",
    "                        delta_x = 0.002\n",
    "                    else:\n",
    "                        delta_x = 0.001\n",
    "\n",
    "                    df_quantiles = _sel[['q50','q05','q25','q75','q95']]\n",
    "                    # we just have to clip negative values .... there are still some although we tried to omit them by choosing the best frac ... \n",
    "                    df_quantiles = df_quantiles.where(df_quantiles>=0, 0)\n",
    "                    _sel_ice_eval = df_quantiles['q50'].values\n",
    "                    _sel_ice_eval_bottom = df_quantiles['q05'].values\n",
    "                    _sel_ice_eval_bottom_iqr = df_quantiles['q25'].values\n",
    "                    _sel_ice_eval_top_iqr = df_quantiles['q75'].values\n",
    "                    _sel_ice_eval_top = df_quantiles['q95'].values\n",
    "\n",
    "                    ax_fit.plot(pd_fit_stats_reg_exp.loc[pd_fit_stats_reg_exp.year ==sim_year].deltaTemp,\n",
    "                             pd_fit_stats_reg_exp.loc[pd_fit_stats_reg_exp.year ==sim_year].q50, lw=3, color='green', alpha = 0.5, label='exponential fit')\n",
    "                    ax_fit.plot(_sel.deltaTemp,\n",
    "                             _sel_ice_eval, lw=3, color='black', alpha = 1, label=f'lowess, frac={frac}')\n",
    "                    ax_fit.fill_between(_sel.deltaTemp, _sel_ice_eval_bottom, _sel_ice_eval_top, lw=3, alpha=0.2, color=f'black', label='90% PI')\n",
    "                    ax_fit.fill_between(_sel.deltaTemp, _sel_ice_eval_bottom_iqr, _sel_ice_eval_top_iqr, lw=3, alpha=0.4, color=f'black', label = '50% PI (IQR)')\n",
    "\n",
    "                    temp_eval_x = _sel.deltaTemp.values\n",
    "                    sns.scatterplot(ax=ax_fit,\n",
    "                                    data = pd_proj_2100_2300, #.loc[j], \n",
    "                                    x='global_temp_ch_2071-2100_preindustrial', y=f'rel_ice_{sim_year}_{rgi_reg}',\n",
    "                                                    style='model',\n",
    "                                    hue='global_temp_ch_2071-2100_preindustrial',\n",
    "                                    palette=cmap,      \n",
    "                                    sizes=[150,150,150], size='model') #, legend=)\n",
    "                    ax_fit.legend(fontsize=16, ncols=2)\n",
    "\n",
    "                    ax_fit.set_xlabel('Temperature change between 1850-1900 & 2071-2100')\n",
    "                    ax_fit.set_ylabel(f'% of Remaining Glacier Ice\\nin {sim_year} (relative to 2020)')\n",
    "\n",
    "                    for j,temp_lev in enumerate(list(colors_temp_values.keys())):\n",
    "\n",
    "                        # for the annotation in the main plot ... \n",
    "                        if (temp_lev != '>4.0°C') and (temp_lev != '<=+4.0°C'):\n",
    "\n",
    "                            temp_lev_value = colors_temp_values[temp_lev]\n",
    "                            color= cmap(_scaler.transform(np.array([temp_lev_value]).reshape(-1,1))).flatten()\n",
    "                            idx_nearest = np.abs(temp_eval_x - temp_lev_value).argmin()\n",
    "                            if j >0:\n",
    "                                # check the previous fit, if they overlap, need to shift the text\n",
    "                                previous_fit = fit.copy()\n",
    "                            else:\n",
    "                                previous_fit = 10\n",
    "\n",
    "\n",
    "                            if previous_fit <4:\n",
    "                                shift = previous_fit-3.5\n",
    "                            else:\n",
    "                                shift = 0\n",
    "\n",
    "                            fit = _sel_ice_eval[idx_nearest]\n",
    "\n",
    "\n",
    "\n",
    "                            if sim_year == 2300:\n",
    "                                loc_2300_stats = 2300 +4 \n",
    "                            else:\n",
    "                                loc_2300_stats = 2100\n",
    "                            #if temp_lev_value>1.5:\n",
    "                            #    ax.vlines(loc_2300_stats,y_fitted[0], y_fitted[1], color=colors_temp[temp_lev], lw=15, alpha = 0.4)\n",
    "                            ax.hlines(fit,loc_2300_stats-3, loc_2300_stats+3, lw=8, color=color, zorder=10)\n",
    "\n",
    "                            if sim_year == 2300:\n",
    "                                bbox=dict(facecolor='white', edgecolor='white', boxstyle='round', alpha = 0.8)\n",
    "                                ax.annotate(temp_lev[2:], xy=(2300, fit),\n",
    "                                            xytext=(loc_2300_stats+delta_text, fit+shift),\n",
    "                                                        verticalalignment=\"center\",\n",
    "                                                        color=color, alpha=1, fontweight = 'bold', fontsize=18)\n",
    "                                _sel_temp_lev_qs = np.array([ _sel_ice_eval_bottom[idx_nearest],\n",
    "                                                             _sel_ice_eval_bottom_iqr[idx_nearest], _sel_ice_eval[idx_nearest],\n",
    "                                                             _sel_ice_eval_top_iqr[idx_nearest], _sel_ice_eval_top[idx_nearest]])\n",
    "                                if uncertainty == 'boxplot':\n",
    "                                    boxplot_manual(qs= _sel_temp_lev_qs,\n",
    "                                                   p = loc_2300_stats+7,\n",
    "                                                   ax = ax, j=j*6, temp_val = temp_lev_value,\n",
    "                                                   _scaler=_scaler,\n",
    "                                                   )\n",
    "                    np.testing.assert_allclose(temp_eval_x[::2], np.arange(1.4,6.3,0.1))\n",
    "\n",
    "                    lw = 3\n",
    "                    if only_below3deg:\n",
    "                        temp_eval_x_sel = temp_eval_x[temp_eval_x<=3]\n",
    "                        _sel_ice_eval_sel = _sel_ice_eval[temp_eval_x<=3]\n",
    "                        colors_fit = cmap(_scaler.transform(temp_eval_x_sel[::2].reshape(-1,1))) # only every decile ... \n",
    "                        for c,f in zip(colors_fit, _sel_ice_eval_sel[::2]):\n",
    "                            ax.hlines(f,loc_2300_stats-1.5, loc_2300_stats+1.5, lw=lw, alpha = 0.5,\n",
    "                                       color=c, zorder=7)\n",
    "                    else:\n",
    "                        colors_fit = cmap(_scaler.transform(temp_eval_x[::2].reshape(-1,1))) # only every decile ... \n",
    "                        for c,f in zip(colors_fit, _sel_ice_eval[::2]):\n",
    "                            ax.hlines(f,loc_2300_stats-1.5, loc_2300_stats+1.5, lw=lw, alpha = 0.5,\n",
    "                                       color=c, zorder=7)\n",
    "\n",
    "                ax.set_xlim([1997, xlim1])\n",
    "                if rgi_reg == 'RGI08':\n",
    "                    ax_fit.set_ylim([-0.5, 120])\n",
    "\n",
    "                ax.set_xticks([2020,2100,2200,2300],[2020,2100,2200,2300])\n",
    "                ax.spines['right'].set_visible(False)\n",
    "                ax.spines['top'].set_visible(False)\n",
    "\n",
    "                fig_fit.tight_layout()\n",
    "                if uncertainty == 'boxplot':\n",
    "                        fig_fit.savefig(f'v2023_figures/appendix_fit/lowess_predi_exp_fit_oggm_glogem_pygem_temp_levels_{rgi_reg}_v3.png')\n",
    "\n",
    "            ax_f.text(2290,119, caption_text,  #transform=ax_f.transAxes,\n",
    "                                    verticalalignment=\"top\", bbox=props, horizontalalignment='right',\n",
    "                                    color='grey', alpha=1, fontweight = 'bold', fontsize=18)\n",
    "\n",
    "\n",
    "            if uncertainty == 'boxplot':\n",
    "                qs = [99,103,109,113,120]\n",
    "                q_t = [f' 5%','25%','50%','75%', '95%']\n",
    "                boxplot_manual(qs= qs,\n",
    "                                p = 2300, ax = ax_f, j=0, temp_val = None)\n",
    "                for q,t in zip(qs,q_t):\n",
    "                    ax_f.text(2303, q-1, t, color = 'grey', fontsize=15)\n",
    "                ax_f.set_xticks([2020,2100,2200,2300],[2020,2100,2200,2300])\n",
    "\n",
    "\n",
    "\n",
    "            fig.tight_layout()\n",
    "            # for every of the four large regions ... \n",
    "            if reg == 'Glaciers globally':\n",
    "                reg = 'Glaciers-globally'\n",
    "            if uncertainty== 'boxplot':\n",
    "                if only_below3deg:\n",
    "                    if add_median:\n",
    "                        fig.savefig(f'v2023_figures/main_figures_with_uncertainties/median_glac_models/png/final_draft_icci_2023_below3deg/icci_report_2023_median_lowess_predi_oggm_glogem_pygem_temp_levels_{reg}_{uncertainty}_{vv}.png')\n",
    "                        fig.savefig(f'v2023_figures/main_figures_with_uncertainties/median_glac_models/svg/final_draft_icci_2023_below3deg/icci_report_2023_median_lowess_predi_oggm_glogem_pygem_temp_levels_{reg}_{uncertainty}_{vv}.svg')\n",
    "                    else:\n",
    "                        fig.savefig(f'v2023_figures/main_figures_with_uncertainties/all_glac_models/png/final_draft_icci_2023_below3deg/icci_report_2023_lowess_predi_oggm_glogem_pygem_temp_levels_{reg}_{uncertainty}_{vv}.png')\n",
    "                        fig.savefig(f'v2023_figures/main_figures_with_uncertainties/all_glac_models/svg/final_draft_icci_2023_below3deg/icci_report_2023_lowess_predi_oggm_glogem_pygem_temp_levels_{reg}_{uncertainty}_{vv}.svg')\n",
    "                else:\n",
    "                    if add_median:\n",
    "                        fig.savefig(f'v2023_figures/main_figures_with_uncertainties/median_glac_models/png/final_draft_icci_2023/icci_report_2023_median_lowess_predi_oggm_glogem_pygem_temp_levels_{reg}_{uncertainty}_{vv}.png')\n",
    "                        fig.savefig(f'v2023_figures/main_figures_with_uncertainties/median_glac_models/svg/final_draft_icci_2023/icci_report_2023_median_lowess_predi_oggm_glogem_pygem_temp_levels_{reg}_{uncertainty}_{vv}.svg')\n",
    "                    else:\n",
    "                        fig.savefig(f'v2023_figures/main_figures_with_uncertainties/all_glac_models/png/final_draft_icci_2023/icci_report_2023_lowess_predi_oggm_glogem_pygem_temp_levels_{reg}_{uncertainty}_{vv}.png')\n",
    "                        fig.savefig(f'v2023_figures/main_figures_with_uncertainties/all_glac_models/svg/final_draft_icci_2023/icci_report_2023_lowess_predi_oggm_glogem_pygem_temp_levels_{reg}_{uncertainty}_{vv}.svg')\n",
    "\n",
    "\n",
    "            plt.close()\n",
    "            plt.close()\n",
    "            plt.close()\n",
    "            plt.close()\n",
    "            plt.close()\n",
    "            plt.close()\n",
    "            plt.close()\n"
   ]
  },
  {
   "cell_type": "markdown",
   "id": "5a8aa489",
   "metadata": {},
   "source": [
    "**repeat it for every single RGI region (in separate files)**"
   ]
  },
  {
   "cell_type": "code",
   "execution_count": 44,
   "id": "981f49dd",
   "metadata": {},
   "outputs": [
    {
     "name": "stderr",
     "output_type": "stream",
     "text": [
      "No artists with labels found to put in legend.  Note that artists whose label start with an underscore are ignored when legend() is called with no argument.\n"
     ]
    },
    {
     "name": "stdout",
     "output_type": "stream",
     "text": [
      "RGI16 0.41 0 0.5940125822019444 -0.009331074123102\n"
     ]
    },
    {
     "name": "stderr",
     "output_type": "stream",
     "text": [
      "No artists with labels found to put in legend.  Note that artists whose label start with an underscore are ignored when legend() is called with no argument.\n"
     ]
    },
    {
     "name": "stdout",
     "output_type": "stream",
     "text": [
      "RGI08 0.96 0 1.0382209879829225 0.0437381748806752\n"
     ]
    },
    {
     "name": "stderr",
     "output_type": "stream",
     "text": [
      "No artists with labels found to put in legend.  Note that artists whose label start with an underscore are ignored when legend() is called with no argument.\n"
     ]
    },
    {
     "name": "stdout",
     "output_type": "stream",
     "text": [
      "RGI11 0.51 0 0.4329462619194236 -0.0115070402162595\n"
     ]
    },
    {
     "name": "stderr",
     "output_type": "stream",
     "text": [
      "No artists with labels found to put in legend.  Note that artists whose label start with an underscore are ignored when legend() is called with no argument.\n"
     ]
    },
    {
     "name": "stdout",
     "output_type": "stream",
     "text": [
      "RGI02 0.46 0 0.0863687406451393 -0.0073848595658214\n"
     ]
    },
    {
     "name": "stderr",
     "output_type": "stream",
     "text": [
      "No artists with labels found to put in legend.  Note that artists whose label start with an underscore are ignored when legend() is called with no argument.\n"
     ]
    },
    {
     "name": "stdout",
     "output_type": "stream",
     "text": [
      "RGI18 0.86 0 2.421712130179934 0.0639439491791801\n"
     ]
    },
    {
     "name": "stderr",
     "output_type": "stream",
     "text": [
      "No artists with labels found to put in legend.  Note that artists whose label start with an underscore are ignored when legend() is called with no argument.\n"
     ]
    },
    {
     "name": "stdout",
     "output_type": "stream",
     "text": [
      "RGI06 0.99 0 21.31067898391548 0.075307676741005\n",
      "RGI06 problem\n",
      "RGI06 0.8 0 -1.6090488460476096 -0.2584169616942668\n"
     ]
    },
    {
     "name": "stderr",
     "output_type": "stream",
     "text": [
      "No artists with labels found to put in legend.  Note that artists whose label start with an underscore are ignored when legend() is called with no argument.\n"
     ]
    },
    {
     "name": "stdout",
     "output_type": "stream",
     "text": [
      "RGI13-14-15 0.99 0 8.45265502846896 0.0300477867204858\n",
      "RGI13-14-15 0.57 0 -0.0536211913880723 -0.3423459518639633\n"
     ]
    },
    {
     "name": "stderr",
     "output_type": "stream",
     "text": [
      "No artists with labels found to put in legend.  Note that artists whose label start with an underscore are ignored when legend() is called with no argument.\n"
     ]
    },
    {
     "name": "stdout",
     "output_type": "stream",
     "text": [
      "RGI01 0.99 0 24.468128333237928 0.0562669460517852\n",
      "RGI01 0.57 0 0.4378871108982666 -0.0461755604138239\n"
     ]
    },
    {
     "name": "stderr",
     "output_type": "stream",
     "text": [
      "No artists with labels found to put in legend.  Note that artists whose label start with an underscore are ignored when legend() is called with no argument.\n"
     ]
    },
    {
     "name": "stdout",
     "output_type": "stream",
     "text": [
      "RGI04 0.97 0 17.45129269512268 -0.2584482711844496\n",
      "RGI04 0.72 -0.5 -1.453974934319801 -0.1119918149230363\n"
     ]
    },
    {
     "name": "stderr",
     "output_type": "stream",
     "text": [
      "No artists with labels found to put in legend.  Note that artists whose label start with an underscore are ignored when legend() is called with no argument.\n"
     ]
    },
    {
     "name": "stdout",
     "output_type": "stream",
     "text": [
      "RGI17 0.99 0 16.27953236489871 0.3190121418276295\n"
     ]
    },
    {
     "name": "stderr",
     "output_type": "stream",
     "text": [
      "No artists with labels found to put in legend.  Note that artists whose label start with an underscore are ignored when legend() is called with no argument.\n"
     ]
    },
    {
     "name": "stdout",
     "output_type": "stream",
     "text": [
      "global 0.99 0 40.35323776152246 0.1281386443393088\n",
      "global 0.45 0 0.4881256712591804 -0.18261132766947\n"
     ]
    },
    {
     "name": "stderr",
     "output_type": "stream",
     "text": [
      "No artists with labels found to put in legend.  Note that artists whose label start with an underscore are ignored when legend() is called with no argument.\n"
     ]
    },
    {
     "name": "stdout",
     "output_type": "stream",
     "text": [
      "RGI03 problem\n",
      "RGI03 0.86 0 65.2129171468793 -0.379642069470087\n"
     ]
    },
    {
     "name": "stderr",
     "output_type": "stream",
     "text": [
      "No artists with labels found to put in legend.  Note that artists whose label start with an underscore are ignored when legend() is called with no argument.\n"
     ]
    },
    {
     "name": "stdout",
     "output_type": "stream",
     "text": [
      "RGI05 0.99 0 31.33411392714501 0.0360290568379184\n",
      "RGI05 0.64 0 -0.6349166509171063 -0.3024389572831554\n"
     ]
    },
    {
     "name": "stderr",
     "output_type": "stream",
     "text": [
      "No artists with labels found to put in legend.  Note that artists whose label start with an underscore are ignored when legend() is called with no argument.\n"
     ]
    },
    {
     "name": "stdout",
     "output_type": "stream",
     "text": [
      "RGI07 0.76 0 11.748008008139507 -0.0234831019352412\n"
     ]
    },
    {
     "name": "stderr",
     "output_type": "stream",
     "text": [
      "No artists with labels found to put in legend.  Note that artists whose label start with an underscore are ignored when legend() is called with no argument.\n"
     ]
    },
    {
     "name": "stdout",
     "output_type": "stream",
     "text": [
      "RGI09 0.99 0 32.842798576655184 -0.1408007488342377\n"
     ]
    },
    {
     "name": "stderr",
     "output_type": "stream",
     "text": [
      "No artists with labels found to put in legend.  Note that artists whose label start with an underscore are ignored when legend() is called with no argument.\n"
     ]
    },
    {
     "name": "stdout",
     "output_type": "stream",
     "text": [
      "RGI10 0.99 0 1.6764143761648478 0.0695534992579747\n",
      "RGI10 0.52 0 -0.6288899289452097 -0.2626732102131575\n"
     ]
    },
    {
     "name": "stderr",
     "output_type": "stream",
     "text": [
      "No artists with labels found to put in legend.  Note that artists whose label start with an underscore are ignored when legend() is called with no argument.\n"
     ]
    },
    {
     "name": "stdout",
     "output_type": "stream",
     "text": [
      "RGI12 0.7 0 0.8786420268992139 0.0240430667407689\n"
     ]
    },
    {
     "name": "stderr",
     "output_type": "stream",
     "text": [
      "No artists with labels found to put in legend.  Note that artists whose label start with an underscore are ignored when legend() is called with no argument.\n"
     ]
    },
    {
     "name": "stdout",
     "output_type": "stream",
     "text": [
      "RGI13 0.99 0 3.4005703198600625 0.0456394446257517\n",
      "RGI13 problem\n",
      "RGI13 0.8 -1.5 -3.487859736807667 -0.290466212611608\n"
     ]
    },
    {
     "name": "stderr",
     "output_type": "stream",
     "text": [
      "No artists with labels found to put in legend.  Note that artists whose label start with an underscore are ignored when legend() is called with no argument.\n"
     ]
    },
    {
     "name": "stdout",
     "output_type": "stream",
     "text": [
      "RGI14 0.99 0 16.40754998175739 0.0381533680331376\n"
     ]
    },
    {
     "name": "stderr",
     "output_type": "stream",
     "text": [
      "No artists with labels found to put in legend.  Note that artists whose label start with an underscore are ignored when legend() is called with no argument.\n"
     ]
    },
    {
     "name": "stdout",
     "output_type": "stream",
     "text": [
      "RGI15 0.78 0 1.3234315964212937 0.0325894930033283\n"
     ]
    },
    {
     "name": "stderr",
     "output_type": "stream",
     "text": [
      "No artists with labels found to put in legend.  Note that artists whose label start with an underscore are ignored when legend() is called with no argument.\n"
     ]
    },
    {
     "name": "stdout",
     "output_type": "stream",
     "text": [
      "RGI19 0.99 0 61.57731305368136 0.0930242333842912\n"
     ]
    },
    {
     "name": "stderr",
     "output_type": "stream",
     "text": [
      "No artists with labels found to put in legend.  Note that artists whose label start with an underscore are ignored when legend() is called with no argument.\n"
     ]
    },
    {
     "name": "stdout",
     "output_type": "stream",
     "text": [
      "RGI16 0.41 0 0.5940125822019444 -0.009331074123102\n"
     ]
    },
    {
     "name": "stderr",
     "output_type": "stream",
     "text": [
      "No artists with labels found to put in legend.  Note that artists whose label start with an underscore are ignored when legend() is called with no argument.\n"
     ]
    },
    {
     "name": "stdout",
     "output_type": "stream",
     "text": [
      "RGI08 0.96 0 1.0382209879829225 0.0437381748806752\n"
     ]
    },
    {
     "name": "stderr",
     "output_type": "stream",
     "text": [
      "No artists with labels found to put in legend.  Note that artists whose label start with an underscore are ignored when legend() is called with no argument.\n"
     ]
    },
    {
     "name": "stdout",
     "output_type": "stream",
     "text": [
      "RGI11 0.51 0 0.4329462619194236 -0.0115070402162595\n"
     ]
    },
    {
     "name": "stderr",
     "output_type": "stream",
     "text": [
      "No artists with labels found to put in legend.  Note that artists whose label start with an underscore are ignored when legend() is called with no argument.\n"
     ]
    },
    {
     "name": "stdout",
     "output_type": "stream",
     "text": [
      "RGI02 0.46 0 0.0863687406451393 -0.0073848595658214\n"
     ]
    },
    {
     "name": "stderr",
     "output_type": "stream",
     "text": [
      "No artists with labels found to put in legend.  Note that artists whose label start with an underscore are ignored when legend() is called with no argument.\n"
     ]
    },
    {
     "name": "stdout",
     "output_type": "stream",
     "text": [
      "RGI18 0.86 0 2.421712130179934 0.0639439491791801\n"
     ]
    },
    {
     "name": "stderr",
     "output_type": "stream",
     "text": [
      "No artists with labels found to put in legend.  Note that artists whose label start with an underscore are ignored when legend() is called with no argument.\n"
     ]
    },
    {
     "name": "stdout",
     "output_type": "stream",
     "text": [
      "RGI06 0.99 0 21.31067898391548 0.075307676741005\n",
      "RGI06 problem\n",
      "RGI06 0.8 0 -1.6090488460476096 -0.2584169616942668\n"
     ]
    },
    {
     "name": "stderr",
     "output_type": "stream",
     "text": [
      "No artists with labels found to put in legend.  Note that artists whose label start with an underscore are ignored when legend() is called with no argument.\n"
     ]
    },
    {
     "name": "stdout",
     "output_type": "stream",
     "text": [
      "RGI13-14-15 0.99 0 8.45265502846896 0.0300477867204858\n",
      "RGI13-14-15 0.57 0 -0.0536211913880723 -0.3423459518639633\n"
     ]
    },
    {
     "name": "stderr",
     "output_type": "stream",
     "text": [
      "No artists with labels found to put in legend.  Note that artists whose label start with an underscore are ignored when legend() is called with no argument.\n"
     ]
    },
    {
     "name": "stdout",
     "output_type": "stream",
     "text": [
      "RGI01 0.99 0 24.468128333237928 0.0562669460517852\n",
      "RGI01 0.57 0 0.4378871108982666 -0.0461755604138239\n"
     ]
    },
    {
     "name": "stderr",
     "output_type": "stream",
     "text": [
      "No artists with labels found to put in legend.  Note that artists whose label start with an underscore are ignored when legend() is called with no argument.\n"
     ]
    },
    {
     "name": "stdout",
     "output_type": "stream",
     "text": [
      "RGI04 0.97 0 17.45129269512268 -0.2584482711844496\n",
      "RGI04 0.72 -0.5 -1.453974934319801 -0.1119918149230363\n"
     ]
    },
    {
     "name": "stderr",
     "output_type": "stream",
     "text": [
      "No artists with labels found to put in legend.  Note that artists whose label start with an underscore are ignored when legend() is called with no argument.\n"
     ]
    },
    {
     "name": "stdout",
     "output_type": "stream",
     "text": [
      "RGI17 0.99 0 16.27953236489871 0.3190121418276295\n"
     ]
    },
    {
     "name": "stderr",
     "output_type": "stream",
     "text": [
      "No artists with labels found to put in legend.  Note that artists whose label start with an underscore are ignored when legend() is called with no argument.\n"
     ]
    },
    {
     "name": "stdout",
     "output_type": "stream",
     "text": [
      "global 0.99 0 40.35323776152246 0.1281386443393088\n",
      "global 0.45 0 0.4881256712591804 -0.18261132766947\n"
     ]
    },
    {
     "name": "stderr",
     "output_type": "stream",
     "text": [
      "No artists with labels found to put in legend.  Note that artists whose label start with an underscore are ignored when legend() is called with no argument.\n"
     ]
    },
    {
     "name": "stdout",
     "output_type": "stream",
     "text": [
      "RGI03 problem\n",
      "RGI03 0.86 0 65.2129171468793 -0.379642069470087\n"
     ]
    },
    {
     "name": "stderr",
     "output_type": "stream",
     "text": [
      "No artists with labels found to put in legend.  Note that artists whose label start with an underscore are ignored when legend() is called with no argument.\n"
     ]
    },
    {
     "name": "stdout",
     "output_type": "stream",
     "text": [
      "RGI05 0.99 0 31.33411392714501 0.0360290568379184\n",
      "RGI05 0.64 0 -0.6349166509171063 -0.3024389572831554\n"
     ]
    },
    {
     "name": "stderr",
     "output_type": "stream",
     "text": [
      "No artists with labels found to put in legend.  Note that artists whose label start with an underscore are ignored when legend() is called with no argument.\n"
     ]
    },
    {
     "name": "stdout",
     "output_type": "stream",
     "text": [
      "RGI07 0.76 0 11.748008008139507 -0.0234831019352412\n"
     ]
    },
    {
     "name": "stderr",
     "output_type": "stream",
     "text": [
      "No artists with labels found to put in legend.  Note that artists whose label start with an underscore are ignored when legend() is called with no argument.\n"
     ]
    },
    {
     "name": "stdout",
     "output_type": "stream",
     "text": [
      "RGI09 0.99 0 32.842798576655184 -0.1408007488342377\n"
     ]
    },
    {
     "name": "stderr",
     "output_type": "stream",
     "text": [
      "No artists with labels found to put in legend.  Note that artists whose label start with an underscore are ignored when legend() is called with no argument.\n"
     ]
    },
    {
     "name": "stdout",
     "output_type": "stream",
     "text": [
      "RGI10 0.99 0 1.6764143761648478 0.0695534992579747\n",
      "RGI10 0.52 0 -0.6288899289452097 -0.2626732102131575\n"
     ]
    },
    {
     "name": "stderr",
     "output_type": "stream",
     "text": [
      "No artists with labels found to put in legend.  Note that artists whose label start with an underscore are ignored when legend() is called with no argument.\n"
     ]
    },
    {
     "name": "stdout",
     "output_type": "stream",
     "text": [
      "RGI12 0.7 0 0.8786420268992139 0.0240430667407689\n"
     ]
    },
    {
     "name": "stderr",
     "output_type": "stream",
     "text": [
      "No artists with labels found to put in legend.  Note that artists whose label start with an underscore are ignored when legend() is called with no argument.\n"
     ]
    },
    {
     "name": "stdout",
     "output_type": "stream",
     "text": [
      "RGI13 0.99 0 3.4005703198600625 0.0456394446257517\n",
      "RGI13 problem\n",
      "RGI13 0.8 -1.5 -3.487859736807667 -0.290466212611608\n"
     ]
    },
    {
     "name": "stderr",
     "output_type": "stream",
     "text": [
      "No artists with labels found to put in legend.  Note that artists whose label start with an underscore are ignored when legend() is called with no argument.\n"
     ]
    },
    {
     "name": "stdout",
     "output_type": "stream",
     "text": [
      "RGI14 0.99 0 16.40754998175739 0.0381533680331376\n"
     ]
    },
    {
     "name": "stderr",
     "output_type": "stream",
     "text": [
      "No artists with labels found to put in legend.  Note that artists whose label start with an underscore are ignored when legend() is called with no argument.\n"
     ]
    },
    {
     "name": "stdout",
     "output_type": "stream",
     "text": [
      "RGI15 0.78 0 1.3234315964212937 0.0325894930033283\n"
     ]
    },
    {
     "name": "stderr",
     "output_type": "stream",
     "text": [
      "No artists with labels found to put in legend.  Note that artists whose label start with an underscore are ignored when legend() is called with no argument.\n"
     ]
    },
    {
     "name": "stdout",
     "output_type": "stream",
     "text": [
      "RGI19 0.99 0 61.57731305368136 0.0930242333842912\n"
     ]
    }
   ],
   "source": [
    "v = 3 ## COLOR SCALE version ... \n",
    "add_median = True\n",
    "\n",
    "for only_below3deg in [True,False]:\n",
    "\n",
    "    if only_below3deg:\n",
    "        vv = f'v{v}_below3deg'\n",
    "        _scaler = scaler_below3deg\n",
    "        if v == 'm':\n",
    "            cmap = cmap_blue_red_bel3deg\n",
    "        elif v == 1:\n",
    "            cmap = cmap_icci_1\n",
    "        elif v==2:\n",
    "            cmap = cmap_icci_2_sh\n",
    "        elif v==3:\n",
    "            cmap = cmap_icci_below3deg\n",
    "        caption_text = 'colors describe global temperature\\nchange in 2100 from +1.4°C to +3.0°C'\n",
    "\n",
    "    else:\n",
    "        vv = f'v{v}_all'\n",
    "        _scaler = scaler\n",
    "        #cmap = cmap_icci_1 #cmap_icci_2#cmap_blue_red\n",
    "        if v == 'm':\n",
    "            cmap = cmap_blue_red\n",
    "        elif v == 1:\n",
    "            cmap = cmap_icci_1\n",
    "        elif v==2:\n",
    "            cmap = cmap_icci_2\n",
    "        elif v==3:\n",
    "            cmap = cmap_icci_3\n",
    "\n",
    "        caption_text = 'colors describe global temperature\\nchange in 2100 from +1.4°C to +6.3°C'\n",
    "    color_continuous = True\n",
    "    decile_ticks = True\n",
    "    plt.rc('font', size=26)\n",
    "    it = 1\n",
    "    frac_dict = {}\n",
    "    for uncertainty in ['boxplot']: #, 'no_uncertainties']: # 'no_uncertainties',\n",
    "        if uncertainty == 'boxplot':\n",
    "            num_fits = 1000\n",
    "            delta_text = 23\n",
    "            xlim1 = 2327\n",
    "        else:\n",
    "            num_fits = 1000 \n",
    "            delta_text = 4\n",
    "            xlim1 = 2309\n",
    "\n",
    "        for reg in list(d_reg_num_name_icci_reg.keys()):\n",
    "            rgi_regs = d_reg_num_name_icci_reg[reg]\n",
    "            for jj,_rgi_reg in enumerate(rgi_regs): \n",
    "                fig, axs = plt.subplots(1,1, figsize=(12.5,25/3)) \n",
    "                axs = [axs]#.flatten()\n",
    "                #for a in [1,2,3,4,5]:\n",
    "                #    axs[a].remove()\n",
    "                # figure to show caption\n",
    "                ax_f = axs[0] \n",
    "                \n",
    "                ax = axs[0]\n",
    "                list_index_l = []\n",
    "                err_l = []\n",
    "                for m in path_d.keys():\n",
    "                    list_index_l.append(list(pd_cmip_temp_ch_2100.index + '_' + m))\n",
    "                pd_proj_2100_2300 = pd.DataFrame(index=np.concatenate(list_index_l))\n",
    "\n",
    "                if _rgi_reg !='global':\n",
    "                    rgi_reg = f'RGI{_rgi_reg}'\n",
    "                else:\n",
    "                    rgi_reg = _rgi_reg \n",
    "\n",
    "                ####\n",
    "                pd_fit_stats_reg = pd_fit_stats.loc[pd_fit_stats.region == rgi_reg]\n",
    "                pd_fit_stats_reg_lowess = pd_fit_stats_reg.loc[pd_fit_stats_reg.fit_opt == 'lowess_predi']\n",
    "                pd_fit_stats_reg_exp = pd_fit_stats_reg.loc[pd_fit_stats_reg.fit_opt == 'exp']\n",
    "                sel_it = pd_fit_stats_reg_lowess # we don't have it anymore ... .loc[pd_fit_stats_reg_lowess.it ==it]\n",
    "\n",
    "                ######\n",
    "                fig_fit, axs_fit = plt.subplots(2,1, figsize=(15,20)) \n",
    "\n",
    "                for end_year,ls in zip(['2300'],['-']):\n",
    "                    #for temp_lev in colors_temp.keys():\n",
    "\n",
    "                    for cmip in ['CMIP5','CMIP6']:\n",
    "                        pd_cmip = pd_cmip_temp_ch_2100_gcm_until_2300.loc[pd_cmip_temp_ch_2100_gcm_until_2300.ssp != 'ssp534-over']\n",
    "                        pd_cmip = pd_cmip.loc[pd_cmip.cmip == cmip]\n",
    "                        # check that there are temperature values in 2300 available ... \n",
    "                        pd_cmip = pd_cmip.loc[pd_cmip['global_temp_ch_2271-2300_preindustrial'].dropna().index]\n",
    "                        for gcm_scenario in pd_cmip.index:\n",
    "                            df_rel_l = []\n",
    "                            for m in path_d.keys():\n",
    "                                try:\n",
    "                                    gcm, scenario = gcm_scenario.split('_')\n",
    "                                    path = path_d[m]\n",
    "                                    gcm_scenario_m = gcm_scenario + '_' + m\n",
    "                                    n = len(gcm_scenario)\n",
    "                                    if _rgi_reg == '13-14-15':\n",
    "                                        df = 0\n",
    "                                        for sub_rgi_reg in ['RGI13','RGI14','RGI15']:\n",
    "                                            idir = path + f'volume/{cmip}/{end_year}/{sub_rgi_reg}/'\n",
    "                                            _df = pd.read_csv(idir + f'{scenario}.csv', index_col=0)\n",
    "                                            _df.columns = [g.upper() for g in _df.columns]\n",
    "                                            _df = _df[gcm.upper()]\n",
    "                                            df += _df\n",
    "                                    else:\n",
    "                                        idir = path  + f'volume/{cmip}/{end_year}/{rgi_reg}/'\n",
    "                                        df = pd.read_csv(idir + f'{scenario}.csv', index_col=0)\n",
    "                                        df.columns = [g.upper() for g in df.columns]\n",
    "                                        df = df[gcm.upper()]\n",
    "                                    df = df.loc[2000:]\n",
    "                                    # first do the rolling than the relative estimates .. \n",
    "                                    df_roll = df.rolling(20, center=True, min_periods=1).mean().dropna()\n",
    "                                    df_rel_roll = 100*df_roll/df_roll.loc[2020]                                    \n",
    "\n",
    "                                    temp_ch = pd_cmip.loc[gcm_scenario, 'global_temp_ch_2071-2100_preindustrial']\n",
    "                                    # if temp_ch < 3:\n",
    "                                    #if only_below3deg:\n",
    "                                    pd_proj_2100_2300.loc[gcm_scenario_m, 'global_temp_ch_2071-2100_preindustrial'] = temp_ch\n",
    "                                    pd_proj_2100_2300.loc[gcm_scenario_m, f'rel_ice_2100_{rgi_reg}'] = df_rel_roll.loc[2100]\n",
    "\n",
    "                                    color= cmap(_scaler.transform(temp_ch.reshape(-1,1))).flatten()\n",
    "                                    if not add_median:\n",
    "                                        alpha = 0.2\n",
    "                                        ax.plot(df_rel_roll.loc[2020:2300].index, df_rel_roll.loc[2020:2300], lw=2, color=color,ls=ls, alpha = alpha) \n",
    "                                        ax.plot(df_rel_roll.loc[2000:2020].index, df_rel_roll.loc[2000:2020], lw=3, color='black', ls=ls, alpha = alpha)\n",
    "                                    pd_proj_2100_2300.loc[gcm_scenario_m, f'rel_ice_2300_{rgi_reg}'] = df_rel_roll.loc[2300]\n",
    "                                    pd_proj_2100_2300.loc[gcm_scenario_m, 'model'] = m\n",
    "\n",
    "                                    df_rel_l.append(df_rel_roll.loc[2000:2300])\n",
    "                                except:\n",
    "                                    pass\n",
    "                            if add_median:\n",
    "                                if len(df_rel_l) > 0:\n",
    "                                    if (not only_below3deg) or (temp_ch<=3):\n",
    "                                        df_rel_med = pd.DataFrame(df_rel_l).T.median(axis=1)\n",
    "                                        ax.plot(df_rel_med.loc[2020:2300].index, df_rel_med.loc[2020:2300], lw=2, color=color,ls=ls, alpha = 0.3) \n",
    "                                        ax.plot(df_rel_med.loc[2000:2020].index, df_rel_med.loc[2000:2020], lw=2, color='black', ls=ls, alpha = 0.3)\n",
    "\n",
    "                ax.set_ylim([0,125])\n",
    "                #if jj in [0,2,4]:\n",
    "                ax.set_ylabel('% of Remaining Ice',# (relative to 2020)',\n",
    "                                  fontweight = 'bold', fontsize=22)\n",
    "                #else:\n",
    "                #    ax.set_ylabel('')\n",
    "                ax.set_xlabel('Year',  fontweight = 'bold', fontsize=22)\n",
    "                handles, labels = ax.get_legend_handles_labels()\n",
    "                for h in handles:\n",
    "                    h.set_linewidth(3)\n",
    "                ax.legend(handles, labels,\n",
    "                              handlelength=1,\n",
    "                              title='Temperature change between 1850-1900 & 2071-2100:', ncol=5)\n",
    "                ax.legend().remove()\n",
    "\n",
    "                ax.set_title(d_reg_num_name_icci[_rgi_reg], fontweight='bold', fontsize=24)\n",
    "\n",
    "                pd_proj_2100_2300 = pd_proj_2100_2300.dropna()\n",
    "                assert len(pd_proj_2100_2300) == 60\n",
    "                for j,sim_year in enumerate([2100,2300]):\n",
    "                    # choose a \"frac\" parameter and select the right fitting values \n",
    "                    frac, _sel = select_frac_w_experts(sel_it, sim_year=sim_year)\n",
    "                    frac_dict[f'{rgi_reg}_{sim_year}'] = frac\n",
    "\n",
    "                    ax_fit = axs_fit[j]\n",
    "                    ax_fit.set_title(f'{d_reg_num_name_icci[_rgi_reg]}:  year {sim_year}', fontweight='bold')\n",
    "\n",
    "                    # get the raw data ...\n",
    "                    x = pd_proj_2100_2300['global_temp_ch_2071-2100_preindustrial']\n",
    "                    y = pd_proj_2100_2300[f'rel_ice_{sim_year}_{rgi_reg}']\n",
    "\n",
    "                    t_min, t_max = x.min(), x.max()\n",
    "                    if sim_year == 2100:\n",
    "                        delta_x = 0.002\n",
    "                    else:\n",
    "                        delta_x = 0.001\n",
    "\n",
    "                    df_quantiles = _sel[['q50','q05','q25','q75','q95']]\n",
    "                    # we just have to clip negative values .... there are still some although we tried to omit them by choosing the best frac ... \n",
    "                    df_quantiles = df_quantiles.where(df_quantiles>=0, 0)\n",
    "                    _sel_ice_eval = df_quantiles['q50'].values\n",
    "                    _sel_ice_eval_bottom = df_quantiles['q05'].values\n",
    "                    _sel_ice_eval_bottom_iqr = df_quantiles['q25'].values\n",
    "                    _sel_ice_eval_top_iqr = df_quantiles['q75'].values\n",
    "                    _sel_ice_eval_top = df_quantiles['q95'].values\n",
    "\n",
    "                    ax_fit.plot(pd_fit_stats_reg_exp.loc[pd_fit_stats_reg_exp.year ==sim_year].deltaTemp,\n",
    "                             pd_fit_stats_reg_exp.loc[pd_fit_stats_reg_exp.year ==sim_year].q50, lw=3, color='green', alpha = 0.5, label='exponential fit')\n",
    "                    ax_fit.plot(_sel.deltaTemp,\n",
    "                             _sel_ice_eval, lw=3, color='black', alpha = 1, label=f'lowess, frac={frac}')\n",
    "                    ax_fit.fill_between(_sel.deltaTemp, _sel_ice_eval_bottom, _sel_ice_eval_top, lw=3, alpha=0.2, color=f'black', label='90% PI')\n",
    "                    ax_fit.fill_between(_sel.deltaTemp, _sel_ice_eval_bottom_iqr, _sel_ice_eval_top_iqr, lw=3, alpha=0.4, color=f'black', label = '50% PI (IQR)')\n",
    "\n",
    "                    temp_eval_x = _sel.deltaTemp.values\n",
    "                    sns.scatterplot(ax=ax_fit,\n",
    "                                    data = pd_proj_2100_2300, #.loc[j], \n",
    "                                    x='global_temp_ch_2071-2100_preindustrial', y=f'rel_ice_{sim_year}_{rgi_reg}',\n",
    "                                                    style='model',\n",
    "                                    hue='global_temp_ch_2071-2100_preindustrial',\n",
    "                                    palette=cmap,      \n",
    "                                    sizes=[150,150,150], size='model') #, legend=)\n",
    "                    ax_fit.legend(fontsize=16, ncols=2)\n",
    "\n",
    "                    ax_fit.set_xlabel('Temperature change between 1850-1900 & 2071-2100')\n",
    "                    ax_fit.set_ylabel(f'% of Remaining Glacier Ice\\nin {sim_year} (relative to 2020)')\n",
    "\n",
    "                    for j,temp_lev in enumerate(list(colors_temp_values.keys())):\n",
    "\n",
    "                        # for the annotation in the main plot ... \n",
    "                        if (temp_lev != '>4.0°C') and (temp_lev != '<=+4.0°C'):\n",
    "\n",
    "                            temp_lev_value = colors_temp_values[temp_lev]\n",
    "                            color= cmap(_scaler.transform(np.array([temp_lev_value]).reshape(-1,1))).flatten()\n",
    "                            idx_nearest = np.abs(temp_eval_x - temp_lev_value).argmin()\n",
    "                            if j >0:\n",
    "                                # check the previous fit, if they overlap, need to shift the text\n",
    "                                previous_fit = fit.copy()\n",
    "                            else:\n",
    "                                previous_fit = 10\n",
    "\n",
    "\n",
    "                            if previous_fit <4:\n",
    "                                shift = previous_fit-3.5\n",
    "                            else:\n",
    "                                shift = 0\n",
    "\n",
    "                            fit = _sel_ice_eval[idx_nearest]\n",
    "\n",
    "                            if sim_year == 2300:\n",
    "                                loc_2300_stats = 2300 +4 \n",
    "                            else:\n",
    "                                loc_2300_stats = 2100\n",
    "                            #if temp_lev_value>1.5:\n",
    "                            #    ax.vlines(loc_2300_stats,y_fitted[0], y_fitted[1], color=colors_temp[temp_lev], lw=15, alpha = 0.4)\n",
    "                            ax.hlines(fit,loc_2300_stats-3, loc_2300_stats+3, lw=8, color=color, zorder=10)\n",
    "\n",
    "                            if sim_year == 2300:\n",
    "                                bbox=dict(facecolor='white', edgecolor='white', boxstyle='round', alpha = 0.8)\n",
    "                                ax.annotate(temp_lev[2:], xy=(2300, fit),\n",
    "                                            xytext=(loc_2300_stats+delta_text, fit+shift),\n",
    "                                                        verticalalignment=\"center\",\n",
    "                                                        color=color, alpha=1, fontweight = 'bold', fontsize=18)\n",
    "                                _sel_temp_lev_qs = np.array([ _sel_ice_eval_bottom[idx_nearest],\n",
    "                                                             _sel_ice_eval_bottom_iqr[idx_nearest], _sel_ice_eval[idx_nearest],\n",
    "                                                             _sel_ice_eval_top_iqr[idx_nearest], _sel_ice_eval_top[idx_nearest]])\n",
    "                                if uncertainty == 'boxplot':\n",
    "                                    boxplot_manual(qs= _sel_temp_lev_qs,\n",
    "                                                   p = loc_2300_stats+7,\n",
    "                                                   ax = ax, j=j*6, temp_val = temp_lev_value,\n",
    "                                                   _scaler=_scaler,\n",
    "                                                   )\n",
    "                    np.testing.assert_allclose(temp_eval_x[::2], np.arange(1.4,6.3,0.1))\n",
    "\n",
    "                    lw = 3\n",
    "                    if only_below3deg:\n",
    "                        temp_eval_x_sel = temp_eval_x[temp_eval_x<=3]\n",
    "                        _sel_ice_eval_sel = _sel_ice_eval[temp_eval_x<=3]\n",
    "                        colors_fit = cmap(_scaler.transform(temp_eval_x_sel[::2].reshape(-1,1))) # only every decile ... \n",
    "                        for c,f in zip(colors_fit, _sel_ice_eval_sel[::2]):\n",
    "                            ax.hlines(f,loc_2300_stats-1.5, loc_2300_stats+1.5, lw=lw, alpha = 0.5,\n",
    "                                       color=c, zorder=7)\n",
    "                    else:\n",
    "                        colors_fit = cmap(_scaler.transform(temp_eval_x[::2].reshape(-1,1))) # only every decile ... \n",
    "                        for c,f in zip(colors_fit, _sel_ice_eval[::2]):\n",
    "                            ax.hlines(f,loc_2300_stats-1.5, loc_2300_stats+1.5, lw=lw, alpha = 0.5,\n",
    "                                       color=c, zorder=7)\n",
    "\n",
    "                ax.set_xlim([1997, xlim1])\n",
    "                if rgi_reg == 'RGI08':\n",
    "                    ax_fit.set_ylim([-0.5, 120])\n",
    "\n",
    "                ax.set_xticks([2020,2100,2200,2300],[2020,2100,2200,2300])\n",
    "                ax.spines['right'].set_visible(False)\n",
    "                ax.spines['top'].set_visible(False)\n",
    "\n",
    "                fig_fit.tight_layout()\n",
    "                if uncertainty == 'boxplot':\n",
    "                        fig_fit.savefig(f'v2023_figures/appendix_fit/lowess_predi_exp_fit_oggm_glogem_pygem_temp_levels_{rgi_reg}_v_final.png')\n",
    "                \n",
    "                fig.tight_layout()\n",
    "\n",
    "                if uncertainty== 'boxplot':\n",
    "                    if add_median:\n",
    "                        #fig.savefig(f'v2023_figures/main_figures_with_uncertainties/median_glac_models/png/final_draft_icci_2023_below3deg/icci_report_2023_median_lowess_predi_oggm_glogem_pygem_temp_levels_{reg}_{uncertainty}_{vv}.png')\n",
    "                        #fig.savefig(f'v2023_figures/main_figures_with_uncertainties/median_glac_models/svg/final_draft_icci_2023_below3deg/icci_report_2023_median_lowess_predi_oggm_glogem_pygem_temp_levels_{reg}_{uncertainty}_{vv}.svg')\n",
    "                        fig.savefig(f'v2023_figures/main_figures_with_uncertainties/median_glac_models/png/icci_report_2023_median_lowess_predi_oggm_glogem_pygem_temp_levels_{rgi_reg}_{vv}_final_{uncertainty}.png')\n",
    "                        fig.savefig(f'v2023_figures/main_figures_with_uncertainties/median_glac_models/svg/icci_report_2023_median_lowess_predi_oggm_glogem_pygem_temp_levels_{rgi_reg}_{vv}_final_{uncertainty}.svg')\n",
    "\n",
    "                plt.close()\n",
    "                plt.close()\n",
    "                plt.close()\n",
    "                plt.close()\n",
    "                plt.close()\n",
    "                plt.close()\n",
    "                plt.close()\n",
    "            "
   ]
  },
  {
   "cell_type": "code",
   "execution_count": null,
   "id": "b5e6ff75",
   "metadata": {},
   "outputs": [],
   "source": []
  },
  {
   "cell_type": "code",
   "execution_count": null,
   "id": "f986af58",
   "metadata": {},
   "outputs": [],
   "source": []
  },
  {
   "cell_type": "markdown",
   "id": "76f592d1",
   "metadata": {},
   "source": [
    "## Variant: Only below 4.5 degree celsius"
   ]
  },
  {
   "cell_type": "code",
   "execution_count": 39,
   "id": "881808b2",
   "metadata": {},
   "outputs": [
    {
     "name": "stdout",
     "output_type": "stream",
     "text": [
      "1.427504187860568 4.35665250612107\n"
     ]
    }
   ],
   "source": [
    "pd_cmip_sel_below45deg = pd_cmip_temp_ch_2100_gcm_until_2300.loc[pd_cmip_temp_ch_2100_gcm_until_2300['global_temp_ch_2071-2100_preindustrial']<=4.5]\n",
    "data_temp_bel45deg = pd_cmip_sel_below45deg['global_temp_ch_2071-2100_preindustrial'].values.reshape(1,-1).T\n",
    "scaler_below45deg = MinMaxScaler()\n",
    "scaler_below45deg.fit(data_temp_bel45deg)\n",
    "t_min_bel45deg, t_max_bel45deg = pd_cmip_sel_below45deg['global_temp_ch_2071-2100_preindustrial'].min(), pd_cmip_sel_below45deg['global_temp_ch_2071-2100_preindustrial'].max()\n",
    "print(t_min_bel45deg, t_max_bel45deg)"
   ]
  },
  {
   "cell_type": "markdown",
   "id": "89188fc6",
   "metadata": {},
   "source": [
    "**amount of climate experiments**"
   ]
  },
  {
   "cell_type": "code",
   "execution_count": 40,
   "id": "a0be0baf",
   "metadata": {},
   "outputs": [
    {
     "data": {
      "text/plain": [
       "19"
      ]
     },
     "execution_count": 40,
     "metadata": {},
     "output_type": "execute_result"
    }
   ],
   "source": [
    "len(pd_cmip_sel_below45deg)"
   ]
  },
  {
   "cell_type": "code",
   "execution_count": 143,
   "id": "f1a8ca5f",
   "metadata": {},
   "outputs": [
    {
     "name": "stderr",
     "output_type": "stream",
     "text": [
      "No artists with labels found to put in legend.  Note that artists whose label start with an underscore are ignored when legend() is called with no argument.\n"
     ]
    },
    {
     "name": "stdout",
     "output_type": "stream",
     "text": [
      "RGI16 0.41 0 0.5940125822019444 -0.009331074123102\n"
     ]
    },
    {
     "name": "stderr",
     "output_type": "stream",
     "text": [
      "No artists with labels found to put in legend.  Note that artists whose label start with an underscore are ignored when legend() is called with no argument.\n"
     ]
    },
    {
     "name": "stdout",
     "output_type": "stream",
     "text": [
      "RGI08 0.96 0 1.0382209879829225 0.0437381748806752\n"
     ]
    },
    {
     "name": "stderr",
     "output_type": "stream",
     "text": [
      "No artists with labels found to put in legend.  Note that artists whose label start with an underscore are ignored when legend() is called with no argument.\n"
     ]
    },
    {
     "name": "stdout",
     "output_type": "stream",
     "text": [
      "RGI11 0.51 0 0.4329462619194236 -0.0115070402162595\n"
     ]
    },
    {
     "name": "stderr",
     "output_type": "stream",
     "text": [
      "No artists with labels found to put in legend.  Note that artists whose label start with an underscore are ignored when legend() is called with no argument.\n"
     ]
    },
    {
     "name": "stdout",
     "output_type": "stream",
     "text": [
      "RGI02 0.46 0 0.0863687406451393 -0.0073848595658214\n"
     ]
    },
    {
     "name": "stderr",
     "output_type": "stream",
     "text": [
      "No artists with labels found to put in legend.  Note that artists whose label start with an underscore are ignored when legend() is called with no argument.\n"
     ]
    },
    {
     "name": "stdout",
     "output_type": "stream",
     "text": [
      "RGI18 0.86 0 2.421712130179934 0.0639439491791801\n"
     ]
    },
    {
     "name": "stderr",
     "output_type": "stream",
     "text": [
      "No artists with labels found to put in legend.  Note that artists whose label start with an underscore are ignored when legend() is called with no argument.\n"
     ]
    },
    {
     "name": "stdout",
     "output_type": "stream",
     "text": [
      "RGI06 0.99 0 21.31067898391548 0.075307676741005\n",
      "RGI06 problem\n",
      "RGI06 0.8 0 -1.6090488460476096 -0.2584169616942668\n"
     ]
    },
    {
     "name": "stderr",
     "output_type": "stream",
     "text": [
      "No artists with labels found to put in legend.  Note that artists whose label start with an underscore are ignored when legend() is called with no argument.\n"
     ]
    },
    {
     "name": "stdout",
     "output_type": "stream",
     "text": [
      "RGI13-14-15 0.99 0 8.45265502846896 0.0300477867204858\n",
      "RGI13-14-15 0.57 0 -0.0536211913880723 -0.3423459518639633\n"
     ]
    },
    {
     "name": "stderr",
     "output_type": "stream",
     "text": [
      "No artists with labels found to put in legend.  Note that artists whose label start with an underscore are ignored when legend() is called with no argument.\n"
     ]
    },
    {
     "name": "stdout",
     "output_type": "stream",
     "text": [
      "RGI01 0.99 0 24.468128333237928 0.0562669460517852\n",
      "RGI01 0.57 0 0.4378871108982666 -0.0461755604138239\n"
     ]
    },
    {
     "name": "stderr",
     "output_type": "stream",
     "text": [
      "No artists with labels found to put in legend.  Note that artists whose label start with an underscore are ignored when legend() is called with no argument.\n"
     ]
    },
    {
     "name": "stdout",
     "output_type": "stream",
     "text": [
      "RGI04 0.97 0 17.45129269512268 -0.2584482711844496\n",
      "RGI04 0.72 -0.5 -1.453974934319801 -0.1119918149230363\n"
     ]
    },
    {
     "name": "stderr",
     "output_type": "stream",
     "text": [
      "No artists with labels found to put in legend.  Note that artists whose label start with an underscore are ignored when legend() is called with no argument.\n"
     ]
    },
    {
     "name": "stdout",
     "output_type": "stream",
     "text": [
      "RGI17 0.99 0 16.27953236489871 0.3190121418276295\n"
     ]
    },
    {
     "name": "stderr",
     "output_type": "stream",
     "text": [
      "No artists with labels found to put in legend.  Note that artists whose label start with an underscore are ignored when legend() is called with no argument.\n"
     ]
    },
    {
     "name": "stdout",
     "output_type": "stream",
     "text": [
      "global 0.99 0 40.35323776152246 0.1281386443393088\n",
      "global 0.45 0 0.4881256712591804 -0.18261132766947\n"
     ]
    }
   ],
   "source": [
    "v = 3\n",
    "vv = f'v{v}_below45deg'\n",
    "add_median = True\n",
    "only_below45deg = True\n",
    "#################################################\n",
    "_scaler = scaler_below45deg  \n",
    "if v==3:\n",
    "    cmap = cmap_icci_3\n",
    "elif v==4:\n",
    "    cmap = cmap_icci_below3deg # it was designed for below 3, but should also work below 4.5\n",
    "\n",
    "caption_text = 'colors describe global temperature\\nchange in 2100 from +1.4°C to +4.5°C'\n",
    "################################################################\n",
    "color_continuous = True\n",
    "decile_ticks = True\n",
    "plt.rc('font', size=26)\n",
    "it = 1\n",
    "frac_dict = {}\n",
    "for uncertainty in [ 'boxplot']: #, 'no_uncertainties']: # 'no_uncertainties',\n",
    "    if uncertainty == 'boxplot':\n",
    "        num_fits = 1000\n",
    "        delta_text = 23\n",
    "        xlim1 = 2327\n",
    "    else:\n",
    "        num_fits = 1000 \n",
    "        delta_text = 4\n",
    "        xlim1 = 2309\n",
    "\n",
    "    for reg in list(d_reg_num_name_icci_reg.keys()):\n",
    "        rgi_regs = d_reg_num_name_icci_reg[reg]\n",
    "        \n",
    "        len_sub_p = len(rgi_regs)\n",
    "        props = dict(boxstyle='round', facecolor='white', alpha=0.5)\n",
    "        if (reg == 'Glaciers globally') or (reg == 'low-latitudes'):\n",
    "            fig, axs = plt.subplots(1,1, figsize=(12.5,25/3)) \n",
    "            axs = [axs]#.flatten()\n",
    "            #for a in [1,2,3,4,5]:\n",
    "            #    axs[a].remove()\n",
    "            # figure to show caption \n",
    "            ax_f = axs[0] \n",
    "           \n",
    "        elif reg == 'mid-latitudes':\n",
    "            fig, axs = plt.subplots(2,2, figsize=(25,25*2/3))\n",
    "            axs = axs.flatten()\n",
    "            #axs[4].remove()\n",
    "            #axs[5].remove()\n",
    "            ax_f = axs[2]\n",
    "        elif reg == 'polar-hma':\n",
    "            fig, axs = plt.subplots(3,2, figsize=(25,25))\n",
    "            axs = axs.flatten()\n",
    "            ax_f = axs[4]\n",
    "            #ax_f.spines['left'].set_visible(False)\n",
    "            #ax_f.spines['bottom'].set_visible(False)\n",
    "            axs[5].remove()\n",
    "            \n",
    "        else:\n",
    "            print('sth. wrong')\n",
    "\n",
    "        for jj,_rgi_reg in enumerate(rgi_regs): \n",
    "            ax = axs[jj]\n",
    "            list_index_l = []\n",
    "            err_l = []\n",
    "            for m in path_d.keys():\n",
    "                list_index_l.append(list(pd_cmip_temp_ch_2100.index + '_' + m))\n",
    "            pd_proj_2100_2300 = pd.DataFrame(index=np.concatenate(list_index_l))\n",
    "\n",
    "            if _rgi_reg !='global':\n",
    "                rgi_reg = f'RGI{_rgi_reg}'\n",
    "            else:\n",
    "                rgi_reg = _rgi_reg \n",
    "                \n",
    "            ####\n",
    "            pd_fit_stats_reg = pd_fit_stats.loc[pd_fit_stats.region == rgi_reg]\n",
    "            pd_fit_stats_reg_lowess = pd_fit_stats_reg.loc[pd_fit_stats_reg.fit_opt == 'lowess_predi']\n",
    "            pd_fit_stats_reg_exp = pd_fit_stats_reg.loc[pd_fit_stats_reg.fit_opt == 'exp']\n",
    "            sel_it = pd_fit_stats_reg_lowess # we don't have it anymore ... .loc[pd_fit_stats_reg_lowess.it ==it]\n",
    "\n",
    "            ######\n",
    "            fig_fit, axs_fit = plt.subplots(2,1, figsize=(15,20)) \n",
    "            \n",
    "            for end_year,ls in zip(['2300'],['-']):\n",
    "                #for temp_lev in colors_temp.keys():\n",
    "\n",
    "                for cmip in ['CMIP5','CMIP6']:\n",
    "                    pd_cmip = pd_cmip_temp_ch_2100_gcm_until_2300.loc[pd_cmip_temp_ch_2100_gcm_until_2300.ssp != 'ssp534-over']\n",
    "                    pd_cmip = pd_cmip.loc[pd_cmip.cmip == cmip]\n",
    "                    # check that there are temperature values in 2300 available ... \n",
    "                    pd_cmip = pd_cmip.loc[pd_cmip['global_temp_ch_2271-2300_preindustrial'].dropna().index]\n",
    "                    for gcm_scenario in pd_cmip.index:\n",
    "                        df_rel_l = []\n",
    "                        for m in path_d.keys():\n",
    "                            try:\n",
    "                                gcm, scenario = gcm_scenario.split('_')\n",
    "                                path = path_d[m]\n",
    "                                gcm_scenario_m = gcm_scenario + '_' + m\n",
    "                                n = len(gcm_scenario)\n",
    "                                if _rgi_reg == '13-14-15':\n",
    "                                    df = 0\n",
    "                                    for sub_rgi_reg in ['RGI13','RGI14','RGI15']:\n",
    "                                        idir = path + f'volume/{cmip}/{end_year}/{sub_rgi_reg}/'\n",
    "                                        _df = pd.read_csv(idir + f'{scenario}.csv', index_col=0)\n",
    "                                        _df.columns = [g.upper() for g in _df.columns]\n",
    "                                        _df = _df[gcm.upper()]\n",
    "                                        df += _df\n",
    "                                else:\n",
    "                                    idir = path  + f'volume/{cmip}/{end_year}/{rgi_reg}/'\n",
    "                                    df = pd.read_csv(idir + f'{scenario}.csv', index_col=0)\n",
    "                                    df.columns = [g.upper() for g in df.columns]\n",
    "                                    df = df[gcm.upper()]\n",
    "                                df = df.loc[2000:]\n",
    "                                # first do the rolling than the relative estimates .. \n",
    "                                df_roll = df.rolling(20, center=True, min_periods=1).mean().dropna()\n",
    "                                df_rel_roll = 100*df_roll/df_roll.loc[2020]                                    \n",
    "\n",
    "                                temp_ch = pd_cmip.loc[gcm_scenario, 'global_temp_ch_2071-2100_preindustrial']\n",
    "                                # if temp_ch < 3:\n",
    "                                #if only_below3deg:\n",
    "                                pd_proj_2100_2300.loc[gcm_scenario_m, 'global_temp_ch_2071-2100_preindustrial'] = temp_ch\n",
    "                                pd_proj_2100_2300.loc[gcm_scenario_m, f'rel_ice_2100_{rgi_reg}'] = df_rel_roll.loc[2100]\n",
    "\n",
    "                                color= cmap(_scaler.transform(temp_ch.reshape(-1,1))).flatten()\n",
    "                                if not add_median:\n",
    "                                    alpha = 0.2\n",
    "                                    ax.plot(df_rel_roll.loc[2020:2300].index, df_rel_roll.loc[2020:2300], lw=2, color=color,ls=ls, alpha = alpha) \n",
    "                                    ax.plot(df_rel_roll.loc[2000:2020].index, df_rel_roll.loc[2000:2020], lw=3, color='black', ls=ls, alpha = alpha)\n",
    "                                pd_proj_2100_2300.loc[gcm_scenario_m, f'rel_ice_2300_{rgi_reg}'] = df_rel_roll.loc[2300]\n",
    "                                pd_proj_2100_2300.loc[gcm_scenario_m, 'model'] = m\n",
    "\n",
    "                                df_rel_l.append(df_rel_roll.loc[2000:2300])\n",
    "                            except:\n",
    "                                pass\n",
    "                        if add_median:\n",
    "                            if len(df_rel_l) > 0:\n",
    "                                if (not only_below45deg) or (temp_ch<=4.5):\n",
    "                                    df_rel_med = pd.DataFrame(df_rel_l).T.median(axis=1)\n",
    "                                    ax.plot(df_rel_med.loc[2020:2300].index, df_rel_med.loc[2020:2300], lw=2, color=color,ls=ls, alpha = 0.3) \n",
    "                                    ax.plot(df_rel_med.loc[2000:2020].index, df_rel_med.loc[2000:2020], lw=2, color='black', ls=ls, alpha = 0.3)\n",
    "\n",
    "            ax.set_ylim([0,125])\n",
    "            if jj in [0,2,4]:\n",
    "                ax.set_ylabel('% of Remaining Ice',# (relative to 2020)',\n",
    "                              fontweight = 'bold', fontsize=22)\n",
    "            else:\n",
    "                ax.set_ylabel('')\n",
    "            ax.set_xlabel('Year',  fontweight = 'bold', fontsize=22)\n",
    "            handles, labels = ax.get_legend_handles_labels()\n",
    "            for h in handles:\n",
    "                h.set_linewidth(3)\n",
    "            ax.legend(handles, labels,\n",
    "                          handlelength=1,\n",
    "                          title='Temperature change between 1850-1900 & 2071-2100:', ncol=5)\n",
    "            ax.legend().remove()\n",
    "\n",
    "            ax.set_title(d_reg_num_name_icci[_rgi_reg], fontweight='bold', fontsize=24)\n",
    "\n",
    "            pd_proj_2100_2300 = pd_proj_2100_2300.dropna()\n",
    "            assert len(pd_proj_2100_2300) == 60\n",
    "            for j,sim_year in enumerate([2100,2300]):\n",
    "                # choose a \"frac\" parameter and select the right fitting values \n",
    "                frac, _sel = select_frac_w_experts(sel_it, sim_year=sim_year)\n",
    "                frac_dict[f'{rgi_reg}_{sim_year}'] = frac\n",
    "                \n",
    "                ax_fit = axs_fit[j]\n",
    "                ax_fit.set_title(f'{d_reg_num_name_icci[_rgi_reg]}:  year {sim_year}', fontweight='bold')\n",
    "\n",
    "                # get the raw data ...\n",
    "                x = pd_proj_2100_2300['global_temp_ch_2071-2100_preindustrial']\n",
    "                y = pd_proj_2100_2300[f'rel_ice_{sim_year}_{rgi_reg}']\n",
    "                \n",
    "                t_min, t_max = x.min(), x.max()\n",
    "                if sim_year == 2100:\n",
    "                    delta_x = 0.002\n",
    "                else:\n",
    "                    delta_x = 0.001\n",
    "\n",
    "                df_quantiles = _sel[['q50','q05','q25','q75','q95']]\n",
    "                # we just have to clip negative values .... there are still some although we tried to omit them by choosing the best frac ... \n",
    "                df_quantiles = df_quantiles.where(df_quantiles>=0, 0)\n",
    "                _sel_ice_eval = df_quantiles['q50'].values\n",
    "                _sel_ice_eval_bottom = df_quantiles['q05'].values\n",
    "                _sel_ice_eval_bottom_iqr = df_quantiles['q25'].values\n",
    "                _sel_ice_eval_top_iqr = df_quantiles['q75'].values\n",
    "                _sel_ice_eval_top = df_quantiles['q95'].values\n",
    "\n",
    "                ax_fit.plot(pd_fit_stats_reg_exp.loc[pd_fit_stats_reg_exp.year ==sim_year].deltaTemp,\n",
    "                         pd_fit_stats_reg_exp.loc[pd_fit_stats_reg_exp.year ==sim_year].q50, lw=3, color='green', alpha = 0.5, label='exponential fit')\n",
    "                ax_fit.plot(_sel.deltaTemp,\n",
    "                         _sel_ice_eval, lw=3, color='black', alpha = 1, label=f'lowess, frac={frac}')\n",
    "                ax_fit.fill_between(_sel.deltaTemp, _sel_ice_eval_bottom, _sel_ice_eval_top, lw=3, alpha=0.2, color=f'black', label='90% PI')\n",
    "                ax_fit.fill_between(_sel.deltaTemp, _sel_ice_eval_bottom_iqr, _sel_ice_eval_top_iqr, lw=3, alpha=0.4, color=f'black', label = '50% PI (IQR)')\n",
    "                \n",
    "                temp_eval_x = _sel.deltaTemp.values\n",
    "                sns.scatterplot(ax=ax_fit,\n",
    "                                data = pd_proj_2100_2300, #.loc[j], \n",
    "                                x='global_temp_ch_2071-2100_preindustrial', y=f'rel_ice_{sim_year}_{rgi_reg}',\n",
    "                                                style='model',\n",
    "                                hue='global_temp_ch_2071-2100_preindustrial',\n",
    "                                palette=cmap,      \n",
    "                                sizes=[150,150,150], size='model') #, legend=)\n",
    "                ax_fit.legend(fontsize=16, ncols=2)\n",
    "\n",
    "                ax_fit.set_xlabel('Temperature change between 1850-1900 & 2071-2100')\n",
    "                ax_fit.set_ylabel(f'% of Remaining Glacier Ice\\nin {sim_year} (relative to 2020)')\n",
    "\n",
    "                for j,temp_lev in enumerate(list(colors_temp_values.keys())):\n",
    "\n",
    "                    # for the annotation in the main plot ... \n",
    "                    if (temp_lev != '>4.0°C') and (temp_lev != '<=+4.0°C'):\n",
    "\n",
    "                        temp_lev_value = colors_temp_values[temp_lev]\n",
    "                        color= cmap(_scaler.transform(np.array([temp_lev_value]).reshape(-1,1))).flatten()\n",
    "                        idx_nearest = np.abs(temp_eval_x - temp_lev_value).argmin()\n",
    "                        if j >0:\n",
    "                            # check the previous fit, if they overlap, need to shift the text\n",
    "                            previous_fit = fit.copy()\n",
    "                        else:\n",
    "                            previous_fit = 10\n",
    "                            \n",
    "                            \n",
    "                        if previous_fit <4:\n",
    "                            shift = previous_fit-3.5\n",
    "                        else:\n",
    "                            shift = 0\n",
    "                        \n",
    "                        fit = _sel_ice_eval[idx_nearest]\n",
    "\n",
    "\n",
    "\n",
    "                        if sim_year == 2300:\n",
    "                            loc_2300_stats = 2300 +4 \n",
    "                        else:\n",
    "                            loc_2300_stats = 2100\n",
    "                        #if temp_lev_value>1.5:\n",
    "                        #    ax.vlines(loc_2300_stats,y_fitted[0], y_fitted[1], color=colors_temp[temp_lev], lw=15, alpha = 0.4)\n",
    "                        ax.hlines(fit,loc_2300_stats-3, loc_2300_stats+3, lw=8, color=color, zorder=10)\n",
    "\n",
    "                        if sim_year == 2300:\n",
    "                            bbox=dict(facecolor='white', edgecolor='white', boxstyle='round', alpha = 0.8)\n",
    "                            ax.annotate(temp_lev[2:], xy=(2300, fit),\n",
    "                                        xytext=(loc_2300_stats+delta_text, fit+shift),\n",
    "                                                    verticalalignment=\"center\",\n",
    "                                                    color=color, alpha=1, fontweight = 'bold', fontsize=18)\n",
    "                            _sel_temp_lev_qs = np.array([ _sel_ice_eval_bottom[idx_nearest],\n",
    "                                                         _sel_ice_eval_bottom_iqr[idx_nearest], _sel_ice_eval[idx_nearest],\n",
    "                                                         _sel_ice_eval_top_iqr[idx_nearest], _sel_ice_eval_top[idx_nearest]])\n",
    "                            if uncertainty == 'boxplot':\n",
    "                                boxplot_manual(qs= _sel_temp_lev_qs,\n",
    "                                               p = loc_2300_stats+7,\n",
    "                                               ax = ax, j=j*6, temp_val = temp_lev_value,\n",
    "                                               _scaler=_scaler,\n",
    "                                               )\n",
    "                np.testing.assert_allclose(temp_eval_x[::2], np.arange(1.4,6.3,0.1))\n",
    "                \n",
    "                lw = 3\n",
    "                if only_below45deg:\n",
    "                    temp_eval_x_sel = temp_eval_x[temp_eval_x<=4.5]\n",
    "                    _sel_ice_eval_sel = _sel_ice_eval[temp_eval_x<=4.5]\n",
    "                    colors_fit = cmap(_scaler.transform(temp_eval_x_sel[::2].reshape(-1,1))) # only every decile ... \n",
    "                    for c,f in zip(colors_fit, _sel_ice_eval_sel[::2]):\n",
    "                        ax.hlines(f,loc_2300_stats-1.5, loc_2300_stats+1.5, lw=lw, alpha = 0.5,\n",
    "                                   color=c, zorder=7)\n",
    "                else:\n",
    "                    colors_fit = cmap(_scaler.transform(temp_eval_x[::2].reshape(-1,1))) # only every decile ... \n",
    "                    for c,f in zip(colors_fit, _sel_ice_eval[::2]):\n",
    "                        ax.hlines(f,loc_2300_stats-1.5, loc_2300_stats+1.5, lw=lw, alpha = 0.5,\n",
    "                                   color=c, zorder=7)\n",
    "\n",
    "            ax.set_xlim([1997, xlim1])\n",
    "            if rgi_reg == 'RGI08':\n",
    "                ax_fit.set_ylim([-0.5, 120])\n",
    "\n",
    "            ax.set_xticks([2020,2100,2200,2300],[2020,2100,2200,2300])\n",
    "            ax.spines['right'].set_visible(False)\n",
    "            ax.spines['top'].set_visible(False)\n",
    "            \n",
    "            fig_fit.tight_layout()\n",
    "            if uncertainty == 'boxplot':\n",
    "                    fig_fit.savefig(f'v2023_figures/appendix_fit/lowess_predi_exp_fit_oggm_glogem_pygem_temp_levels_{rgi_reg}_v3.png')\n",
    "        \n",
    "        ax_f.text(2290,119, caption_text,  #transform=ax_f.transAxes,\n",
    "                                verticalalignment=\"top\", bbox=props, horizontalalignment='right',\n",
    "                                color='grey', alpha=1, fontweight = 'bold', fontsize=18)\n",
    "        \n",
    "\n",
    "        if uncertainty == 'boxplot':\n",
    "            qs = [99,103,109,113,120]\n",
    "            q_t = [f' 5%','25%','50%','75%', '95%']\n",
    "            boxplot_manual(qs= qs,\n",
    "                            p = 2300, ax = ax_f, j=0, temp_val = None)\n",
    "            for q,t in zip(qs,q_t):\n",
    "                ax_f.text(2303, q-1, t, color = 'grey', fontsize=15)\n",
    "            ax_f.set_xticks([2020,2100,2200,2300],[2020,2100,2200,2300])\n",
    "\n",
    "        fig.tight_layout()\n",
    "        # for every of the four large regions ... \n",
    "        if reg == 'Glaciers globally':\n",
    "            reg = 'Glaciers-globally'\n",
    "        if uncertainty== 'boxplot':\n",
    "            if only_below45deg:\n",
    "                if add_median:\n",
    "                    fig.savefig(f'v2023_figures/main_figures_with_uncertainties/median_glac_models/png/final_draft_icci_2023_below45deg/icci_report_2023_median_lowess_predi_oggm_glogem_pygem_temp_levels_{reg}_{uncertainty}_{vv}.png')\n",
    "                    fig.savefig(f'v2023_figures/main_figures_with_uncertainties/median_glac_models/svg/final_draft_icci_2023_below45deg/icci_report_2023_median_lowess_predi_oggm_glogem_pygem_temp_levels_{reg}_{uncertainty}_{vv}.svg')\n",
    "                else:\n",
    "                    fig.savefig(f'v2023_figures/main_figures_with_uncertainties/all_glac_models/png/final_draft_icci_2023_below45deg/icci_report_2023_lowess_predi_oggm_glogem_pygem_temp_levels_{reg}_{uncertainty}_{vv}.png')\n",
    "                    fig.savefig(f'v2023_figures/main_figures_with_uncertainties/all_glac_models/svg/final_draft_icci_2023_below45deg/icci_report_2023_lowess_predi_oggm_glogem_pygem_temp_levels_{reg}_{uncertainty}_{vv}.svg')\n",
    "            else:\n",
    "                if add_median:\n",
    "                    fig.savefig(f'v2023_figures/main_figures_with_uncertainties/median_glac_models/png/final_draft_icci_2023/icci_report_2023_median_lowess_predi_oggm_glogem_pygem_temp_levels_{reg}_{uncertainty}_{vv}.png')\n",
    "                    fig.savefig(f'v2023_figures/main_figures_with_uncertainties/median_glac_models/svg/final_draft_icci_2023/icci_report_2023_median_lowess_predi_oggm_glogem_pygem_temp_levels_{reg}_{uncertainty}_{vv}.svg')\n",
    "                else:\n",
    "                    fig.savefig(f'v2023_figures/main_figures_with_uncertainties/all_glac_models/png/final_draft_icci_2023/icci_report_2023_lowess_predi_oggm_glogem_pygem_temp_levels_{reg}_{uncertainty}_{vv}.png')\n",
    "                    fig.savefig(f'v2023_figures/main_figures_with_uncertainties/all_glac_models/svg/final_draft_icci_2023/icci_report_2023_lowess_predi_oggm_glogem_pygem_temp_levels_{reg}_{uncertainty}_{vv}.svg')\n",
    "                \n",
    "\n",
    "        plt.close()\n",
    "        plt.close()\n",
    "        plt.close()\n",
    "        plt.close()\n",
    "        plt.close()\n",
    "        plt.close()\n"
   ]
  },
  {
   "cell_type": "code",
   "execution_count": null,
   "id": "bf323904",
   "metadata": {},
   "outputs": [],
   "source": []
  },
  {
   "cell_type": "markdown",
   "id": "28d61a4f",
   "metadata": {},
   "source": [
    "**repeat for every single region**"
   ]
  },
  {
   "cell_type": "code",
   "execution_count": 45,
   "id": "b00e03bd",
   "metadata": {},
   "outputs": [
    {
     "name": "stderr",
     "output_type": "stream",
     "text": [
      "No artists with labels found to put in legend.  Note that artists whose label start with an underscore are ignored when legend() is called with no argument.\n"
     ]
    },
    {
     "name": "stdout",
     "output_type": "stream",
     "text": [
      "RGI16 0.41 0 0.5940125822019444 -0.009331074123102\n"
     ]
    },
    {
     "name": "stderr",
     "output_type": "stream",
     "text": [
      "No artists with labels found to put in legend.  Note that artists whose label start with an underscore are ignored when legend() is called with no argument.\n"
     ]
    },
    {
     "name": "stdout",
     "output_type": "stream",
     "text": [
      "RGI08 0.96 0 1.0382209879829225 0.0437381748806752\n"
     ]
    },
    {
     "name": "stderr",
     "output_type": "stream",
     "text": [
      "No artists with labels found to put in legend.  Note that artists whose label start with an underscore are ignored when legend() is called with no argument.\n"
     ]
    },
    {
     "name": "stdout",
     "output_type": "stream",
     "text": [
      "RGI11 0.51 0 0.4329462619194236 -0.0115070402162595\n"
     ]
    },
    {
     "name": "stderr",
     "output_type": "stream",
     "text": [
      "No artists with labels found to put in legend.  Note that artists whose label start with an underscore are ignored when legend() is called with no argument.\n"
     ]
    },
    {
     "name": "stdout",
     "output_type": "stream",
     "text": [
      "RGI02 0.46 0 0.0863687406451393 -0.0073848595658214\n"
     ]
    },
    {
     "name": "stderr",
     "output_type": "stream",
     "text": [
      "No artists with labels found to put in legend.  Note that artists whose label start with an underscore are ignored when legend() is called with no argument.\n"
     ]
    },
    {
     "name": "stdout",
     "output_type": "stream",
     "text": [
      "RGI18 0.86 0 2.421712130179934 0.0639439491791801\n"
     ]
    },
    {
     "name": "stderr",
     "output_type": "stream",
     "text": [
      "No artists with labels found to put in legend.  Note that artists whose label start with an underscore are ignored when legend() is called with no argument.\n"
     ]
    },
    {
     "name": "stdout",
     "output_type": "stream",
     "text": [
      "RGI06 0.99 0 21.31067898391548 0.075307676741005\n",
      "RGI06 problem\n",
      "RGI06 0.8 0 -1.6090488460476096 -0.2584169616942668\n"
     ]
    },
    {
     "name": "stderr",
     "output_type": "stream",
     "text": [
      "No artists with labels found to put in legend.  Note that artists whose label start with an underscore are ignored when legend() is called with no argument.\n"
     ]
    },
    {
     "name": "stdout",
     "output_type": "stream",
     "text": [
      "RGI13-14-15 0.99 0 8.45265502846896 0.0300477867204858\n",
      "RGI13-14-15 0.57 0 -0.0536211913880723 -0.3423459518639633\n"
     ]
    },
    {
     "name": "stderr",
     "output_type": "stream",
     "text": [
      "No artists with labels found to put in legend.  Note that artists whose label start with an underscore are ignored when legend() is called with no argument.\n"
     ]
    },
    {
     "name": "stdout",
     "output_type": "stream",
     "text": [
      "RGI01 0.99 0 24.468128333237928 0.0562669460517852\n",
      "RGI01 0.57 0 0.4378871108982666 -0.0461755604138239\n"
     ]
    },
    {
     "name": "stderr",
     "output_type": "stream",
     "text": [
      "No artists with labels found to put in legend.  Note that artists whose label start with an underscore are ignored when legend() is called with no argument.\n"
     ]
    },
    {
     "name": "stdout",
     "output_type": "stream",
     "text": [
      "RGI04 0.97 0 17.45129269512268 -0.2584482711844496\n",
      "RGI04 0.72 -0.5 -1.453974934319801 -0.1119918149230363\n"
     ]
    },
    {
     "name": "stderr",
     "output_type": "stream",
     "text": [
      "No artists with labels found to put in legend.  Note that artists whose label start with an underscore are ignored when legend() is called with no argument.\n"
     ]
    },
    {
     "name": "stdout",
     "output_type": "stream",
     "text": [
      "RGI17 0.99 0 16.27953236489871 0.3190121418276295\n"
     ]
    },
    {
     "name": "stderr",
     "output_type": "stream",
     "text": [
      "No artists with labels found to put in legend.  Note that artists whose label start with an underscore are ignored when legend() is called with no argument.\n"
     ]
    },
    {
     "name": "stdout",
     "output_type": "stream",
     "text": [
      "global 0.99 0 40.35323776152246 0.1281386443393088\n",
      "global 0.45 0 0.4881256712591804 -0.18261132766947\n"
     ]
    },
    {
     "name": "stderr",
     "output_type": "stream",
     "text": [
      "No artists with labels found to put in legend.  Note that artists whose label start with an underscore are ignored when legend() is called with no argument.\n"
     ]
    },
    {
     "name": "stdout",
     "output_type": "stream",
     "text": [
      "RGI03 problem\n",
      "RGI03 0.86 0 65.2129171468793 -0.379642069470087\n"
     ]
    },
    {
     "name": "stderr",
     "output_type": "stream",
     "text": [
      "No artists with labels found to put in legend.  Note that artists whose label start with an underscore are ignored when legend() is called with no argument.\n"
     ]
    },
    {
     "name": "stdout",
     "output_type": "stream",
     "text": [
      "RGI05 0.99 0 31.33411392714501 0.0360290568379184\n",
      "RGI05 0.64 0 -0.6349166509171063 -0.3024389572831554\n"
     ]
    },
    {
     "name": "stderr",
     "output_type": "stream",
     "text": [
      "No artists with labels found to put in legend.  Note that artists whose label start with an underscore are ignored when legend() is called with no argument.\n"
     ]
    },
    {
     "name": "stdout",
     "output_type": "stream",
     "text": [
      "RGI07 0.76 0 11.748008008139507 -0.0234831019352412\n"
     ]
    },
    {
     "name": "stderr",
     "output_type": "stream",
     "text": [
      "No artists with labels found to put in legend.  Note that artists whose label start with an underscore are ignored when legend() is called with no argument.\n"
     ]
    },
    {
     "name": "stdout",
     "output_type": "stream",
     "text": [
      "RGI09 0.99 0 32.842798576655184 -0.1408007488342377\n"
     ]
    },
    {
     "name": "stderr",
     "output_type": "stream",
     "text": [
      "No artists with labels found to put in legend.  Note that artists whose label start with an underscore are ignored when legend() is called with no argument.\n"
     ]
    },
    {
     "name": "stdout",
     "output_type": "stream",
     "text": [
      "RGI10 0.99 0 1.6764143761648478 0.0695534992579747\n",
      "RGI10 0.52 0 -0.6288899289452097 -0.2626732102131575\n"
     ]
    },
    {
     "name": "stderr",
     "output_type": "stream",
     "text": [
      "No artists with labels found to put in legend.  Note that artists whose label start with an underscore are ignored when legend() is called with no argument.\n"
     ]
    },
    {
     "name": "stdout",
     "output_type": "stream",
     "text": [
      "RGI12 0.7 0 0.8786420268992139 0.0240430667407689\n"
     ]
    },
    {
     "name": "stderr",
     "output_type": "stream",
     "text": [
      "No artists with labels found to put in legend.  Note that artists whose label start with an underscore are ignored when legend() is called with no argument.\n"
     ]
    },
    {
     "name": "stdout",
     "output_type": "stream",
     "text": [
      "RGI13 0.99 0 3.4005703198600625 0.0456394446257517\n",
      "RGI13 problem\n",
      "RGI13 0.8 -1.5 -3.487859736807667 -0.290466212611608\n"
     ]
    },
    {
     "name": "stderr",
     "output_type": "stream",
     "text": [
      "No artists with labels found to put in legend.  Note that artists whose label start with an underscore are ignored when legend() is called with no argument.\n"
     ]
    },
    {
     "name": "stdout",
     "output_type": "stream",
     "text": [
      "RGI14 0.99 0 16.40754998175739 0.0381533680331376\n"
     ]
    },
    {
     "name": "stderr",
     "output_type": "stream",
     "text": [
      "No artists with labels found to put in legend.  Note that artists whose label start with an underscore are ignored when legend() is called with no argument.\n"
     ]
    },
    {
     "name": "stdout",
     "output_type": "stream",
     "text": [
      "RGI15 0.78 0 1.3234315964212937 0.0325894930033283\n"
     ]
    },
    {
     "name": "stderr",
     "output_type": "stream",
     "text": [
      "No artists with labels found to put in legend.  Note that artists whose label start with an underscore are ignored when legend() is called with no argument.\n"
     ]
    },
    {
     "name": "stdout",
     "output_type": "stream",
     "text": [
      "RGI19 0.99 0 61.57731305368136 0.0930242333842912\n"
     ]
    }
   ],
   "source": [
    "v = 3\n",
    "vv = f'v{v}_below45deg'\n",
    "add_median = True\n",
    "only_below45deg = True\n",
    "#################################################\n",
    "_scaler = scaler_below45deg  \n",
    "if v==3:\n",
    "    cmap = cmap_icci_3\n",
    "elif v==4:\n",
    "    cmap = cmap_icci_below3deg # it was designed for below 3, but should also work below 4.5\n",
    "\n",
    "caption_text = 'colors describe global temperature\\nchange in 2100 from +1.4°C to +4.5°C'\n",
    "props = dict(boxstyle='round', facecolor='white', alpha=0.5)\n",
    "################################################################\n",
    "color_continuous = True\n",
    "decile_ticks = True\n",
    "plt.rc('font', size=26)\n",
    "it = 1\n",
    "frac_dict = {}\n",
    "for uncertainty in [ 'boxplot']: #, 'no_uncertainties']: # 'no_uncertainties',\n",
    "    if uncertainty == 'boxplot':\n",
    "        num_fits = 1000\n",
    "        delta_text = 23\n",
    "        xlim1 = 2327\n",
    "    else:\n",
    "        num_fits = 1000 \n",
    "        delta_text = 4\n",
    "        xlim1 = 2309\n",
    "\n",
    "    for reg in list(d_reg_num_name_icci_reg.keys()):\n",
    "        rgi_regs = d_reg_num_name_icci_reg[reg]\n",
    "        \n",
    "        len_sub_p = len(rgi_regs)\n",
    "\n",
    "        for jj,_rgi_reg in enumerate(rgi_regs): \n",
    "            fig, axs = plt.subplots(1,1, figsize=(12.5,25/3)) \n",
    "            axs = [axs]\n",
    "            # figure to show caption\n",
    "            ax_f = axs[0] \n",
    "            ax = axs[0]\n",
    "            \n",
    "            \n",
    "            list_index_l = []\n",
    "            err_l = []\n",
    "            for m in path_d.keys():\n",
    "                list_index_l.append(list(pd_cmip_temp_ch_2100.index + '_' + m))\n",
    "            pd_proj_2100_2300 = pd.DataFrame(index=np.concatenate(list_index_l))\n",
    "\n",
    "            if _rgi_reg !='global':\n",
    "                rgi_reg = f'RGI{_rgi_reg}'\n",
    "            else:\n",
    "                rgi_reg = _rgi_reg \n",
    "                \n",
    "            ####\n",
    "            pd_fit_stats_reg = pd_fit_stats.loc[pd_fit_stats.region == rgi_reg]\n",
    "            pd_fit_stats_reg_lowess = pd_fit_stats_reg.loc[pd_fit_stats_reg.fit_opt == 'lowess_predi']\n",
    "            pd_fit_stats_reg_exp = pd_fit_stats_reg.loc[pd_fit_stats_reg.fit_opt == 'exp']\n",
    "            sel_it = pd_fit_stats_reg_lowess # we don't have it anymore ... .loc[pd_fit_stats_reg_lowess.it ==it]\n",
    "\n",
    "            ######\n",
    "            fig_fit, axs_fit = plt.subplots(2,1, figsize=(15,20)) \n",
    "            \n",
    "            for end_year,ls in zip(['2300'],['-']):\n",
    "                #for temp_lev in colors_temp.keys():\n",
    "\n",
    "                for cmip in ['CMIP5','CMIP6']:\n",
    "                    pd_cmip = pd_cmip_temp_ch_2100_gcm_until_2300.loc[pd_cmip_temp_ch_2100_gcm_until_2300.ssp != 'ssp534-over']\n",
    "                    pd_cmip = pd_cmip.loc[pd_cmip.cmip == cmip]\n",
    "                    # check that there are temperature values in 2300 available ... \n",
    "                    pd_cmip = pd_cmip.loc[pd_cmip['global_temp_ch_2271-2300_preindustrial'].dropna().index]\n",
    "                    for gcm_scenario in pd_cmip.index:\n",
    "                        df_rel_l = []\n",
    "                        for m in path_d.keys():\n",
    "                            try:\n",
    "                                gcm, scenario = gcm_scenario.split('_')\n",
    "                                path = path_d[m]\n",
    "                                gcm_scenario_m = gcm_scenario + '_' + m\n",
    "                                n = len(gcm_scenario)\n",
    "                                if _rgi_reg == '13-14-15':\n",
    "                                    df = 0\n",
    "                                    for sub_rgi_reg in ['RGI13','RGI14','RGI15']:\n",
    "                                        idir = path + f'volume/{cmip}/{end_year}/{sub_rgi_reg}/'\n",
    "                                        _df = pd.read_csv(idir + f'{scenario}.csv', index_col=0)\n",
    "                                        _df.columns = [g.upper() for g in _df.columns]\n",
    "                                        _df = _df[gcm.upper()]\n",
    "                                        df += _df\n",
    "                                else:\n",
    "                                    idir = path  + f'volume/{cmip}/{end_year}/{rgi_reg}/'\n",
    "                                    df = pd.read_csv(idir + f'{scenario}.csv', index_col=0)\n",
    "                                    df.columns = [g.upper() for g in df.columns]\n",
    "                                    df = df[gcm.upper()]\n",
    "                                df = df.loc[2000:]\n",
    "                                # first do the rolling than the relative estimates .. \n",
    "                                df_roll = df.rolling(20, center=True, min_periods=1).mean().dropna()\n",
    "                                df_rel_roll = 100*df_roll/df_roll.loc[2020]                                    \n",
    "\n",
    "                                temp_ch = pd_cmip.loc[gcm_scenario, 'global_temp_ch_2071-2100_preindustrial']\n",
    "                                # if temp_ch < 3:\n",
    "                                #if only_below3deg:\n",
    "                                pd_proj_2100_2300.loc[gcm_scenario_m, 'global_temp_ch_2071-2100_preindustrial'] = temp_ch\n",
    "                                pd_proj_2100_2300.loc[gcm_scenario_m, f'rel_ice_2100_{rgi_reg}'] = df_rel_roll.loc[2100]\n",
    "\n",
    "                                color= cmap(_scaler.transform(temp_ch.reshape(-1,1))).flatten()\n",
    "                                if not add_median:\n",
    "                                    alpha = 0.2\n",
    "                                    ax.plot(df_rel_roll.loc[2020:2300].index, df_rel_roll.loc[2020:2300], lw=2, color=color,ls=ls, alpha = alpha) \n",
    "                                    ax.plot(df_rel_roll.loc[2000:2020].index, df_rel_roll.loc[2000:2020], lw=3, color='black', ls=ls, alpha = alpha)\n",
    "                                pd_proj_2100_2300.loc[gcm_scenario_m, f'rel_ice_2300_{rgi_reg}'] = df_rel_roll.loc[2300]\n",
    "                                pd_proj_2100_2300.loc[gcm_scenario_m, 'model'] = m\n",
    "\n",
    "                                df_rel_l.append(df_rel_roll.loc[2000:2300])\n",
    "                            except:\n",
    "                                pass\n",
    "                        if add_median:\n",
    "                            if len(df_rel_l) > 0:\n",
    "                                if (not only_below45deg) or (temp_ch<=4.5):\n",
    "                                    df_rel_med = pd.DataFrame(df_rel_l).T.median(axis=1)\n",
    "                                    ax.plot(df_rel_med.loc[2020:2300].index, df_rel_med.loc[2020:2300], lw=2, color=color,ls=ls, alpha = 0.3) \n",
    "                                    ax.plot(df_rel_med.loc[2000:2020].index, df_rel_med.loc[2000:2020], lw=2, color='black', ls=ls, alpha = 0.3)\n",
    "\n",
    "            ax.set_ylim([0,125])\n",
    "            ax.set_ylabel('% of Remaining Ice',# (relative to 2020)',\n",
    "                          fontweight = 'bold', fontsize=22)\n",
    "            \n",
    "            ax.set_xlabel('Year',  fontweight = 'bold', fontsize=22)\n",
    "            handles, labels = ax.get_legend_handles_labels()\n",
    "            for h in handles:\n",
    "                h.set_linewidth(3)\n",
    "            ax.legend(handles, labels,\n",
    "                          handlelength=1,\n",
    "                          title='Temperature change between 1850-1900 & 2071-2100:', ncol=5)\n",
    "            ax.legend().remove()\n",
    "\n",
    "            ax.set_title(d_reg_num_name_icci[_rgi_reg], fontweight='bold', fontsize=24)\n",
    "\n",
    "            pd_proj_2100_2300 = pd_proj_2100_2300.dropna()\n",
    "            assert len(pd_proj_2100_2300) == 60\n",
    "            for j,sim_year in enumerate([2100,2300]):\n",
    "                # choose a \"frac\" parameter and select the right fitting values \n",
    "                frac, _sel = select_frac_w_experts(sel_it, sim_year=sim_year)\n",
    "                frac_dict[f'{rgi_reg}_{sim_year}'] = frac\n",
    "                \n",
    "                ax_fit = axs_fit[j]\n",
    "                ax_fit.set_title(f'{d_reg_num_name_icci[_rgi_reg]}:  year {sim_year}', fontweight='bold')\n",
    "\n",
    "                # get the raw data ...\n",
    "                x = pd_proj_2100_2300['global_temp_ch_2071-2100_preindustrial']\n",
    "                y = pd_proj_2100_2300[f'rel_ice_{sim_year}_{rgi_reg}']\n",
    "                \n",
    "                t_min, t_max = x.min(), x.max()\n",
    "                if sim_year == 2100:\n",
    "                    delta_x = 0.002\n",
    "                else:\n",
    "                    delta_x = 0.001\n",
    "\n",
    "                df_quantiles = _sel[['q50','q05','q25','q75','q95']]\n",
    "                # we just have to clip negative values .... there are still some although we tried to omit them by choosing the best frac ... \n",
    "                df_quantiles = df_quantiles.where(df_quantiles>=0, 0)\n",
    "                _sel_ice_eval = df_quantiles['q50'].values\n",
    "                _sel_ice_eval_bottom = df_quantiles['q05'].values\n",
    "                _sel_ice_eval_bottom_iqr = df_quantiles['q25'].values\n",
    "                _sel_ice_eval_top_iqr = df_quantiles['q75'].values\n",
    "                _sel_ice_eval_top = df_quantiles['q95'].values\n",
    "\n",
    "                ax_fit.plot(pd_fit_stats_reg_exp.loc[pd_fit_stats_reg_exp.year ==sim_year].deltaTemp,\n",
    "                         pd_fit_stats_reg_exp.loc[pd_fit_stats_reg_exp.year ==sim_year].q50, lw=3, color='green', alpha = 0.5, label='exponential fit')\n",
    "                ax_fit.plot(_sel.deltaTemp,\n",
    "                         _sel_ice_eval, lw=3, color='black', alpha = 1, label=f'lowess, frac={frac}')\n",
    "                ax_fit.fill_between(_sel.deltaTemp, _sel_ice_eval_bottom, _sel_ice_eval_top, lw=3, alpha=0.2, color=f'black', label='90% PI')\n",
    "                ax_fit.fill_between(_sel.deltaTemp, _sel_ice_eval_bottom_iqr, _sel_ice_eval_top_iqr, lw=3, alpha=0.4, color=f'black', label = '50% PI (IQR)')\n",
    "                \n",
    "                temp_eval_x = _sel.deltaTemp.values\n",
    "                sns.scatterplot(ax=ax_fit,\n",
    "                                data = pd_proj_2100_2300, #.loc[j], \n",
    "                                x='global_temp_ch_2071-2100_preindustrial', y=f'rel_ice_{sim_year}_{rgi_reg}',\n",
    "                                                style='model',\n",
    "                                hue='global_temp_ch_2071-2100_preindustrial',\n",
    "                                palette=cmap,      \n",
    "                                sizes=[150,150,150], size='model') #, legend=)\n",
    "                ax_fit.legend(fontsize=16, ncols=2)\n",
    "\n",
    "                ax_fit.set_xlabel('Temperature change between 1850-1900 & 2071-2100')\n",
    "                ax_fit.set_ylabel(f'% of Remaining Glacier Ice\\nin {sim_year} (relative to 2020)')\n",
    "\n",
    "                for j,temp_lev in enumerate(list(colors_temp_values.keys())):\n",
    "\n",
    "                    # for the annotation in the main plot ... \n",
    "                    if (temp_lev != '>4.0°C') and (temp_lev != '<=+4.0°C'):\n",
    "\n",
    "                        temp_lev_value = colors_temp_values[temp_lev]\n",
    "                        color= cmap(_scaler.transform(np.array([temp_lev_value]).reshape(-1,1))).flatten()\n",
    "                        idx_nearest = np.abs(temp_eval_x - temp_lev_value).argmin()\n",
    "                        if j >0:\n",
    "                            # check the previous fit, if they overlap, need to shift the text\n",
    "                            previous_fit = fit.copy()\n",
    "                        else:\n",
    "                            previous_fit = 10\n",
    "                            \n",
    "                            \n",
    "                        if previous_fit <4:\n",
    "                            shift = previous_fit-3.5\n",
    "                        else:\n",
    "                            shift = 0\n",
    "                        \n",
    "                        fit = _sel_ice_eval[idx_nearest]\n",
    "\n",
    "\n",
    "\n",
    "                        if sim_year == 2300:\n",
    "                            loc_2300_stats = 2300 +4 \n",
    "                        else:\n",
    "                            loc_2300_stats = 2100\n",
    "                        #if temp_lev_value>1.5:\n",
    "                        #    ax.vlines(loc_2300_stats,y_fitted[0], y_fitted[1], color=colors_temp[temp_lev], lw=15, alpha = 0.4)\n",
    "                        ax.hlines(fit,loc_2300_stats-3, loc_2300_stats+3, lw=8, color=color, zorder=10)\n",
    "\n",
    "                        if sim_year == 2300:\n",
    "                            bbox=dict(facecolor='white', edgecolor='white', boxstyle='round', alpha = 0.8)\n",
    "                            ax.annotate(temp_lev[2:], xy=(2300, fit),\n",
    "                                        xytext=(loc_2300_stats+delta_text, fit+shift),\n",
    "                                                    verticalalignment=\"center\",\n",
    "                                                    color=color, alpha=1, fontweight = 'bold', fontsize=18)\n",
    "                            _sel_temp_lev_qs = np.array([ _sel_ice_eval_bottom[idx_nearest],\n",
    "                                                         _sel_ice_eval_bottom_iqr[idx_nearest], _sel_ice_eval[idx_nearest],\n",
    "                                                         _sel_ice_eval_top_iqr[idx_nearest], _sel_ice_eval_top[idx_nearest]])\n",
    "                            if uncertainty == 'boxplot':\n",
    "                                boxplot_manual(qs= _sel_temp_lev_qs,\n",
    "                                               p = loc_2300_stats+7,\n",
    "                                               ax = ax, j=j*6, temp_val = temp_lev_value,\n",
    "                                               _scaler=_scaler,\n",
    "                                               )\n",
    "                np.testing.assert_allclose(temp_eval_x[::2], np.arange(1.4,6.3,0.1))\n",
    "                \n",
    "                lw = 3\n",
    "                if only_below45deg:\n",
    "                    temp_eval_x_sel = temp_eval_x[temp_eval_x<=4.5]\n",
    "                    _sel_ice_eval_sel = _sel_ice_eval[temp_eval_x<=4.5]\n",
    "                    colors_fit = cmap(_scaler.transform(temp_eval_x_sel[::2].reshape(-1,1))) # only every decile ... \n",
    "                    for c,f in zip(colors_fit, _sel_ice_eval_sel[::2]):\n",
    "                        ax.hlines(f,loc_2300_stats-1.5, loc_2300_stats+1.5, lw=lw, alpha = 0.5,\n",
    "                                   color=c, zorder=7)\n",
    "                else:\n",
    "                    colors_fit = cmap(_scaler.transform(temp_eval_x[::2].reshape(-1,1))) # only every decile ... \n",
    "                    for c,f in zip(colors_fit, _sel_ice_eval[::2]):\n",
    "                        ax.hlines(f,loc_2300_stats-1.5, loc_2300_stats+1.5, lw=lw, alpha = 0.5,\n",
    "                                   color=c, zorder=7)\n",
    "\n",
    "            ax.set_xlim([1997, xlim1])\n",
    "            if rgi_reg == 'RGI08':\n",
    "                ax_fit.set_ylim([-0.5, 120])\n",
    "\n",
    "            ax.set_xticks([2020,2100,2200,2300],[2020,2100,2200,2300])\n",
    "            ax.spines['right'].set_visible(False)\n",
    "            ax.spines['top'].set_visible(False)\n",
    "            \n",
    "            #ax_f.text(2290,119, caption_text,  #transform=ax_f.transAxes,\n",
    "            #            verticalalignment=\"top\", bbox=props, horizontalalignment='right',\n",
    "            #            color='grey', alpha=1, fontweight = 'bold', fontsize=18)\n",
    "            \n",
    "\n",
    "            fig.tight_layout()\n",
    "            if uncertainty== 'boxplot':\n",
    "                if add_median:\n",
    "                    fig.savefig(f'v2023_figures/main_figures_with_uncertainties/median_glac_models/png/icci_report_2023_median_lowess_predi_oggm_glogem_pygem_temp_levels_{rgi_reg}_{vv}_final_{uncertainty}.png')\n",
    "                    fig.savefig(f'v2023_figures/main_figures_with_uncertainties/median_glac_models/svg/icci_report_2023_median_lowess_predi_oggm_glogem_pygem_temp_levels_{rgi_reg}_{vv}_final_{uncertainty}.svg')\n",
    "\n",
    "\n",
    "            plt.close()\n",
    "            plt.close()\n",
    "            plt.close()\n",
    "            plt.close()\n",
    "            plt.close()\n",
    "            plt.close()\n"
   ]
  },
  {
   "cell_type": "code",
   "execution_count": null,
   "id": "1f2adfa8",
   "metadata": {},
   "outputs": [],
   "source": []
  },
  {
   "cell_type": "code",
   "execution_count": null,
   "id": "adb9d887",
   "metadata": {},
   "outputs": [],
   "source": []
  },
  {
   "cell_type": "markdown",
   "id": "41257524",
   "metadata": {},
   "source": [
    "### Old some other checks"
   ]
  },
  {
   "cell_type": "code",
   "execution_count": 61,
   "id": "7b403899",
   "metadata": {},
   "outputs": [
    {
     "name": "stdout",
     "output_type": "stream",
     "text": [
      "0.35 RGI16 -0.760643699402348 0.7600000000000005 -0.761960698358852 0.0020228495409952 0.0381786926738357\n",
      "0.95 RGI08 -0.0133381612731181 0.02 -0.0033727585556425 -0.0194944193027671 -0.1660472550030315\n",
      "0.8 RGI11 -0.2882249343312313 0.7900000000000005 -0.1665355601870256 -0.0166530028288747 -1.8135322844575616\n",
      "0.97 RGI02 -0.0668112543183777 0.20000000000000004 -0.0329958003550487 0.0942569718687187 -0.714569684132279\n",
      "0.41 RGI18 -1.1262397292353086 1.1200000000000008 -0.0165457309003222 -1.1262397292353086 0.0120141499051497\n",
      "0.8 RGI06 -0.1689932172761166 0.7500000000000004 -0.0615052678051349 0.924602637055692 -1.6090488460476096\n",
      "0.57 RGI13-14-15 -0.3423459518639633 0.4400000000000002 -0.3423459518639633 -0.0502908458109736 -0.0536211913880723\n",
      "0.54 RGI01 -0.0461755604138239 0.15 -0.0650186944139499 0.0266234330999974 0.4545621735883686\n",
      "0.97 RGI04 -0.0288227257040212 0.09999999999999999 -0.0012606868150747 0.2063598978217087 -0.4131474069450779\n",
      "0.43 RGI17 -0.3464151442898471 0.35000000000000014 -0.3568757993417772 -0.3225331531823912 0.0086394260179012\n",
      "0.37 global -0.18261132766947 0.18000000000000002 -0.1857867606668427 0.0056993210271052 0.454384797387198\n"
     ]
    },
    {
     "data": {
      "image/png": "[encoded data removed]",
      "text/plain": [
       "<Figure size 1400x800 with 1 Axes>"
      ]
     },
     "metadata": {},
     "output_type": "display_data"
    },
    {
     "data": {
      "image/png": "[encoded data removed]",
      "text/plain": [
       "<Figure size 1400x800 with 1 Axes>"
      ]
     },
     "metadata": {},
     "output_type": "display_data"
    },
    {
     "data": {
      "image/png": "[encoded data removed]",
      "text/plain": [
       "<Figure size 1400x800 with 1 Axes>"
      ]
     },
     "metadata": {},
     "output_type": "display_data"
    },
    {
     "data": {
      "image/png": "[encoded data removed]",
      "text/plain": [
       "<Figure size 1400x800 with 1 Axes>"
      ]
     },
     "metadata": {},
     "output_type": "display_data"
    },
    {
     "data": {
      "image/png": "[encoded data removed]",
      "text/plain": [
       "<Figure size 1400x800 with 1 Axes>"
      ]
     },
     "metadata": {},
     "output_type": "display_data"
    },
    {
     "data": {
      "image/png": "[encoded data removed]",
      "text/plain": [
       "<Figure size 1400x800 with 1 Axes>"
      ]
     },
     "metadata": {},
     "output_type": "display_data"
    },
    {
     "data": {
      "image/png": "[encoded data removed]",
      "text/plain": [
       "<Figure size 1400x800 with 1 Axes>"
      ]
     },
     "metadata": {},
     "output_type": "display_data"
    },
    {
     "data": {
      "image/png": "[encoded data removed]",
      "text/plain": [
       "<Figure size 1400x800 with 1 Axes>"
      ]
     },
     "metadata": {},
     "output_type": "display_data"
    },
    {
     "data": {
      "image/png": "[encoded data removed]",
      "text/plain": [
       "<Figure size 1400x800 with 1 Axes>"
      ]
     },
     "metadata": {},
     "output_type": "display_data"
    },
    {
     "data": {
      "image/png": "[encoded data removed]",
      "text/plain": [
       "<Figure size 1400x800 with 1 Axes>"
      ]
     },
     "metadata": {},
     "output_type": "display_data"
    },
    {
     "data": {
      "image/png": "[encoded data removed]",
      "text/plain": [
       "<Figure size 1400x800 with 1 Axes>"
      ]
     },
     "metadata": {},
     "output_type": "display_data"
    }
   ],
   "source": [
    "                    \n",
    "sim_year = 2300\n",
    "for reg in list(d_reg_num_name_icci_reg.keys()):\n",
    "    rgi_regs = d_reg_num_name_icci_reg[reg]\n",
    "    #fig, axs = plt.subplots(3,2, figsize=(25,22)) #harey=True, sharex=True)\n",
    "    #fig_fit, axs_fit = plt.subplots(3,2, figsize=(25,22)) #harey=True, sharex=True)\n",
    "    #axs_fit = axs_fit.flatten()\n",
    "    #axs = axs.flatten()\n",
    "    len_sub_p = len(rgi_regs)\n",
    "\n",
    "    for jj,_rgi_reg in enumerate(rgi_regs): \n",
    "        list_index_l = []\n",
    "        err_l = []\n",
    "        for m in path_d.keys():\n",
    "            list_index_l.append(list(pd_cmip_temp_ch_2100.index + '_' + m))\n",
    "        pd_proj_2100_2300 = pd.DataFrame(index=np.concatenate(list_index_l))\n",
    "        #pd_proj_2100_2300 = pd.DataFrame(index=pd_cmip_temp_ch_2100.index)\n",
    "\n",
    "        if _rgi_reg !='global':\n",
    "            rgi_reg = f'RGI{_rgi_reg}'\n",
    "        else:\n",
    "            rgi_reg = _rgi_reg\n",
    "\n",
    "        pd_fit_stats_reg = pd_fit_stats.loc[pd_fit_stats.region == rgi_reg]\n",
    "        pd_fit_stats_reg_lowess = pd_fit_stats_reg.loc[pd_fit_stats_reg.fit_opt == 'lowess_predi']\n",
    "        pd_fit_stats_reg_exp = pd_fit_stats_reg.loc[pd_fit_stats_reg.fit_opt == 'exp']\n",
    "        sel_it = pd_fit_stats_reg_lowess # we don't have it anymore ... .loc[pd_fit_stats_reg_lowess.it ==it]\n",
    "\n",
    "        diff_min = 0\n",
    "        repeat = True\n",
    "        while repeat:\n",
    "            _sel = sel_it.loc[sel_it.year == sim_year].copy()\n",
    "            _sel_a = sel_it.loc[sel_it.year == sim_year].copy()\n",
    "\n",
    "            if diff_min == 0:\n",
    "                plt.figure()\n",
    "                plt.plot(_sel.frac, _sel.min_q05_diff,'x')\n",
    "                plt.plot(_sel.frac, _sel.min_q25_diff,'x')\n",
    "                plt.plot(_sel.frac, _sel.min_q50_diff,'x')\n",
    "                plt.plot(_sel.frac, _sel.min_q75_diff,'x')\n",
    "                plt.plot(_sel.frac, _sel.min_q95_diff,'x')\n",
    "            \n",
    "            \n",
    "            # also make sure to select a non-negative median\n",
    "            # this does NOT work in some regions, we will just clip negative values afterwards ... \n",
    "            _sel = _sel.loc[(_sel['min_q50']>= -2) | (_sel['min_q50'] >= _sel['min_q50'].max())]\n",
    "            \n",
    "            # first choose only those that have the lowest fraction \n",
    "            min_q_diff = _sel[['min_q05_diff','min_q25_diff','min_q50_diff','min_q75_diff','min_q95_diff']].min(axis=1)\n",
    "            _sel.loc[min_q_diff.index,'min_q_diff'] = min_q_diff.values\n",
    "            max_min_q_diff = _sel['min_q_diff'].max()\n",
    "\n",
    "            _sel = _sel.loc[_sel['min_q_diff'] >= max_min_q_diff-0.1]\n",
    "            \n",
    "            #if rgi_reg == 'global':\n",
    "            #    print(_sel['min_q50'].unique())\n",
    "            if diff_min == 0:\n",
    "                plt.title(rgi_reg)\n",
    "                plt.plot(_sel.frac, _sel.min_q05_diff,'o')\n",
    "                plt.plot(_sel.frac, _sel.min_q25_diff,'o')\n",
    "                plt.plot(_sel.frac, _sel.min_q50_diff,'o')\n",
    "                plt.plot(_sel.frac, _sel.min_q75_diff,'o')\n",
    "                plt.plot(_sel.frac, _sel.min_q95_diff,'o')\n",
    "                plt.axhline(max_min_q_diff)\n",
    "            _sel = _sel.loc[_sel.min_q50_diff>=-0.01-diff_min/5]\n",
    "            _sel = _sel.loc[_sel.min_q95_diff>=-0.01-diff_min]\n",
    "            _sel = _sel.loc[_sel.min_q75_diff>=-0.01-diff_min]\n",
    "            _sel = _sel.loc[_sel.min_q25_diff>=-0.01-diff_min]\n",
    "            _sel = _sel.loc[_sel.min_q05_diff>=-0.01-diff_min]\n",
    "\n",
    "            _val = _sel.min_q50.max() if _sel.min_q50.max() <=0 else 0\n",
    "            _sel = _sel.loc[_sel.min_q50 >=_val]\n",
    "            _val = _sel.min_q05.max() if _sel.min_q05.max()<=0 else 0\n",
    "            _sel = _sel.loc[_sel.min_q05 >=_val]\n",
    "            if len(_sel) == 97:\n",
    "                frac = np.round(_sel.frac.unique(),2)[0]\n",
    "                repeat = False\n",
    "\n",
    "            elif len(_sel)>97:\n",
    "                frac = np.round(_sel.frac.unique().max(),2)\n",
    "                repeat = False\n",
    "            else:\n",
    "                repeat = True\n",
    "                diff_min = diff_min + 0.01\n",
    "                if diff_min >=5:\n",
    "                    break\n",
    "                #    proble\n",
    "                #    #frac = np.round(_sel.frac.unique(),2)[0]\n",
    "                #    print('problem', rgi_reg, sim_year, #frac,\n",
    "                #          diff_min)\n",
    "        plt.axvline(frac, lw=3, color='black')\n",
    "        print(frac, rgi_reg, max_min_q_diff, diff_min, _sel.min_q05_diff.max(), _sel.min_q95_diff.max(), _sel.min_q50.min())\n",
    "        "
   ]
  },
  {
   "cell_type": "code",
   "execution_count": null,
   "id": "d017d6c2",
   "metadata": {},
   "outputs": [],
   "source": []
  }
 ],
 "metadata": {
  "kernelspec": {
   "display_name": "Python [conda env:oggm_gmip3_partA]",
   "language": "python",
   "name": "conda-env-oggm_gmip3_partA-py"
  },
  "language_info": {
   "codemirror_mode": {
    "name": "ipython",
    "version": 3
   },
   "file_extension": ".py",
   "mimetype": "text/x-python",
   "name": "python",
   "nbconvert_exporter": "python",
   "pygments_lexer": "ipython3",
   "version": "3.10.14"
  }
 },
 "nbformat": 4,
 "nbformat_minor": 5
}
